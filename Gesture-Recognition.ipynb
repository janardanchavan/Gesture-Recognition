{
 "cells": [
  {
   "cell_type": "markdown",
   "metadata": {},
   "source": [
    "# Gesture Recognition\n",
    "\n",
    "<strong>__Objective__</strong>\n",
    ">Imagine you are working as a data scientist at a home electronics company which manufactures state of the art `smart televisions`. You want to develop a cool feature in the smart-TV that can `recognise five different gestures` performed by the user which will help users control the TV without using a remote.\n",
    "\n",
    "In this group project, you are going to build a 3D Conv model that will be able to predict the 5 gestures correctly. Please import the following libraries to get started. Once you have completed the code you can download the notebook for making a submission."
   ]
  },
  {
   "cell_type": "code",
   "execution_count": 1,
   "metadata": {},
   "outputs": [],
   "source": [
    "import numpy as np\n",
    "import os\n",
    "from imageio import imread\n",
    "from skimage.transform import resize\n",
    "import datetime\n",
    "import os"
   ]
  },
  {
   "cell_type": "markdown",
   "metadata": {},
   "source": [
    "We set the random seed so that the results don't vary drastically."
   ]
  },
  {
   "cell_type": "code",
   "execution_count": 2,
   "metadata": {},
   "outputs": [],
   "source": [
    "np.random.seed(30)\n",
    "import random as rn\n",
    "rn.seed(30)\n",
    "from tensorflow import keras\n",
    "import tensorflow as tf\n",
    "tf.random.set_seed(30)"
   ]
  },
  {
   "cell_type": "markdown",
   "metadata": {},
   "source": [
    "In this block, you read the folder names for training and validation. You also set the `batch_size` here. Note that you set the batch size in such a way that you are able to use the GPU in full capacity. You keep increasing the batch size until the machine throws an error."
   ]
  },
  {
   "cell_type": "markdown",
   "metadata": {},
   "source": [
    "**data path: /home/datasets/Project_data**"
   ]
  },
  {
   "cell_type": "code",
   "execution_count": 3,
   "metadata": {},
   "outputs": [],
   "source": [
    "train_doc = np.random.permutation(open('/home/datasets/Project_data/train.csv').readlines())\n",
    "val_doc = np.random.permutation(open('/home/datasets/Project_data/val.csv').readlines())\n",
    "batch_size = 25 #experiment with the batch size"
   ]
  },
  {
   "cell_type": "markdown",
   "metadata": {},
   "source": [
    "**Let us create a function for cropping image**"
   ]
  },
  {
   "cell_type": "code",
   "execution_count": 4,
   "metadata": {},
   "outputs": [],
   "source": [
    "def crop_img(img, scale=1.0):\n",
    "    center_x,     center_y      = img.shape[1] / 2,             img.shape[0] / 2\n",
    "    width_scaled, height_scaled = img.shape[1] * scale,         img.shape[0] * scale\n",
    "    left_x,       right_x       = center_x - width_scaled / 2,  center_x + width_scaled / 2\n",
    "    top_y,        bottom_y      = center_y - height_scaled / 2, center_y + height_scaled / 2\n",
    "    \n",
    "    img_cropped = img[int(top_y):int(bottom_y), int(left_x):int(right_x)]\n",
    "    \n",
    "    return img_cropped"
   ]
  },
  {
   "cell_type": "markdown",
   "metadata": {},
   "source": [
    "## Generator-1\n",
    "This is one of the most important part of the code. The overall structure of the generator has been given. In the generator, you are going to preprocess the images as you have images of 2 different dimensions as well as create a batch of video frames. You have to experiment with `img_idx`, `y`,`z` and normalization such that you get high accuracy."
   ]
  },
  {
   "cell_type": "code",
   "execution_count": 5,
   "metadata": {},
   "outputs": [],
   "source": [
    "def generator(source_path, folder_list, batch_size):\n",
    "    print( 'Source path = ', source_path, '; batch size =', batch_size)\n",
    "    \n",
    "    # img_idx = #create a list of image numbers you want to use for a particular video\n",
    "    img_idx = list(range(0,29,2))\n",
    "    \n",
    "    while True:\n",
    "        t = np.random.permutation(folder_list)\n",
    "        # num_batches = # calculate the number of batches\n",
    "        num_batches = int(len(t)/batch_size)\n",
    "        \n",
    "        for batch in range(num_batches): # we iterate over the number of batches\n",
    "            # batch_data = np.zeros((batch_size,x,y,z,3)) # x is the number of images you use for each video, (y,z) is the final size of the input images and 3 is the number of channels RGB\n",
    "            batch_data = np.zeros((batch_size,18,64,64,3)) \n",
    "            batch_labels = np.zeros((batch_size,5)) # batch_labels is the one hot representation of the output\n",
    "            \n",
    "            for folder in range(batch_size): # iterate over the batch_size\n",
    "                imgs = os.listdir(source_path+'/'+ t[folder + (batch*batch_size)].split(';')[0]) # read all the images in the folder\n",
    "                \n",
    "                for idx,item in enumerate(img_idx): #  Iterate iver the frames/images of a folder to read them in\n",
    "                    #image = imread(source_path+'/'+ t[folder + (batch*batch_size)].strip().split(';')[0]+'/'+imgs[item]).astype(np.float32)\n",
    "                    image = cv2.imread(source_path+'/'+t[folder+(batch*batch_size)].strip().split(';')[0]+'/'+imgs[item],cv2.IMREAD_UNCHANGED).astype(np.float32)\n",
    "                    \n",
    "                    #crop the images and resize them. Note that the images are of 2 different shape \n",
    "                    #and the conv3D will throw error if the inputs in a batch have different shapes\n",
    "                    # Cropping Image\n",
    "                    image = crop_img(image, 0.10)\n",
    "                    # Resizing the image\n",
    "                    if image.shape[1] == 160:\n",
    "                        image = cv2.resize(image[:,20:140,:],(64,64),interpolation = cv2.INTER_AREA).astype(np.float32)\n",
    "                    else:\n",
    "                        image = cv2.resize(image,(64,64), interpolation = cv2.INTER_AREA).astype(np.float32)\n",
    "                    \n",
    "                    # Normalizing and feeding the image\n",
    "                    # batch_data[folder,idx,:,:,0] = #normalise and feed in the image\n",
    "                    # batch_data[folder,idx,:,:,1] = #normalise and feed in the image\n",
    "                    # batch_data[folder,idx,:,:,2] = #normalise and feed in the image\n",
    "                    batch_data[folder,idx,:,:,0] = (image[:,:,0])/255\n",
    "                    batch_data[folder,idx,:,:,1] = (image[:,:,1])/255\n",
    "                    batch_data[folder,idx,:,:,2] = (image[:,:,2])/255\n",
    "                    \n",
    "                batch_labels[folder, int(t[folder + (batch*batch_size)].strip().split(';')[2])] = 1\n",
    "            yield batch_data, batch_labels #you yield the batch_data and the batch_labels, remember what does yield do\n",
    "\n",
    "        \n",
    "        # write the code for the remaining data points which are left after full batches\n",
    "        if (len(t)%batch_size) != 0:\n",
    "            batch_data   = np.zeros((len(t)%batch_size,18,64,64,3))\n",
    "            batch_labels = np.zeros((len(t)%batch_size, 5))\n",
    "            \n",
    "            for folder in range(len(t)%batch_size):\n",
    "                imgs = os.listdir(source_path+'/'+t[folder+(num_batches*batch_size)].split(';')[0])\n",
    "                for idx, item in enumerate(img_idx):\n",
    "                    image = cv2.imread(source_path+'/'+t[folder+(num_batches*batch_size)].strip().split(';')[0]+'/'+imgs[item],cv2.IMREAD_UNCHANGED).astype(np.float32)\n",
    "                    \n",
    "                    # Cropping image\n",
    "                    image = crop_img(image, 0.1)\n",
    "                    \n",
    "                    # Resizing image\n",
    "                    if image.shape[1] == 160:\n",
    "                        image = cv2.resize(image[:,20:140,:],(64,64),interpolation = cv2.INTER_AREA).astype(np.float32)\n",
    "                    else:\n",
    "                        image = cv2.resize(image,(64,64),interpolation = cv2.INTER_AREA).astype(np.float32)\n",
    "                        \n",
    "                    # Normalizing and feeding the image\n",
    "                    batch_data[folder,idx,:,:,0] = (image[:,:,0])/255\n",
    "                    batch_data[folder,idx,:,:,1] = (image[:,:,1])/255\n",
    "                    batch_data[folder,idx,:,:,2] = (image[:,:,2])/255\n",
    "                    \n",
    "                batch_labels[folder, int(t[folder+(num_batches*batch_size)].strip().split(';')[2])] = 1\n",
    "            yield batch_data, batch_labels\n"
   ]
  },
  {
   "cell_type": "markdown",
   "metadata": {},
   "source": [
    "Note here that a video is represented above in the generator as (number of images, height, width, number of channels). Take this into consideration while creating the model architecture."
   ]
  },
  {
   "cell_type": "code",
   "execution_count": 6,
   "metadata": {},
   "outputs": [
    {
     "name": "stdout",
     "output_type": "stream",
     "text": [
      "# training sequences = 663\n",
      "# validation sequences = 100\n",
      "# epochs = 5\n",
      "# batch_size = 25\n"
     ]
    }
   ],
   "source": [
    "curr_dt_time = datetime.datetime.now()\n",
    "train_path = '/home/datasets/Project_data/train'\n",
    "val_path = '/home/datasets/Project_data/val'\n",
    "num_train_sequences = len(train_doc)\n",
    "print('# training sequences =', num_train_sequences)\n",
    "num_val_sequences = len(val_doc)\n",
    "print('# validation sequences =', num_val_sequences)\n",
    "num_epochs = 5 # choose the number of epochs\n",
    "print('# epochs =', num_epochs)\n",
    "print('# batch_size =',batch_size)"
   ]
  },
  {
   "cell_type": "markdown",
   "metadata": {},
   "source": [
    "## Model\n",
    "Here you make the model using different functionalities that Keras provides. Remember to use `Conv3D` and `MaxPooling3D` and not `Conv2D` and `Maxpooling2D` for a 3D convolution model. You would want to use `TimeDistributed` while building a Conv2D + RNN model. Also remember that the last layer is the softmax. Design the network in such a way that the model is able to give good accuracy on the least number of parameters so that it can fit in the memory of the webcam."
   ]
  },
  {
   "cell_type": "code",
   "execution_count": null,
   "metadata": {},
   "outputs": [],
   "source": [
    "# Additional libraries\n",
    "# from keras.models import Sequential, Model\n",
    "# from keras.layers import Dense, GRU, Flatten, TimeDistributed, Flatten, BatchNormalization, Activation, Dropout, ZeroPadding3D\n",
    "# from keras.layers.convolutional import Conv2D, Conv3D, MaxPooling2D, MaxPooling3D\n",
    "# from keras.callbacks import ModelCheckpoint, ReduceLROnPlateau\n",
    "# from keras.losses import categorical_crossentropy\n",
    "# from keras import optimizers\n",
    "# #from keras.optimizers import Adam, SGD\n",
    "# from keras.layers.recurrent import GRU, LSTM\n"
   ]
  },
  {
   "cell_type": "code",
   "execution_count": 7,
   "metadata": {},
   "outputs": [],
   "source": [
    "import cv2\n",
    "\n",
    "from tensorflow.keras.models import Sequential\n",
    "from tensorflow.keras.layers import Dense, GRU, LSTM, Dropout, Flatten, BatchNormalization, Activation\n",
    "from tensorflow.keras.layers import Conv2D, Conv3D, MaxPooling2D, MaxPooling3D, TimeDistributed\n",
    "from tensorflow.keras.callbacks import ModelCheckpoint, ReduceLROnPlateau\n",
    "from tensorflow.keras import optimizers\n",
    "\n",
    "import matplotlib.pyplot as plt\n",
    "\n",
    "#write your model here"
   ]
  },
  {
   "cell_type": "markdown",
   "metadata": {},
   "source": [
    "## Building first model - 3D Conv Model\n",
    "\n",
    "In the first model, not using dropouts in the Conv Layer with batch normalization. <br/>\n",
    "Input size is considered as 64x64."
   ]
  },
  {
   "cell_type": "code",
   "execution_count": 8,
   "metadata": {},
   "outputs": [
    {
     "name": "stderr",
     "output_type": "stream",
     "text": [
      "2023-11-27 04:52:06.850447: W tensorflow/core/common_runtime/gpu/gpu_bfc_allocator.cc:39] Overriding allow_growth setting because the TF_FORCE_GPU_ALLOW_GROWTH environment variable is set. Original config value was 0.\n",
      "2023-11-27 04:52:06.850512: I tensorflow/core/common_runtime/gpu/gpu_device.cc:1525] Created device /job:localhost/replica:0/task:0/device:GPU:0 with 14806 MB memory:  -> device: 0, name: Quadro RTX 5000, pci bus id: 0000:3d:00.0, compute capability: 7.5\n"
     ]
    }
   ],
   "source": [
    "model1 = Sequential()\n",
    "\n",
    "model1.add(Conv3D(8,(3,3,3), padding='same', input_shape=(18,64,64,3)))\n",
    "model1.add(Activation('relu'))\n",
    "model1.add(BatchNormalization())\n",
    "model1.add(MaxPooling3D(pool_size=(2,2,2)))\n",
    "\n",
    "model1.add(Conv3D(16,(3,3,3), padding='same'))\n",
    "model1.add(Activation('relu'))\n",
    "model1.add(BatchNormalization())\n",
    "model1.add(MaxPooling3D(pool_size=(2,2,2)))\n",
    "\n",
    "model1.add(Conv3D(32,(3,3,3), padding='same'))\n",
    "model1.add(BatchNormalization())\n",
    "model1.add(Activation('relu'))\n",
    "model1.add(MaxPooling3D(pool_size=(2,2,2)))\n",
    "\n",
    "model1.add(Conv3D(64,(3,3,3), padding='same'))\n",
    "model1.add(Activation('relu'))\n",
    "model1.add(BatchNormalization())\n",
    "model1.add(MaxPooling3D(pool_size=(2,2,2)))\n",
    "\n",
    "model1.add(Flatten())\n",
    "model1.add(Dense(64, activation='relu'))\n",
    "model1.add(BatchNormalization())\n",
    "model1.add(Dropout(0.25))\n",
    "\n",
    "model1.add(Dense(64, activation='relu'))\n",
    "model1.add(BatchNormalization())\n",
    "model1.add(Dropout(0.25))\n",
    "\n",
    "model1.add(Dense(5, activation='softmax'))"
   ]
  },
  {
   "cell_type": "markdown",
   "metadata": {},
   "source": [
    "Now that you have written the model, the next step is to `compile` the model. When you print the `summary` of the model, you'll see the total number of parameters you have to train."
   ]
  },
  {
   "cell_type": "code",
   "execution_count": 9,
   "metadata": {
    "scrolled": true
   },
   "outputs": [
    {
     "name": "stdout",
     "output_type": "stream",
     "text": [
      "Model: \"sequential\"\n",
      "_________________________________________________________________\n",
      " Layer (type)                Output Shape              Param #   \n",
      "=================================================================\n",
      " conv3d (Conv3D)             (None, 18, 64, 64, 8)     656       \n",
      "                                                                 \n",
      " activation (Activation)     (None, 18, 64, 64, 8)     0         \n",
      "                                                                 \n",
      " batch_normalization (BatchN  (None, 18, 64, 64, 8)    32        \n",
      " ormalization)                                                   \n",
      "                                                                 \n",
      " max_pooling3d (MaxPooling3D  (None, 9, 32, 32, 8)     0         \n",
      " )                                                               \n",
      "                                                                 \n",
      " conv3d_1 (Conv3D)           (None, 9, 32, 32, 16)     3472      \n",
      "                                                                 \n",
      " activation_1 (Activation)   (None, 9, 32, 32, 16)     0         \n",
      "                                                                 \n",
      " batch_normalization_1 (Batc  (None, 9, 32, 32, 16)    64        \n",
      " hNormalization)                                                 \n",
      "                                                                 \n",
      " max_pooling3d_1 (MaxPooling  (None, 4, 16, 16, 16)    0         \n",
      " 3D)                                                             \n",
      "                                                                 \n",
      " conv3d_2 (Conv3D)           (None, 4, 16, 16, 32)     13856     \n",
      "                                                                 \n",
      " batch_normalization_2 (Batc  (None, 4, 16, 16, 32)    128       \n",
      " hNormalization)                                                 \n",
      "                                                                 \n",
      " activation_2 (Activation)   (None, 4, 16, 16, 32)     0         \n",
      "                                                                 \n",
      " max_pooling3d_2 (MaxPooling  (None, 2, 8, 8, 32)      0         \n",
      " 3D)                                                             \n",
      "                                                                 \n",
      " conv3d_3 (Conv3D)           (None, 2, 8, 8, 64)       55360     \n",
      "                                                                 \n",
      " activation_3 (Activation)   (None, 2, 8, 8, 64)       0         \n",
      "                                                                 \n",
      " batch_normalization_3 (Batc  (None, 2, 8, 8, 64)      256       \n",
      " hNormalization)                                                 \n",
      "                                                                 \n",
      " max_pooling3d_3 (MaxPooling  (None, 1, 4, 4, 64)      0         \n",
      " 3D)                                                             \n",
      "                                                                 \n",
      " flatten (Flatten)           (None, 1024)              0         \n",
      "                                                                 \n",
      " dense (Dense)               (None, 64)                65600     \n",
      "                                                                 \n",
      " batch_normalization_4 (Batc  (None, 64)               256       \n",
      " hNormalization)                                                 \n",
      "                                                                 \n",
      " dropout (Dropout)           (None, 64)                0         \n",
      "                                                                 \n",
      " dense_1 (Dense)             (None, 64)                4160      \n",
      "                                                                 \n",
      " batch_normalization_5 (Batc  (None, 64)               256       \n",
      " hNormalization)                                                 \n",
      "                                                                 \n",
      " dropout_1 (Dropout)         (None, 64)                0         \n",
      "                                                                 \n",
      " dense_2 (Dense)             (None, 5)                 325       \n",
      "                                                                 \n",
      "=================================================================\n",
      "Total params: 144,421\n",
      "Trainable params: 143,925\n",
      "Non-trainable params: 496\n",
      "_________________________________________________________________\n",
      "None\n"
     ]
    }
   ],
   "source": [
    "# optimiser = #write your optimizer\n",
    "optimiser = optimizers.Adam(learning_rate=0.0002, decay=1e-6)\n",
    "# model.compile(optimizer=optimiser, loss='categorical_crossentropy', metrics=['categorical_accuracy'])\n",
    "model1.compile(optimizer=optimiser, loss='categorical_crossentropy', metrics=['categorical_accuracy'])\n",
    "print (model1.summary())"
   ]
  },
  {
   "cell_type": "markdown",
   "metadata": {},
   "source": [
    "Let us create the `train_generator` and the `val_generator` which will be used in `.fit` generator."
   ]
  },
  {
   "cell_type": "code",
   "execution_count": 10,
   "metadata": {},
   "outputs": [],
   "source": [
    "train_generator = generator(train_path, train_doc, batch_size)\n",
    "val_generator = generator(val_path, val_doc, batch_size)"
   ]
  },
  {
   "cell_type": "code",
   "execution_count": 11,
   "metadata": {},
   "outputs": [],
   "source": [
    "model_name = 'model1_init' + '_' + str(curr_dt_time).replace(' ','').replace(':','_') + '/'\n",
    "    \n",
    "if not os.path.exists(model_name):\n",
    "    os.mkdir(model_name)\n",
    "        \n",
    "filepath = model_name + 'model1-{epoch:05d}-{loss:.5f}-{categorical_accuracy:.5f}-{loss:.5f}-{categorical_accuracy:.5f}.h5'\n",
    "\n",
    "# WARNING:tensorflow:`period` argument is deprecated. Please use `save_freq` to specify the frequency in number of batches seen or at the end of each epoch.\n",
    "checkpoint = ModelCheckpoint(filepath, monitor='loss', verbose=1, save_best_only=False, save_weights_only=False, mode='auto',save_freq = 'epoch')\n",
    "\n",
    "# LR = # write the REducelronplateau code here\n",
    "LR = ReduceLROnPlateau(Monitor='val_los', factor=0.2, patience=3, verbose=1)\n",
    "\n",
    "callbacks_list = [checkpoint, LR]"
   ]
  },
  {
   "cell_type": "markdown",
   "metadata": {},
   "source": [
    "The `steps_per_epoch` and `validation_steps` are used by `.fit` generator method to decide the number of next() calls it need to make."
   ]
  },
  {
   "cell_type": "code",
   "execution_count": 12,
   "metadata": {},
   "outputs": [],
   "source": [
    "if (num_train_sequences%batch_size) == 0:\n",
    "    steps_per_epoch = int(num_train_sequences/batch_size)\n",
    "else:\n",
    "    steps_per_epoch = (num_train_sequences//batch_size) + 1\n",
    "\n",
    "if (num_val_sequences%batch_size) == 0:\n",
    "    validation_steps = int(num_val_sequences/batch_size)\n",
    "else:\n",
    "    validation_steps = (num_val_sequences//batch_size) + 1"
   ]
  },
  {
   "cell_type": "markdown",
   "metadata": {},
   "source": [
    "Let us now fit the model. This will start training the model and with the help of the checkpoints, you'll be able to save the model at the end of each epoch."
   ]
  },
  {
   "cell_type": "code",
   "execution_count": 13,
   "metadata": {},
   "outputs": [
    {
     "name": "stdout",
     "output_type": "stream",
     "text": [
      "Source path =  /home/datasets/Project_data/train ; batch size = 25\n",
      "Epoch 1/5\n"
     ]
    },
    {
     "name": "stderr",
     "output_type": "stream",
     "text": [
      "2023-11-27 04:52:31.390218: I tensorflow/stream_executor/cuda/cuda_dnn.cc:377] Loaded cuDNN version 8302\n"
     ]
    },
    {
     "name": "stdout",
     "output_type": "stream",
     "text": [
      "27/27 [==============================] - ETA: 0s - loss: 2.2826 - categorical_accuracy: 0.2187Source path =  /home/datasets/Project_data/val ; batch size = 25\n",
      "\n",
      "Epoch 00001: saving model to model1_init_2023-11-2704_51_52.162506/model1-00001-2.28262-0.21870-2.28262-0.21870.h5\n",
      "27/27 [==============================] - 26s 854ms/step - loss: 2.2826 - categorical_accuracy: 0.2187 - val_loss: 1.6139 - val_categorical_accuracy: 0.2300 - lr: 2.0000e-04\n",
      "Epoch 2/5\n",
      "27/27 [==============================] - ETA: 0s - loss: 1.8574 - categorical_accuracy: 0.2926\n",
      "Epoch 00002: saving model to model1_init_2023-11-2704_51_52.162506/model1-00002-1.85739-0.29261-1.85739-0.29261.h5\n",
      "27/27 [==============================] - 20s 768ms/step - loss: 1.8574 - categorical_accuracy: 0.2926 - val_loss: 1.6492 - val_categorical_accuracy: 0.2300 - lr: 2.0000e-04\n",
      "Epoch 3/5\n",
      "27/27 [==============================] - ETA: 0s - loss: 1.6941 - categorical_accuracy: 0.3514\n",
      "Epoch 00003: saving model to model1_init_2023-11-2704_51_52.162506/model1-00003-1.69406-0.35143-1.69406-0.35143.h5\n",
      "27/27 [==============================] - 20s 755ms/step - loss: 1.6941 - categorical_accuracy: 0.3514 - val_loss: 1.6814 - val_categorical_accuracy: 0.2600 - lr: 2.0000e-04\n",
      "Epoch 4/5\n",
      "27/27 [==============================] - ETA: 0s - loss: 1.5454 - categorical_accuracy: 0.3786\n",
      "Epoch 00004: saving model to model1_init_2023-11-2704_51_52.162506/model1-00004-1.54544-0.37858-1.54544-0.37858.h5\n",
      "\n",
      "Epoch 00004: ReduceLROnPlateau reducing learning rate to 3.9999998989515007e-05.\n",
      "27/27 [==============================] - 20s 781ms/step - loss: 1.5454 - categorical_accuracy: 0.3786 - val_loss: 1.7021 - val_categorical_accuracy: 0.2300 - lr: 2.0000e-04\n",
      "Epoch 5/5\n",
      "27/27 [==============================] - ETA: 0s - loss: 1.5225 - categorical_accuracy: 0.4208\n",
      "Epoch 00005: saving model to model1_init_2023-11-2704_51_52.162506/model1-00005-1.52248-0.42081-1.52248-0.42081.h5\n",
      "27/27 [==============================] - 20s 764ms/step - loss: 1.5225 - categorical_accuracy: 0.4208 - val_loss: 1.7323 - val_categorical_accuracy: 0.2100 - lr: 4.0000e-05\n"
     ]
    }
   ],
   "source": [
    "# model.fit(train_generator, steps_per_epoch=steps_per_epoch, epochs=num_epochs, verbose=1, \n",
    "#                     callbacks=callbacks_list, validation_data=val_generator, \n",
    "#                     validation_steps=validation_steps, class_weight=None, workers=1, initial_epoch=0)\n",
    "\n",
    "history = model1.fit(train_generator, \n",
    "                     steps_per_epoch=steps_per_epoch, \n",
    "                     epochs=num_epochs, \n",
    "                     verbose=1, \n",
    "                     callbacks=callbacks_list, \n",
    "                     validation_data=val_generator, \n",
    "                     validation_steps=validation_steps, \n",
    "                     class_weight=None, \n",
    "                     workers=1, \n",
    "                     initial_epoch=0)"
   ]
  },
  {
   "cell_type": "markdown",
   "metadata": {},
   "source": [
    "**Let us plot the model1 result**"
   ]
  },
  {
   "cell_type": "code",
   "execution_count": 14,
   "metadata": {},
   "outputs": [
    {
     "data": {
      "image/png": "[encoded data removed]",
      "text/plain": [
       "<Figure size 432x288 with 1 Axes>"
      ]
     },
     "metadata": {
      "needs_background": "light"
     },
     "output_type": "display_data"
    },
    {
     "data": {
      "image/png": "[encoded data removed]",
      "text/plain": [
       "<Figure size 432x288 with 1 Axes>"
      ]
     },
     "metadata": {
      "needs_background": "light"
     },
     "output_type": "display_data"
    }
   ],
   "source": [
    "# Plotting model accuracy history\n",
    "plt.plot(history.history['categorical_accuracy'], 'o-')\n",
    "plt.plot(history.history['val_categorical_accuracy'], 'o-')\n",
    "plt.title('Model1 Accuracy')\n",
    "plt.ylabel('Accuracy')\n",
    "plt.xlabel('Epoch')\n",
    "plt.legend(['train', 'test'], loc='upper left')\n",
    "plt.show()\n",
    "\n",
    "# Plotting model loss history\n",
    "plt.plot(history.history['loss'], 'o-')\n",
    "plt.plot(history.history['val_loss'], 'o-')\n",
    "plt.title('model loss')\n",
    "plt.ylabel('loss')\n",
    "plt.xlabel('epoch')\n",
    "plt.legend(['train', 'test'], loc='upper left')\n",
    "plt.show()"
   ]
  },
  {
   "cell_type": "markdown",
   "metadata": {},
   "source": [
    "In our model we got the training accuracy of 42% and the validation accuracy of 21% only.\n",
    "\n",
    "## Building Second model - 3D Conv Model\n",
    "\n",
    "In the this model, not using dropouts in the Conv Layer with batch normalization. <br/>\n",
    "Input size is considered as 64x64. <br/>\n",
    "adam potimizer with learning rate of 0.0002, no decay. <br/>\n",
    "dropout updated to 0.50 from 0.25 in the 1st dense layer. <br/>"
   ]
  },
  {
   "cell_type": "code",
   "execution_count": 15,
   "metadata": {},
   "outputs": [],
   "source": [
    "batch_size = 30\n",
    "num_epochs = 20"
   ]
  },
  {
   "cell_type": "code",
   "execution_count": 16,
   "metadata": {},
   "outputs": [],
   "source": [
    "# Model Building\n",
    "model2 = Sequential()\n",
    "\n",
    "model2.add(Conv3D(8,(3,3,3), padding='same', input_shape=(18,64,64,3)))\n",
    "model2.add(Activation('relu'))\n",
    "model2.add(BatchNormalization())\n",
    "model2.add(MaxPooling3D(pool_size=(2,2,2)))\n",
    "\n",
    "model2.add(Conv3D(16,(3,3,3), padding='same'))\n",
    "model2.add(Activation('relu'))\n",
    "model2.add(BatchNormalization())\n",
    "model2.add(MaxPooling3D(pool_size=(2,2,2)))\n",
    "\n",
    "model2.add(Conv3D(32,(3,3,3), padding='same'))\n",
    "model2.add(BatchNormalization())\n",
    "model2.add(Activation('relu'))\n",
    "model2.add(MaxPooling3D(pool_size=(2,2,2)))\n",
    "\n",
    "model2.add(Conv3D(64,(3,3,3), padding='same'))\n",
    "model2.add(Activation('relu'))\n",
    "model2.add(BatchNormalization())\n",
    "model2.add(MaxPooling3D(pool_size=(2,2,2)))\n",
    "\n",
    "model2.add(Flatten())\n",
    "model2.add(Dense(64, activation='relu'))\n",
    "model2.add(BatchNormalization())\n",
    "model2.add(Dropout(0.50))\n",
    "\n",
    "model2.add(Dense(64, activation='relu'))\n",
    "model2.add(BatchNormalization())\n",
    "model2.add(Dropout(0.50))\n",
    "\n",
    "model2.add(Dense(5, activation='softmax'))"
   ]
  },
  {
   "cell_type": "code",
   "execution_count": 17,
   "metadata": {},
   "outputs": [
    {
     "name": "stdout",
     "output_type": "stream",
     "text": [
      "Model: \"sequential_1\"\n",
      "_________________________________________________________________\n",
      " Layer (type)                Output Shape              Param #   \n",
      "=================================================================\n",
      " conv3d_4 (Conv3D)           (None, 18, 64, 64, 8)     656       \n",
      "                                                                 \n",
      " activation_4 (Activation)   (None, 18, 64, 64, 8)     0         \n",
      "                                                                 \n",
      " batch_normalization_6 (Batc  (None, 18, 64, 64, 8)    32        \n",
      " hNormalization)                                                 \n",
      "                                                                 \n",
      " max_pooling3d_4 (MaxPooling  (None, 9, 32, 32, 8)     0         \n",
      " 3D)                                                             \n",
      "                                                                 \n",
      " conv3d_5 (Conv3D)           (None, 9, 32, 32, 16)     3472      \n",
      "                                                                 \n",
      " activation_5 (Activation)   (None, 9, 32, 32, 16)     0         \n",
      "                                                                 \n",
      " batch_normalization_7 (Batc  (None, 9, 32, 32, 16)    64        \n",
      " hNormalization)                                                 \n",
      "                                                                 \n",
      " max_pooling3d_5 (MaxPooling  (None, 4, 16, 16, 16)    0         \n",
      " 3D)                                                             \n",
      "                                                                 \n",
      " conv3d_6 (Conv3D)           (None, 4, 16, 16, 32)     13856     \n",
      "                                                                 \n",
      " batch_normalization_8 (Batc  (None, 4, 16, 16, 32)    128       \n",
      " hNormalization)                                                 \n",
      "                                                                 \n",
      " activation_6 (Activation)   (None, 4, 16, 16, 32)     0         \n",
      "                                                                 \n",
      " max_pooling3d_6 (MaxPooling  (None, 2, 8, 8, 32)      0         \n",
      " 3D)                                                             \n",
      "                                                                 \n",
      " conv3d_7 (Conv3D)           (None, 2, 8, 8, 64)       55360     \n",
      "                                                                 \n",
      " activation_7 (Activation)   (None, 2, 8, 8, 64)       0         \n",
      "                                                                 \n",
      " batch_normalization_9 (Batc  (None, 2, 8, 8, 64)      256       \n",
      " hNormalization)                                                 \n",
      "                                                                 \n",
      " max_pooling3d_7 (MaxPooling  (None, 1, 4, 4, 64)      0         \n",
      " 3D)                                                             \n",
      "                                                                 \n",
      " flatten_1 (Flatten)         (None, 1024)              0         \n",
      "                                                                 \n",
      " dense_3 (Dense)             (None, 64)                65600     \n",
      "                                                                 \n",
      " batch_normalization_10 (Bat  (None, 64)               256       \n",
      " chNormalization)                                                \n",
      "                                                                 \n",
      " dropout_2 (Dropout)         (None, 64)                0         \n",
      "                                                                 \n",
      " dense_4 (Dense)             (None, 64)                4160      \n",
      "                                                                 \n",
      " batch_normalization_11 (Bat  (None, 64)               256       \n",
      " chNormalization)                                                \n",
      "                                                                 \n",
      " dropout_3 (Dropout)         (None, 64)                0         \n",
      "                                                                 \n",
      " dense_5 (Dense)             (None, 5)                 325       \n",
      "                                                                 \n",
      "=================================================================\n",
      "Total params: 144,421\n",
      "Trainable params: 143,925\n",
      "Non-trainable params: 496\n",
      "_________________________________________________________________\n",
      "None\n"
     ]
    }
   ],
   "source": [
    "# Writing optimizer and compiling the model\n",
    "optimiser = optimizers.Adam(learning_rate=0.0002)\n",
    "model2.compile(optimizer=optimiser, loss='categorical_crossentropy', metrics=['categorical_accuracy'])\n",
    "print (model2.summary())"
   ]
  },
  {
   "cell_type": "markdown",
   "metadata": {},
   "source": [
    "Creating 'train_generator' and 'val_generator'."
   ]
  },
  {
   "cell_type": "code",
   "execution_count": 18,
   "metadata": {},
   "outputs": [],
   "source": [
    "train_generator = generator(train_path, train_doc, batch_size)\n",
    "val_generator = generator(val_path, val_doc, batch_size)"
   ]
  },
  {
   "cell_type": "code",
   "execution_count": 19,
   "metadata": {},
   "outputs": [],
   "source": [
    "model_name = 'model2_init' + '_' + str(curr_dt_time).replace(' ','').replace(':','_') + '/'\n",
    "    \n",
    "if not os.path.exists(model_name):\n",
    "    os.mkdir(model_name)\n",
    "        \n",
    "filepath = model_name + 'model2-{epoch:05d}-{loss:.5f}-{categorical_accuracy:.5f}-{loss:.5f}-{categorical_accuracy:.5f}.h5'\n",
    "\n",
    "checkpoint = ModelCheckpoint(filepath, monitor='loss', verbose=1, save_best_only=False, save_weights_only=False, mode='auto', save_freq='epoch')\n",
    "\n",
    "# write the REducelronplateau code here\n",
    "LR = ReduceLROnPlateau(monitor='val_loss', factor=0.2, patience=4, verbose =1 )\n",
    "\n",
    "callbacks_list = [checkpoint, LR]"
   ]
  },
  {
   "cell_type": "code",
   "execution_count": 20,
   "metadata": {},
   "outputs": [],
   "source": [
    "if (num_train_sequences%batch_size) == 0:\n",
    "    steps_per_epoch = int(num_train_sequences/batch_size)\n",
    "else:\n",
    "    steps_per_epoch = (num_train_sequences//batch_size) + 1\n",
    "\n",
    "if (num_val_sequences%batch_size) == 0:\n",
    "    validation_steps = int(num_val_sequences/batch_size)\n",
    "else:\n",
    "    validation_steps = (num_val_sequences//batch_size) + 1"
   ]
  },
  {
   "cell_type": "code",
   "execution_count": 21,
   "metadata": {},
   "outputs": [
    {
     "name": "stdout",
     "output_type": "stream",
     "text": [
      "Source path =  /home/datasets/Project_data/train ; batch size = 30\n",
      "Epoch 1/20\n",
      "23/23 [==============================] - ETA: 0s - loss: 2.4549 - categorical_accuracy: 0.2353Source path =  /home/datasets/Project_data/val ; batch size = 30\n",
      "\n",
      "Epoch 00001: saving model to model2_init_2023-11-2704_51_52.162506/model2-00001-2.45488-0.23529-2.45488-0.23529.h5\n",
      "23/23 [==============================] - 22s 946ms/step - loss: 2.4549 - categorical_accuracy: 0.2353 - val_loss: 1.6295 - val_categorical_accuracy: 0.2400 - lr: 2.0000e-04\n",
      "Epoch 2/20\n",
      "23/23 [==============================] - ETA: 0s - loss: 2.4378 - categorical_accuracy: 0.2549\n",
      "Epoch 00002: saving model to model2_init_2023-11-2704_51_52.162506/model2-00002-2.43781-0.25490-2.43781-0.25490.h5\n",
      "23/23 [==============================] - 20s 891ms/step - loss: 2.4378 - categorical_accuracy: 0.2549 - val_loss: 1.6557 - val_categorical_accuracy: 0.2100 - lr: 2.0000e-04\n",
      "Epoch 3/20\n",
      "22/23 [===========================>..] - ETA: 0s - loss: 2.2087 - categorical_accuracy: 0.2621\n",
      "Epoch 00003: saving model to model2_init_2023-11-2704_51_52.162506/model2-00003-2.20357-0.26395-2.20357-0.26395.h5\n",
      "23/23 [==============================] - 20s 899ms/step - loss: 2.2036 - categorical_accuracy: 0.2640 - val_loss: 1.7108 - val_categorical_accuracy: 0.1700 - lr: 2.0000e-04\n",
      "Epoch 4/20\n",
      "23/23 [==============================] - ETA: 0s - loss: 2.1380 - categorical_accuracy: 0.2956\n",
      "Epoch 00004: saving model to model2_init_2023-11-2704_51_52.162506/model2-00004-2.13801-0.29563-2.13801-0.29563.h5\n",
      "23/23 [==============================] - 19s 880ms/step - loss: 2.1380 - categorical_accuracy: 0.2956 - val_loss: 1.7946 - val_categorical_accuracy: 0.1400 - lr: 2.0000e-04\n",
      "Epoch 5/20\n",
      "23/23 [==============================] - ETA: 0s - loss: 2.2157 - categorical_accuracy: 0.2745\n",
      "Epoch 00005: saving model to model2_init_2023-11-2704_51_52.162506/model2-00005-2.21566-0.27451-2.21566-0.27451.h5\n",
      "\n",
      "Epoch 00005: ReduceLROnPlateau reducing learning rate to 3.9999998989515007e-05.\n",
      "23/23 [==============================] - 20s 898ms/step - loss: 2.2157 - categorical_accuracy: 0.2745 - val_loss: 1.8452 - val_categorical_accuracy: 0.1700 - lr: 2.0000e-04\n",
      "Epoch 6/20\n",
      "23/23 [==============================] - ETA: 0s - loss: 1.9454 - categorical_accuracy: 0.3213\n",
      "Epoch 00006: saving model to model2_init_2023-11-2704_51_52.162506/model2-00006-1.94541-0.32127-1.94541-0.32127.h5\n",
      "23/23 [==============================] - 20s 910ms/step - loss: 1.9454 - categorical_accuracy: 0.3213 - val_loss: 1.9485 - val_categorical_accuracy: 0.2200 - lr: 4.0000e-05\n",
      "Epoch 7/20\n",
      "23/23 [==============================] - ETA: 0s - loss: 1.9900 - categorical_accuracy: 0.3409\n",
      "Epoch 00007: saving model to model2_init_2023-11-2704_51_52.162506/model2-00007-1.99002-0.34087-1.99002-0.34087.h5\n",
      "23/23 [==============================] - 20s 894ms/step - loss: 1.9900 - categorical_accuracy: 0.3409 - val_loss: 1.9005 - val_categorical_accuracy: 0.1800 - lr: 4.0000e-05\n",
      "Epoch 8/20\n",
      "23/23 [==============================] - ETA: 0s - loss: 2.1983 - categorical_accuracy: 0.2866\n",
      "Epoch 00008: saving model to model2_init_2023-11-2704_51_52.162506/model2-00008-2.19827-0.28658-2.19827-0.28658.h5\n",
      "23/23 [==============================] - 19s 880ms/step - loss: 2.1983 - categorical_accuracy: 0.2866 - val_loss: 1.8910 - val_categorical_accuracy: 0.2300 - lr: 4.0000e-05\n",
      "Epoch 9/20\n",
      "23/23 [==============================] - ETA: 0s - loss: 2.0684 - categorical_accuracy: 0.3002\n",
      "Epoch 00009: saving model to model2_init_2023-11-2704_51_52.162506/model2-00009-2.06837-0.30015-2.06837-0.30015.h5\n",
      "\n",
      "Epoch 00009: ReduceLROnPlateau reducing learning rate to 7.999999797903002e-06.\n",
      "23/23 [==============================] - 20s 914ms/step - loss: 2.0684 - categorical_accuracy: 0.3002 - val_loss: 1.9890 - val_categorical_accuracy: 0.2500 - lr: 4.0000e-05\n",
      "Epoch 10/20\n",
      "23/23 [==============================] - ETA: 0s - loss: 1.9842 - categorical_accuracy: 0.3152\n",
      "Epoch 00010: saving model to model2_init_2023-11-2704_51_52.162506/model2-00010-1.98415-0.31523-1.98415-0.31523.h5\n",
      "23/23 [==============================] - 20s 911ms/step - loss: 1.9842 - categorical_accuracy: 0.3152 - val_loss: 1.8989 - val_categorical_accuracy: 0.2800 - lr: 8.0000e-06\n",
      "Epoch 11/20\n",
      "22/23 [===========================>..] - ETA: 0s - loss: 2.0258 - categorical_accuracy: 0.3303\n",
      "Epoch 00011: saving model to model2_init_2023-11-2704_51_52.162506/model2-00011-2.03061-0.32881-2.03061-0.32881.h5\n",
      "23/23 [==============================] - 20s 896ms/step - loss: 2.0306 - categorical_accuracy: 0.3288 - val_loss: 2.0205 - val_categorical_accuracy: 0.2400 - lr: 8.0000e-06\n",
      "Epoch 12/20\n",
      "23/23 [==============================] - ETA: 0s - loss: 1.9865 - categorical_accuracy: 0.3077\n",
      "Epoch 00012: saving model to model2_init_2023-11-2704_51_52.162506/model2-00012-1.98654-0.30769-1.98654-0.30769.h5\n",
      "23/23 [==============================] - 20s 886ms/step - loss: 1.9865 - categorical_accuracy: 0.3077 - val_loss: 1.9960 - val_categorical_accuracy: 0.2400 - lr: 8.0000e-06\n",
      "Epoch 13/20\n",
      "23/23 [==============================] - ETA: 0s - loss: 1.9729 - categorical_accuracy: 0.3122\n",
      "Epoch 00013: saving model to model2_init_2023-11-2704_51_52.162506/model2-00013-1.97292-0.31222-1.97292-0.31222.h5\n",
      "\n",
      "Epoch 00013: ReduceLROnPlateau reducing learning rate to 1.5999999959603884e-06.\n",
      "23/23 [==============================] - 20s 926ms/step - loss: 1.9729 - categorical_accuracy: 0.3122 - val_loss: 1.9813 - val_categorical_accuracy: 0.2300 - lr: 8.0000e-06\n",
      "Epoch 14/20\n",
      "23/23 [==============================] - ETA: 0s - loss: 2.0762 - categorical_accuracy: 0.3137\n",
      "Epoch 00014: saving model to model2_init_2023-11-2704_51_52.162506/model2-00014-2.07618-0.31373-2.07618-0.31373.h5\n",
      "23/23 [==============================] - 20s 905ms/step - loss: 2.0762 - categorical_accuracy: 0.3137 - val_loss: 1.9545 - val_categorical_accuracy: 0.2300 - lr: 1.6000e-06\n",
      "Epoch 15/20\n",
      "23/23 [==============================] - ETA: 0s - loss: 1.9504 - categorical_accuracy: 0.3454\n",
      "Epoch 00015: saving model to model2_init_2023-11-2704_51_52.162506/model2-00015-1.95038-0.34540-1.95038-0.34540.h5\n",
      "23/23 [==============================] - 21s 931ms/step - loss: 1.9504 - categorical_accuracy: 0.3454 - val_loss: 1.8689 - val_categorical_accuracy: 0.2300 - lr: 1.6000e-06\n",
      "Epoch 16/20\n",
      "22/23 [===========================>..] - ETA: 0s - loss: 2.0172 - categorical_accuracy: 0.3242\n",
      "Epoch 00016: saving model to model2_init_2023-11-2704_51_52.162506/model2-00016-2.01358-0.32428-2.01358-0.32428.h5\n",
      "23/23 [==============================] - 19s 863ms/step - loss: 2.0136 - categorical_accuracy: 0.3243 - val_loss: 1.8323 - val_categorical_accuracy: 0.2600 - lr: 1.6000e-06\n",
      "Epoch 17/20\n",
      "23/23 [==============================] - ETA: 0s - loss: 1.9462 - categorical_accuracy: 0.3424\n",
      "Epoch 00017: saving model to model2_init_2023-11-2704_51_52.162506/model2-00017-1.94617-0.34238-1.94617-0.34238.h5\n",
      "\n",
      "Epoch 00017: ReduceLROnPlateau reducing learning rate to 3.200000037395512e-07.\n",
      "23/23 [==============================] - 21s 938ms/step - loss: 1.9462 - categorical_accuracy: 0.3424 - val_loss: 1.7557 - val_categorical_accuracy: 0.2900 - lr: 1.6000e-06\n",
      "Epoch 18/20\n",
      "23/23 [==============================] - ETA: 0s - loss: 2.1225 - categorical_accuracy: 0.3122\n",
      "Epoch 00018: saving model to model2_init_2023-11-2704_51_52.162506/model2-00018-2.12246-0.31222-2.12246-0.31222.h5\n",
      "23/23 [==============================] - 20s 905ms/step - loss: 2.1225 - categorical_accuracy: 0.3122 - val_loss: 1.7303 - val_categorical_accuracy: 0.2600 - lr: 3.2000e-07\n",
      "Epoch 19/20\n",
      "22/23 [===========================>..] - ETA: 0s - loss: 2.0744 - categorical_accuracy: 0.2970\n",
      "Epoch 00019: saving model to model2_init_2023-11-2704_51_52.162506/model2-00019-2.07873-0.29563-2.07873-0.29563.h5\n",
      "23/23 [==============================] - 20s 889ms/step - loss: 2.0787 - categorical_accuracy: 0.2956 - val_loss: 1.6990 - val_categorical_accuracy: 0.2700 - lr: 3.2000e-07\n",
      "Epoch 20/20\n",
      "22/23 [===========================>..] - ETA: 0s - loss: 2.0404 - categorical_accuracy: 0.3318\n",
      "Epoch 00020: saving model to model2_init_2023-11-2704_51_52.162506/model2-00020-2.04007-0.33183-2.04007-0.33183.h5\n",
      "23/23 [==============================] - 19s 880ms/step - loss: 2.0401 - categorical_accuracy: 0.3318 - val_loss: 1.5168 - val_categorical_accuracy: 0.3700 - lr: 3.2000e-07\n"
     ]
    }
   ],
   "source": [
    "history = model2.fit(train_generator, steps_per_epoch=steps_per_epoch, epochs=num_epochs, verbose=1, \n",
    "                    callbacks=callbacks_list, validation_data=val_generator, \n",
    "                    validation_steps=validation_steps, class_weight=None,use_multiprocessing=False,\n",
    "                    workers=1, initial_epoch=0)"
   ]
  },
  {
   "cell_type": "markdown",
   "metadata": {},
   "source": [
    "**Let us plot the model2**"
   ]
  },
  {
   "cell_type": "code",
   "execution_count": 22,
   "metadata": {},
   "outputs": [
    {
     "data": {
      "image/png": "[encoded data removed]",
      "text/plain": [
       "<Figure size 432x288 with 1 Axes>"
      ]
     },
     "metadata": {
      "needs_background": "light"
     },
     "output_type": "display_data"
    },
    {
     "data": {
      "image/png": "[encoded data removed]",
      "text/plain": [
       "<Figure size 432x288 with 1 Axes>"
      ]
     },
     "metadata": {
      "needs_background": "light"
     },
     "output_type": "display_data"
    }
   ],
   "source": [
    "# Plotting model accuracy history\n",
    "plt.plot(history.history['categorical_accuracy'], 'o-')\n",
    "plt.plot(history.history['val_categorical_accuracy'], 'o-')\n",
    "plt.title('Model2 Accuracy')\n",
    "plt.ylabel('Accuracy')\n",
    "plt.xlabel('Epoch')\n",
    "plt.legend(['train', 'test'], loc='upper left')\n",
    "plt.show()\n",
    "\n",
    "# Plotting model loss history\n",
    "plt.plot(history.history['loss'], 'o-')\n",
    "plt.plot(history.history['val_loss'], 'o-')\n",
    "plt.title('Model2 loss')\n",
    "plt.ylabel('loss')\n",
    "plt.xlabel('epoch')\n",
    "plt.legend(['train', 'test'], loc='upper left')\n",
    "plt.show()"
   ]
  },
  {
   "cell_type": "markdown",
   "metadata": {},
   "source": [
    "Seems the valudation accuracy of 37% is improved compared to the previous model.\n",
    "\n",
    "## Building Third model - 3D Conv Model\n",
    "\n",
    "In the this model, not using dropouts in the Conv Layer with batch normalization. <br/>\n",
    "Input size is considered as 84x84. <br/>\n",
    "Cropping reduced to 3% from 10%. <br/>\n",
    "adam potimizer with learning rate of 0.0002, no decay. <br/>\n",
    "dropout updated to 0.25 from 0.50 in the 1st dense layer. <br/>"
   ]
  },
  {
   "cell_type": "markdown",
   "metadata": {},
   "source": [
    "## Generator-2"
   ]
  },
  {
   "cell_type": "code",
   "execution_count": 23,
   "metadata": {},
   "outputs": [],
   "source": [
    "# Updating Generator funciton\n",
    "def generator2(source_path, folder_list, batch_size):\n",
    "    print( 'Source path = ', source_path, '; batch size =', batch_size)\n",
    "    \n",
    "    # img_idx = #create a list of image numbers you want to use for a particular video\n",
    "    img_idx = [1,2,4,6,7,8,10,12,14,16,18,20,21,22,24,26,27,29]\n",
    "    \n",
    "    while True:\n",
    "        t = np.random.permutation(folder_list)\n",
    "        \n",
    "        # num_batches = # calculate the number of batches\n",
    "        num_batches = int(len(t)/batch_size)\n",
    "        \n",
    "        for batch in range(num_batches): # we iterate over the number of batches\n",
    "            # batch_data = np.zeros((batch_size,x,y,z,3)) # x is the number of images you use for each video, (y,z) is the final size of the input images and 3 is the number of channels RGB\n",
    "            batch_data = np.zeros((batch_size,18,84,84,3)) \n",
    "            batch_labels = np.zeros((batch_size,5)) # batch_labels is the one hot representation of the output\n",
    "            \n",
    "            for folder in range(batch_size): # iterate over the batch_size\n",
    "                imgs = os.listdir(source_path+'/'+ t[folder + (batch*batch_size)].split(';')[0]) # read all the images in the folder\n",
    "                \n",
    "                for idx,item in enumerate(img_idx): #  Iterate iver the frames/images of a folder to read them in\n",
    "                    #image = imread(source_path+'/'+ t[folder + (batch*batch_size)].strip().split(';')[0]+'/'+imgs[item]).astype(np.float32)\n",
    "                    image = cv2.imread(source_path+'/'+t[folder+(batch*batch_size)].strip().split(';')[0]+'/'+imgs[item],cv2.IMREAD_UNCHANGED).astype(np.float32)\n",
    "                    \n",
    "                    #crop the images and resize them. Note that the images are of 2 different shape \n",
    "                    #and the conv3D will throw error if the inputs in a batch have different shapes\n",
    "                    # Cropping Image\n",
    "                    image = crop_img(image, 0.03)\n",
    "                    # Resizing the image\n",
    "                    if image.shape[1] == 160:\n",
    "                        image = cv2.resize(image[:,20:140,:],(84,84),interpolation = cv2.INTER_AREA).astype(np.float32)\n",
    "                    else:\n",
    "                        image = cv2.resize(image,(84,84), interpolation = cv2.INTER_AREA).astype(np.float32)\n",
    "                    \n",
    "                    # Normalizing and feeding the image\n",
    "                    # batch_data[folder,idx,:,:,0] = #normalise and feed in the image\n",
    "                    # batch_data[folder,idx,:,:,1] = #normalise and feed in the image\n",
    "                    # batch_data[folder,idx,:,:,2] = #normalise and feed in the image\n",
    "                    batch_data[folder,idx,:,:,0] = (image[:,:,0])/255\n",
    "                    batch_data[folder,idx,:,:,1] = (image[:,:,1])/255\n",
    "                    batch_data[folder,idx,:,:,2] = (image[:,:,2])/255\n",
    "                    \n",
    "                batch_labels[folder, int(t[folder + (batch*batch_size)].strip().split(';')[2])] = 1\n",
    "            yield batch_data, batch_labels #you yield the batch_data and the batch_labels, remember what does yield do\n",
    "\n",
    "        \n",
    "        # write the code for the remaining data points which are left after full batches\n",
    "        if (len(t)%batch_size) != 0:\n",
    "            batch_data   = np.zeros((len(t)%batch_size,18,84,84,3))\n",
    "            batch_labels = np.zeros((len(t)%batch_size, 5))\n",
    "            \n",
    "            for folder in range(len(t)%batch_size):\n",
    "                imgs = os.listdir(source_path+'/'+t[folder+(num_batches*batch_size)].split(';')[0])\n",
    "                for idx, item in enumerate(img_idx):\n",
    "                    image = cv2.imread(source_path+'/'+t[folder+(num_batches*batch_size)].strip().split(';')[0]+'/'+imgs[item],cv2.IMREAD_UNCHANGED).astype(np.float32)\n",
    "                    \n",
    "                    # Cropping image\n",
    "                    image = crop_img(image, 0.03)\n",
    "                    \n",
    "                    # Resizing image\n",
    "                    if image.shape[1] == 160:\n",
    "                        image = cv2.resize(image[:,20:140,:],(84,84),interpolation = cv2.INTER_AREA).astype(np.float32)\n",
    "                    else:\n",
    "                        image = cv2.resize(image,(84,84),interpolation = cv2.INTER_AREA).astype(np.float32)\n",
    "                        \n",
    "                    # Normalizing and feeding the image\n",
    "                    batch_data[folder,idx,:,:,0] = (image[:,:,0])/255\n",
    "                    batch_data[folder,idx,:,:,1] = (image[:,:,1])/255\n",
    "                    batch_data[folder,idx,:,:,2] = (image[:,:,2])/255\n",
    "                    \n",
    "                batch_labels[folder, int(t[folder+(num_batches*batch_size)].strip().split(';')[2])] = 1\n",
    "            yield batch_data, batch_labels"
   ]
  },
  {
   "cell_type": "code",
   "execution_count": 24,
   "metadata": {},
   "outputs": [
    {
     "name": "stdout",
     "output_type": "stream",
     "text": [
      "# training sequences = 663\n",
      "# validation sequences = 100\n",
      "# epochs = 20\n",
      "# batch_size = 30\n"
     ]
    }
   ],
   "source": [
    "curr_dt_time = datetime.datetime.now()\n",
    "train_path = '/home/datasets/Project_data/train'\n",
    "val_path = '/home/datasets/Project_data/val'\n",
    "num_train_sequences = len(train_doc)\n",
    "print('# training sequences =', num_train_sequences)\n",
    "num_val_sequences = len(val_doc)\n",
    "print('# validation sequences =', num_val_sequences)\n",
    "num_epochs = 20 # choose the number of epochs\n",
    "print ('# epochs =', num_epochs)\n",
    "batch_size = 30\n",
    "print('# batch_size =',batch_size)"
   ]
  },
  {
   "cell_type": "code",
   "execution_count": 25,
   "metadata": {},
   "outputs": [],
   "source": [
    "# Model Building\n",
    "model3 = Sequential()\n",
    "\n",
    "model3.add(Conv3D(8,(3,3,3), padding='same', input_shape=(18,84,84,3)))\n",
    "model3.add(Activation('relu'))\n",
    "model3.add(BatchNormalization())\n",
    "model3.add(MaxPooling3D(pool_size=(2,2,2)))\n",
    "\n",
    "model3.add(Conv3D(16,(3,3,3), padding='same'))\n",
    "model3.add(Activation('relu'))\n",
    "model3.add(BatchNormalization())\n",
    "model3.add(MaxPooling3D(pool_size=(2,2,2)))\n",
    "\n",
    "model3.add(Conv3D(32,(3,3,3), padding='same'))\n",
    "model3.add(BatchNormalization())\n",
    "model3.add(Activation('relu'))\n",
    "model3.add(MaxPooling3D(pool_size=(2,2,2)))\n",
    "\n",
    "model3.add(Conv3D(64,(3,3,3), padding='same'))\n",
    "model3.add(Activation('relu'))\n",
    "model3.add(BatchNormalization())\n",
    "model3.add(MaxPooling3D(pool_size=(2,2,2)))\n",
    "\n",
    "model3.add(Flatten())\n",
    "model3.add(Dense(128, activation='relu'))\n",
    "model3.add(BatchNormalization())\n",
    "model3.add(Dropout(0.25))\n",
    "\n",
    "model3.add(Dense(64, activation='relu'))\n",
    "model3.add(BatchNormalization())\n",
    "model3.add(Dropout(0.25))\n",
    "\n",
    "model3.add(Dense(5, activation='softmax'))"
   ]
  },
  {
   "cell_type": "code",
   "execution_count": 26,
   "metadata": {},
   "outputs": [
    {
     "name": "stdout",
     "output_type": "stream",
     "text": [
      "Model: \"sequential_2\"\n",
      "_________________________________________________________________\n",
      " Layer (type)                Output Shape              Param #   \n",
      "=================================================================\n",
      " conv3d_8 (Conv3D)           (None, 18, 84, 84, 8)     656       \n",
      "                                                                 \n",
      " activation_8 (Activation)   (None, 18, 84, 84, 8)     0         \n",
      "                                                                 \n",
      " batch_normalization_12 (Bat  (None, 18, 84, 84, 8)    32        \n",
      " chNormalization)                                                \n",
      "                                                                 \n",
      " max_pooling3d_8 (MaxPooling  (None, 9, 42, 42, 8)     0         \n",
      " 3D)                                                             \n",
      "                                                                 \n",
      " conv3d_9 (Conv3D)           (None, 9, 42, 42, 16)     3472      \n",
      "                                                                 \n",
      " activation_9 (Activation)   (None, 9, 42, 42, 16)     0         \n",
      "                                                                 \n",
      " batch_normalization_13 (Bat  (None, 9, 42, 42, 16)    64        \n",
      " chNormalization)                                                \n",
      "                                                                 \n",
      " max_pooling3d_9 (MaxPooling  (None, 4, 21, 21, 16)    0         \n",
      " 3D)                                                             \n",
      "                                                                 \n",
      " conv3d_10 (Conv3D)          (None, 4, 21, 21, 32)     13856     \n",
      "                                                                 \n",
      " batch_normalization_14 (Bat  (None, 4, 21, 21, 32)    128       \n",
      " chNormalization)                                                \n",
      "                                                                 \n",
      " activation_10 (Activation)  (None, 4, 21, 21, 32)     0         \n",
      "                                                                 \n",
      " max_pooling3d_10 (MaxPoolin  (None, 2, 10, 10, 32)    0         \n",
      " g3D)                                                            \n",
      "                                                                 \n",
      " conv3d_11 (Conv3D)          (None, 2, 10, 10, 64)     55360     \n",
      "                                                                 \n",
      " activation_11 (Activation)  (None, 2, 10, 10, 64)     0         \n",
      "                                                                 \n",
      " batch_normalization_15 (Bat  (None, 2, 10, 10, 64)    256       \n",
      " chNormalization)                                                \n",
      "                                                                 \n",
      " max_pooling3d_11 (MaxPoolin  (None, 1, 5, 5, 64)      0         \n",
      " g3D)                                                            \n",
      "                                                                 \n",
      " flatten_2 (Flatten)         (None, 1600)              0         \n",
      "                                                                 \n",
      " dense_6 (Dense)             (None, 128)               204928    \n",
      "                                                                 \n",
      " batch_normalization_16 (Bat  (None, 128)              512       \n",
      " chNormalization)                                                \n",
      "                                                                 \n",
      " dropout_4 (Dropout)         (None, 128)               0         \n",
      "                                                                 \n",
      " dense_7 (Dense)             (None, 64)                8256      \n",
      "                                                                 \n",
      " batch_normalization_17 (Bat  (None, 64)               256       \n",
      " chNormalization)                                                \n",
      "                                                                 \n",
      " dropout_5 (Dropout)         (None, 64)                0         \n",
      "                                                                 \n",
      " dense_8 (Dense)             (None, 5)                 325       \n",
      "                                                                 \n",
      "=================================================================\n",
      "Total params: 288,101\n",
      "Trainable params: 287,477\n",
      "Non-trainable params: 624\n",
      "_________________________________________________________________\n",
      "None\n"
     ]
    }
   ],
   "source": [
    "# Writing optimizer and compiling the model\n",
    "optimiser = optimizers.Adam(learning_rate=0.0002)\n",
    "model3.compile(optimizer=optimiser, loss='categorical_crossentropy', metrics=['categorical_accuracy'])\n",
    "print (model3.summary())"
   ]
  },
  {
   "cell_type": "code",
   "execution_count": 27,
   "metadata": {},
   "outputs": [],
   "source": [
    "train_generator = generator2(train_path, train_doc, batch_size)\n",
    "val_generator = generator2(val_path, val_doc, batch_size)"
   ]
  },
  {
   "cell_type": "code",
   "execution_count": 28,
   "metadata": {},
   "outputs": [],
   "source": [
    "model_name = 'model3_init' + '_' + str(curr_dt_time).replace(' ','').replace(':','_') + '/'\n",
    "    \n",
    "if not os.path.exists(model_name):\n",
    "    os.mkdir(model_name)\n",
    "        \n",
    "filepath = model_name + 'model3-{epoch:05d}-{loss:.5f}-{categorical_accuracy:.5f}-{loss:.5f}-{categorical_accuracy:.5f}.h5'\n",
    "\n",
    "checkpoint = ModelCheckpoint(filepath, monitor='loss', verbose=1, save_best_only=False, save_weights_only=False, mode='auto', save_freq='epoch')\n",
    "\n",
    "# write the REducelronplateau code here\n",
    "LR = ReduceLROnPlateau(monitor='val_loss', factor=0.2, patience=4, verbose =1 )\n",
    "\n",
    "callbacks_list = [checkpoint, LR]"
   ]
  },
  {
   "cell_type": "code",
   "execution_count": 29,
   "metadata": {},
   "outputs": [],
   "source": [
    "if (num_train_sequences%batch_size) == 0:\n",
    "    steps_per_epoch = int(num_train_sequences/batch_size)\n",
    "else:\n",
    "    steps_per_epoch = (num_train_sequences//batch_size) + 1\n",
    "\n",
    "if (num_val_sequences%batch_size) == 0:\n",
    "    validation_steps = int(num_val_sequences/batch_size)\n",
    "else:\n",
    "    validation_steps = (num_val_sequences//batch_size) + 1"
   ]
  },
  {
   "cell_type": "code",
   "execution_count": 30,
   "metadata": {},
   "outputs": [
    {
     "name": "stdout",
     "output_type": "stream",
     "text": [
      "Source path =  /home/datasets/Project_data/train ; batch size = 30\n",
      "Epoch 1/20\n",
      "23/23 [==============================] - ETA: 0s - loss: 2.2013 - categorical_accuracy: 0.2383Source path =  /home/datasets/Project_data/val ; batch size = 30\n",
      "\n",
      "Epoch 00001: saving model to model3_init_2023-11-2705_03_31.332787/model3-00001-2.20129-0.23831-2.20129-0.23831.h5\n",
      "23/23 [==============================] - 40s 2s/step - loss: 2.2013 - categorical_accuracy: 0.2383 - val_loss: 1.6345 - val_categorical_accuracy: 0.1700 - lr: 2.0000e-04\n",
      "Epoch 2/20\n",
      "23/23 [==============================] - ETA: 0s - loss: 1.8107 - categorical_accuracy: 0.3288\n",
      "Epoch 00002: saving model to model3_init_2023-11-2705_03_31.332787/model3-00002-1.81070-0.32881-1.81070-0.32881.h5\n",
      "23/23 [==============================] - 27s 1s/step - loss: 1.8107 - categorical_accuracy: 0.3288 - val_loss: 1.6202 - val_categorical_accuracy: 0.2000 - lr: 2.0000e-04\n",
      "Epoch 3/20\n",
      "23/23 [==============================] - ETA: 0s - loss: 1.5903 - categorical_accuracy: 0.4042\n",
      "Epoch 00003: saving model to model3_init_2023-11-2705_03_31.332787/model3-00003-1.59034-0.40422-1.59034-0.40422.h5\n",
      "23/23 [==============================] - 26s 1s/step - loss: 1.5903 - categorical_accuracy: 0.4042 - val_loss: 1.7665 - val_categorical_accuracy: 0.1300 - lr: 2.0000e-04\n",
      "Epoch 4/20\n",
      "23/23 [==============================] - ETA: 0s - loss: 1.6642 - categorical_accuracy: 0.3560\n",
      "Epoch 00004: saving model to model3_init_2023-11-2705_03_31.332787/model3-00004-1.66421-0.35596-1.66421-0.35596.h5\n",
      "23/23 [==============================] - 25s 1s/step - loss: 1.6642 - categorical_accuracy: 0.3560 - val_loss: 1.7412 - val_categorical_accuracy: 0.1900 - lr: 2.0000e-04\n",
      "Epoch 5/20\n",
      "23/23 [==============================] - ETA: 0s - loss: 1.6603 - categorical_accuracy: 0.3922\n",
      "Epoch 00005: saving model to model3_init_2023-11-2705_03_31.332787/model3-00005-1.66025-0.39216-1.66025-0.39216.h5\n",
      "23/23 [==============================] - 25s 1s/step - loss: 1.6603 - categorical_accuracy: 0.3922 - val_loss: 1.8182 - val_categorical_accuracy: 0.1600 - lr: 2.0000e-04\n",
      "Epoch 6/20\n",
      "22/23 [===========================>..] - ETA: 0s - loss: 1.4416 - categorical_accuracy: 0.4455\n",
      "Epoch 00006: saving model to model3_init_2023-11-2705_03_31.332787/model3-00006-1.44577-0.44344-1.44577-0.44344.h5\n",
      "\n",
      "Epoch 00006: ReduceLROnPlateau reducing learning rate to 3.9999998989515007e-05.\n",
      "23/23 [==============================] - 26s 1s/step - loss: 1.4458 - categorical_accuracy: 0.4434 - val_loss: 1.9067 - val_categorical_accuracy: 0.1900 - lr: 2.0000e-04\n",
      "Epoch 7/20\n",
      "23/23 [==============================] - ETA: 0s - loss: 1.4085 - categorical_accuracy: 0.4404\n",
      "Epoch 00007: saving model to model3_init_2023-11-2705_03_31.332787/model3-00007-1.40848-0.44042-1.40848-0.44042.h5\n",
      "23/23 [==============================] - 26s 1s/step - loss: 1.4085 - categorical_accuracy: 0.4404 - val_loss: 1.8504 - val_categorical_accuracy: 0.2700 - lr: 4.0000e-05\n",
      "Epoch 8/20\n",
      "23/23 [==============================] - ETA: 0s - loss: 1.4129 - categorical_accuracy: 0.4253\n",
      "Epoch 00008: saving model to model3_init_2023-11-2705_03_31.332787/model3-00008-1.41291-0.42534-1.41291-0.42534.h5\n",
      "23/23 [==============================] - 26s 1s/step - loss: 1.4129 - categorical_accuracy: 0.4253 - val_loss: 1.8759 - val_categorical_accuracy: 0.2100 - lr: 4.0000e-05\n",
      "Epoch 9/20\n",
      "23/23 [==============================] - ETA: 0s - loss: 1.4292 - categorical_accuracy: 0.4359\n",
      "Epoch 00009: saving model to model3_init_2023-11-2705_03_31.332787/model3-00009-1.42920-0.43590-1.42920-0.43590.h5\n",
      "23/23 [==============================] - 26s 1s/step - loss: 1.4292 - categorical_accuracy: 0.4359 - val_loss: 1.9201 - val_categorical_accuracy: 0.2300 - lr: 4.0000e-05\n",
      "Epoch 10/20\n",
      "23/23 [==============================] - ETA: 0s - loss: 1.3428 - categorical_accuracy: 0.4766\n",
      "Epoch 00010: saving model to model3_init_2023-11-2705_03_31.332787/model3-00010-1.34279-0.47662-1.34279-0.47662.h5\n",
      "\n",
      "Epoch 00010: ReduceLROnPlateau reducing learning rate to 7.999999797903002e-06.\n",
      "23/23 [==============================] - 27s 1s/step - loss: 1.3428 - categorical_accuracy: 0.4766 - val_loss: 1.9526 - val_categorical_accuracy: 0.2100 - lr: 4.0000e-05\n",
      "Epoch 11/20\n",
      "23/23 [==============================] - ETA: 0s - loss: 1.3489 - categorical_accuracy: 0.4525\n",
      "Epoch 00011: saving model to model3_init_2023-11-2705_03_31.332787/model3-00011-1.34894-0.45249-1.34894-0.45249.h5\n",
      "23/23 [==============================] - 28s 1s/step - loss: 1.3489 - categorical_accuracy: 0.4525 - val_loss: 1.9404 - val_categorical_accuracy: 0.2500 - lr: 8.0000e-06\n",
      "Epoch 12/20\n",
      "22/23 [===========================>..] - ETA: 1s - loss: 1.3768 - categorical_accuracy: 0.4788\n",
      "Epoch 00012: saving model to model3_init_2023-11-2705_03_31.332787/model3-00012-1.37601-0.47813-1.37601-0.47813.h5\n",
      "23/23 [==============================] - 27s 1s/step - loss: 1.3760 - categorical_accuracy: 0.4781 - val_loss: 1.9608 - val_categorical_accuracy: 0.2300 - lr: 8.0000e-06\n",
      "Epoch 13/20\n",
      "23/23 [==============================] - ETA: 0s - loss: 1.2988 - categorical_accuracy: 0.4932\n",
      "Epoch 00013: saving model to model3_init_2023-11-2705_03_31.332787/model3-00013-1.29882-0.49321-1.29882-0.49321.h5\n",
      "23/23 [==============================] - 27s 1s/step - loss: 1.2988 - categorical_accuracy: 0.4932 - val_loss: 1.8960 - val_categorical_accuracy: 0.2600 - lr: 8.0000e-06\n",
      "Epoch 14/20\n",
      "22/23 [===========================>..] - ETA: 1s - loss: 1.2981 - categorical_accuracy: 0.4848\n",
      "Epoch 00014: saving model to model3_init_2023-11-2705_03_31.332787/model3-00014-1.30286-0.48265-1.30286-0.48265.h5\n",
      "\n",
      "Epoch 00014: ReduceLROnPlateau reducing learning rate to 1.5999999959603884e-06.\n",
      "23/23 [==============================] - 28s 1s/step - loss: 1.3029 - categorical_accuracy: 0.4827 - val_loss: 1.8767 - val_categorical_accuracy: 0.2000 - lr: 8.0000e-06\n",
      "Epoch 15/20\n",
      "22/23 [===========================>..] - ETA: 1s - loss: 1.3132 - categorical_accuracy: 0.4833\n",
      "Epoch 00015: saving model to model3_init_2023-11-2705_03_31.332787/model3-00015-1.31432-0.48265-1.31432-0.48265.h5\n",
      "23/23 [==============================] - 28s 1s/step - loss: 1.3143 - categorical_accuracy: 0.4827 - val_loss: 1.7927 - val_categorical_accuracy: 0.2600 - lr: 1.6000e-06\n",
      "Epoch 16/20\n",
      "22/23 [===========================>..] - ETA: 1s - loss: 1.2942 - categorical_accuracy: 0.4985\n",
      "Epoch 00016: saving model to model3_init_2023-11-2705_03_31.332787/model3-00016-1.29815-0.49623-1.29815-0.49623.h5\n",
      "23/23 [==============================] - 27s 1s/step - loss: 1.2982 - categorical_accuracy: 0.4962 - val_loss: 1.8850 - val_categorical_accuracy: 0.2200 - lr: 1.6000e-06\n",
      "Epoch 17/20\n",
      "22/23 [===========================>..] - ETA: 1s - loss: 1.3420 - categorical_accuracy: 0.4727\n",
      "Epoch 00017: saving model to model3_init_2023-11-2705_03_31.332787/model3-00017-1.34227-0.47210-1.34227-0.47210.h5\n",
      "23/23 [==============================] - 27s 1s/step - loss: 1.3423 - categorical_accuracy: 0.4721 - val_loss: 1.8098 - val_categorical_accuracy: 0.2300 - lr: 1.6000e-06\n",
      "Epoch 18/20\n",
      "22/23 [===========================>..] - ETA: 0s - loss: 1.3660 - categorical_accuracy: 0.4818\n",
      "Epoch 00018: saving model to model3_init_2023-11-2705_03_31.332787/model3-00018-1.36638-0.48115-1.36638-0.48115.h5\n",
      "\n",
      "Epoch 00018: ReduceLROnPlateau reducing learning rate to 3.200000037395512e-07.\n",
      "23/23 [==============================] - 25s 1s/step - loss: 1.3664 - categorical_accuracy: 0.4811 - val_loss: 1.8409 - val_categorical_accuracy: 0.2100 - lr: 1.6000e-06\n",
      "Epoch 19/20\n",
      "23/23 [==============================] - ETA: 0s - loss: 1.3594 - categorical_accuracy: 0.4721\n",
      "Epoch 00019: saving model to model3_init_2023-11-2705_03_31.332787/model3-00019-1.35937-0.47210-1.35937-0.47210.h5\n",
      "23/23 [==============================] - 25s 1s/step - loss: 1.3594 - categorical_accuracy: 0.4721 - val_loss: 1.7616 - val_categorical_accuracy: 0.2400 - lr: 3.2000e-07\n",
      "Epoch 20/20\n",
      "22/23 [===========================>..] - ETA: 0s - loss: 1.3286 - categorical_accuracy: 0.4894\n",
      "Epoch 00020: saving model to model3_init_2023-11-2705_03_31.332787/model3-00020-1.33136-0.48869-1.33136-0.48869.h5\n",
      "23/23 [==============================] - 25s 1s/step - loss: 1.3314 - categorical_accuracy: 0.4887 - val_loss: 1.7016 - val_categorical_accuracy: 0.2700 - lr: 3.2000e-07\n"
     ]
    }
   ],
   "source": [
    "history = model3.fit(train_generator, \n",
    "                     steps_per_epoch=steps_per_epoch, \n",
    "                     epochs=num_epochs, \n",
    "                     verbose=1, \n",
    "                     callbacks=callbacks_list, \n",
    "                     validation_data=val_generator, \n",
    "                     validation_steps=validation_steps, \n",
    "                     class_weight=None,\n",
    "                     workers=1, \n",
    "                     initial_epoch=0)"
   ]
  },
  {
   "cell_type": "markdown",
   "metadata": {},
   "source": [
    "**Let us plot the model3**\t"
   ]
  },
  {
   "cell_type": "code",
   "execution_count": 31,
   "metadata": {},
   "outputs": [
    {
     "data": {
      "image/png": "[encoded data removed]",
      "text/plain": [
       "<Figure size 432x288 with 1 Axes>"
      ]
     },
     "metadata": {
      "needs_background": "light"
     },
     "output_type": "display_data"
    },
    {
     "data": {
      "image/png": "[encoded data removed]",
      "text/plain": [
       "<Figure size 432x288 with 1 Axes>"
      ]
     },
     "metadata": {
      "needs_background": "light"
     },
     "output_type": "display_data"
    }
   ],
   "source": [
    "# Plotting model accuracy history\n",
    "plt.plot(history.history['categorical_accuracy'], 'o-')\n",
    "plt.plot(history.history['val_categorical_accuracy'], 'o-')\n",
    "plt.title('Model3 Accuracy')\n",
    "plt.ylabel('Accuracy')\n",
    "plt.xlabel('Epoch')\n",
    "plt.legend(['train', 'test'], loc='upper left')\n",
    "plt.show()\n",
    "\n",
    "# Plotting model loss history\n",
    "plt.plot(history.history['loss'], 'o-')\n",
    "plt.plot(history.history['val_loss'], 'o-')\n",
    "plt.title('Model3 loss')\n",
    "plt.ylabel('loss')\n",
    "plt.xlabel('epoch')\n",
    "plt.legend(['train', 'test'], loc='upper left')\n",
    "plt.show()"
   ]
  },
  {
   "cell_type": "markdown",
   "metadata": {},
   "source": [
    "This module has given us the valudation accuracy of 27%.\n",
    "\n",
    "## Building Fourth model - 3D Conv Model\n",
    "\n",
    "In this model, Input size is considered as 100x100. <br/>\n",
    "Cropping reduced to 2% from 3%. <br/>"
   ]
  },
  {
   "cell_type": "code",
   "execution_count": 32,
   "metadata": {},
   "outputs": [],
   "source": [
    "train_doc = np.random.permutation(open('/home/datasets/Project_data/train.csv').readlines())\n",
    "val_doc = np.random.permutation(open('/home/datasets/Project_data/val.csv').readlines())"
   ]
  },
  {
   "cell_type": "markdown",
   "metadata": {},
   "source": [
    "## Generator-4"
   ]
  },
  {
   "cell_type": "code",
   "execution_count": 33,
   "metadata": {},
   "outputs": [],
   "source": [
    "# Updating Generator funciton\n",
    "def generator4(source_path, folder_list, batch_size):\n",
    "    print( 'Source path = ', source_path, '; batch size =', batch_size)\n",
    "    \n",
    "    # img_idx = #create a list of image numbers you want to use for a particular video\n",
    "    img_idx = [1,2,4,6,7,8,10,12,14,16,18,20,21,22,24,26,27,29]\n",
    "    \n",
    "    while True:\n",
    "        t = np.random.permutation(folder_list)\n",
    "        \n",
    "        # num_batches = # calculate the number of batches\n",
    "        num_batches = int(len(t)/batch_size)\n",
    "        \n",
    "        for batch in range(num_batches): # we iterate over the number of batches\n",
    "            # batch_data = np.zeros((batch_size,x,y,z,3)) # x is the number of images you use for each video, (y,z) is the final size of the input images and 3 is the number of channels RGB\n",
    "            batch_data = np.zeros((batch_size,18,100,100,3)) \n",
    "            batch_labels = np.zeros((batch_size,5)) # batch_labels is the one hot representation of the output\n",
    "            \n",
    "            for folder in range(batch_size): # iterate over the batch_size\n",
    "                imgs = os.listdir(source_path+'/'+ t[folder + (batch*batch_size)].split(';')[0]) # read all the images in the folder\n",
    "                \n",
    "                for idx,item in enumerate(img_idx): #  Iterate iver the frames/images of a folder to read them in\n",
    "                    #image = imread(source_path+'/'+ t[folder + (batch*batch_size)].strip().split(';')[0]+'/'+imgs[item]).astype(np.float32)\n",
    "                    image = cv2.imread(source_path+'/'+t[folder+(batch*batch_size)].strip().split(';')[0]+'/'+imgs[item],cv2.IMREAD_UNCHANGED).astype(np.float32)\n",
    "                    \n",
    "                    #crop the images and resize them. Note that the images are of 2 different shape \n",
    "                    #and the conv3D will throw error if the inputs in a batch have different shapes\n",
    "                    # Cropping Image\n",
    "                    image = crop_img(image, 0.02)\n",
    "                    # Resizing the image\n",
    "                    if image.shape[1] == 160:\n",
    "                        image = cv2.resize(image[:,20:140,:],(100,100),interpolation = cv2.INTER_AREA).astype(np.float32)\n",
    "                    else:\n",
    "                        image = cv2.resize(image,(100,100), interpolation = cv2.INTER_AREA).astype(np.float32)\n",
    "                    \n",
    "                    # Normalizing and feeding the image\n",
    "                    # batch_data[folder,idx,:,:,0] = #normalise and feed in the image\n",
    "                    # batch_data[folder,idx,:,:,1] = #normalise and feed in the image\n",
    "                    # batch_data[folder,idx,:,:,2] = #normalise and feed in the image\n",
    "                    batch_data[folder,idx,:,:,0] = (image[:,:,0])/255\n",
    "                    batch_data[folder,idx,:,:,1] = (image[:,:,1])/255\n",
    "                    batch_data[folder,idx,:,:,2] = (image[:,:,2])/255\n",
    "                    \n",
    "                batch_labels[folder, int(t[folder + (batch*batch_size)].strip().split(';')[2])] = 1\n",
    "            yield batch_data, batch_labels #you yield the batch_data and the batch_labels, remember what does yield do\n",
    "\n",
    "        \n",
    "        # write the code for the remaining data points which are left after full batches\n",
    "        if (len(t)%batch_size) != 0:\n",
    "            batch_data   = np.zeros((len(t)%batch_size,18,100,100,3))\n",
    "            batch_labels = np.zeros((len(t)%batch_size, 5))\n",
    "            \n",
    "            for folder in range(len(t)%batch_size):\n",
    "                imgs = os.listdir(source_path+'/'+t[folder+(num_batches*batch_size)].split(';')[0])\n",
    "                for idx, item in enumerate(img_idx):\n",
    "                    image = cv2.imread(source_path+'/'+t[folder+(num_batches*batch_size)].strip().split(';')[0]+'/'+imgs[item],cv2.IMREAD_UNCHANGED).astype(np.float32)\n",
    "                    \n",
    "                    # Cropping image\n",
    "                    image = crop_img(image, 0.02)\n",
    "                    \n",
    "                    # Resizing image\n",
    "                    if image.shape[1] == 160:\n",
    "                        image = cv2.resize(image[:,20:140,:],(100,100),interpolation = cv2.INTER_AREA).astype(np.float32)\n",
    "                    else:\n",
    "                        image = cv2.resize(image,(100,100),interpolation = cv2.INTER_AREA).astype(np.float32)\n",
    "                        \n",
    "                    # Normalizing and feeding the image\n",
    "                    batch_data[folder,idx,:,:,0] = (image[:,:,0])/255\n",
    "                    batch_data[folder,idx,:,:,1] = (image[:,:,1])/255\n",
    "                    batch_data[folder,idx,:,:,2] = (image[:,:,2])/255\n",
    "                    \n",
    "                batch_labels[folder, int(t[folder+(num_batches*batch_size)].strip().split(';')[2])] = 1\n",
    "            yield batch_data, batch_labels"
   ]
  },
  {
   "cell_type": "code",
   "execution_count": 34,
   "metadata": {},
   "outputs": [
    {
     "name": "stdout",
     "output_type": "stream",
     "text": [
      "# training sequences = 663\n",
      "# validation sequences = 100\n",
      "# epochs = 30\n",
      "# batch_size = 50\n"
     ]
    }
   ],
   "source": [
    "curr_dt_time = datetime.datetime.now()\n",
    "train_path = '/home/datasets/Project_data/train'\n",
    "val_path = '/home/datasets/Project_data/val'\n",
    "num_train_sequences = len(train_doc)\n",
    "print('# training sequences =', num_train_sequences)\n",
    "num_val_sequences = len(val_doc)\n",
    "print('# validation sequences =', num_val_sequences)\n",
    "num_epochs = 30 # choose the number of epochs\n",
    "print ('# epochs =', num_epochs)\n",
    "batch_size = 50\n",
    "print('# batch_size =',batch_size)"
   ]
  },
  {
   "cell_type": "code",
   "execution_count": 35,
   "metadata": {},
   "outputs": [],
   "source": [
    "# Model Building\n",
    "model4 = Sequential()\n",
    "\n",
    "model4.add(Conv3D(8,(3,3,3), padding='same', input_shape=(18,100,100,3)))\n",
    "model4.add(BatchNormalization())\n",
    "model4.add(Activation('relu'))\n",
    "model4.add(MaxPooling3D(pool_size=(2,2,2)))\n",
    "\n",
    "model4.add(Conv3D(16,(3,3,3), padding='same'))\n",
    "model4.add(BatchNormalization())\n",
    "model4.add(Activation('relu'))\n",
    "model4.add(MaxPooling3D(pool_size=(2,2,2)))\n",
    "\n",
    "model4.add(Conv3D(32,(1,3,3), padding='same'))\n",
    "model4.add(BatchNormalization())\n",
    "model4.add(Activation('relu'))\n",
    "model4.add(MaxPooling3D(pool_size=(2,2,2)))\n",
    "\n",
    "model4.add(Conv3D(64,(1,3,3), padding='same'))\n",
    "model4.add(Activation('relu'))\n",
    "model4.add(Dropout(0.25))\n",
    "model4.add(MaxPooling3D(pool_size=(2,2,2)))\n",
    "\n",
    "model4.add(Flatten())\n",
    "model4.add(Dense(256, activation='relu'))\n",
    "model4.add(Dropout(0.25))\n",
    "model4.add(Dense(128, activation='relu'))\n",
    "model4.add(Dropout(0.25))\n",
    "\n",
    "model4.add(Dense(5, activation='softmax'))"
   ]
  },
  {
   "cell_type": "code",
   "execution_count": 36,
   "metadata": {},
   "outputs": [
    {
     "name": "stdout",
     "output_type": "stream",
     "text": [
      "Model: \"sequential_3\"\n",
      "_________________________________________________________________\n",
      " Layer (type)                Output Shape              Param #   \n",
      "=================================================================\n",
      " conv3d_12 (Conv3D)          (None, 18, 100, 100, 8)   656       \n",
      "                                                                 \n",
      " batch_normalization_18 (Bat  (None, 18, 100, 100, 8)  32        \n",
      " chNormalization)                                                \n",
      "                                                                 \n",
      " activation_12 (Activation)  (None, 18, 100, 100, 8)   0         \n",
      "                                                                 \n",
      " max_pooling3d_12 (MaxPoolin  (None, 9, 50, 50, 8)     0         \n",
      " g3D)                                                            \n",
      "                                                                 \n",
      " conv3d_13 (Conv3D)          (None, 9, 50, 50, 16)     3472      \n",
      "                                                                 \n",
      " batch_normalization_19 (Bat  (None, 9, 50, 50, 16)    64        \n",
      " chNormalization)                                                \n",
      "                                                                 \n",
      " activation_13 (Activation)  (None, 9, 50, 50, 16)     0         \n",
      "                                                                 \n",
      " max_pooling3d_13 (MaxPoolin  (None, 4, 25, 25, 16)    0         \n",
      " g3D)                                                            \n",
      "                                                                 \n",
      " conv3d_14 (Conv3D)          (None, 4, 25, 25, 32)     4640      \n",
      "                                                                 \n",
      " batch_normalization_20 (Bat  (None, 4, 25, 25, 32)    128       \n",
      " chNormalization)                                                \n",
      "                                                                 \n",
      " activation_14 (Activation)  (None, 4, 25, 25, 32)     0         \n",
      "                                                                 \n",
      " max_pooling3d_14 (MaxPoolin  (None, 2, 12, 12, 32)    0         \n",
      " g3D)                                                            \n",
      "                                                                 \n",
      " conv3d_15 (Conv3D)          (None, 2, 12, 12, 64)     18496     \n",
      "                                                                 \n",
      " activation_15 (Activation)  (None, 2, 12, 12, 64)     0         \n",
      "                                                                 \n",
      " dropout_6 (Dropout)         (None, 2, 12, 12, 64)     0         \n",
      "                                                                 \n",
      " max_pooling3d_15 (MaxPoolin  (None, 1, 6, 6, 64)      0         \n",
      " g3D)                                                            \n",
      "                                                                 \n",
      " flatten_3 (Flatten)         (None, 2304)              0         \n",
      "                                                                 \n",
      " dense_9 (Dense)             (None, 256)               590080    \n",
      "                                                                 \n",
      " dropout_7 (Dropout)         (None, 256)               0         \n",
      "                                                                 \n",
      " dense_10 (Dense)            (None, 128)               32896     \n",
      "                                                                 \n",
      " dropout_8 (Dropout)         (None, 128)               0         \n",
      "                                                                 \n",
      " dense_11 (Dense)            (None, 5)                 645       \n",
      "                                                                 \n",
      "=================================================================\n",
      "Total params: 651,109\n",
      "Trainable params: 650,997\n",
      "Non-trainable params: 112\n",
      "_________________________________________________________________\n",
      "None\n"
     ]
    }
   ],
   "source": [
    "# Writing optimizer and compiling the model\n",
    "optimiser = optimizers.Adam()\n",
    "model4.compile(optimizer=optimiser, loss='categorical_crossentropy', metrics=['categorical_accuracy'])\n",
    "print (model4.summary())"
   ]
  },
  {
   "cell_type": "code",
   "execution_count": 37,
   "metadata": {},
   "outputs": [],
   "source": [
    "train_generator = generator4(train_path, train_doc, batch_size)\n",
    "val_generator = generator4(val_path, val_doc, batch_size)"
   ]
  },
  {
   "cell_type": "code",
   "execution_count": 38,
   "metadata": {},
   "outputs": [],
   "source": [
    "model_name = 'model4_init' + '_' + str(curr_dt_time).replace(' ','').replace(':','_') + '/'\n",
    "    \n",
    "if not os.path.exists(model_name):\n",
    "    os.mkdir(model_name)\n",
    "        \n",
    "filepath = model_name + 'model4-{epoch:05d}-{loss:.5f}-{categorical_accuracy:.5f}-{loss:.5f}-{categorical_accuracy:.5f}.h5'\n",
    "\n",
    "checkpoint = ModelCheckpoint(filepath, monitor='loss', verbose=1, save_best_only=False, save_weights_only=False, mode='auto', save_freq='epoch')\n",
    "\n",
    "# write the REducelronplateau code here\n",
    "LR = ReduceLROnPlateau(monitor='val_loss', factor=0.4, patience=4, verbose =1 )\n",
    "\n",
    "callbacks_list = [checkpoint, LR]"
   ]
  },
  {
   "cell_type": "code",
   "execution_count": 39,
   "metadata": {},
   "outputs": [],
   "source": [
    "if (num_train_sequences%batch_size) == 0:\n",
    "    steps_per_epoch = int(num_train_sequences/batch_size)\n",
    "else:\n",
    "    steps_per_epoch = (num_train_sequences//batch_size) + 1\n",
    "\n",
    "if (num_val_sequences%batch_size) == 0:\n",
    "    validation_steps = int(num_val_sequences/batch_size)\n",
    "else:\n",
    "    validation_steps = (num_val_sequences//batch_size) + 1"
   ]
  },
  {
   "cell_type": "code",
   "execution_count": 40,
   "metadata": {},
   "outputs": [
    {
     "name": "stdout",
     "output_type": "stream",
     "text": [
      "Source path =  /home/datasets/Project_data/train ; batch size = 50\n",
      "Epoch 1/30\n",
      "14/14 [==============================] - ETA: 0s - loss: 2.0431 - categorical_accuracy: 0.2640Source path =  /home/datasets/Project_data/val ; batch size = 50\n",
      "\n",
      "Epoch 00001: saving model to model4_init_2023-11-2705_13_59.596848/model4-00001-2.04306-0.26395-2.04306-0.26395.h5\n",
      "14/14 [==============================] - 29s 2s/step - loss: 2.0431 - categorical_accuracy: 0.2640 - val_loss: 1.6068 - val_categorical_accuracy: 0.2100 - lr: 0.0010\n",
      "Epoch 2/30\n",
      "14/14 [==============================] - ETA: 0s - loss: 1.5631 - categorical_accuracy: 0.3032\n",
      "Epoch 00002: saving model to model4_init_2023-11-2705_13_59.596848/model4-00002-1.56307-0.30317-1.56307-0.30317.h5\n",
      "14/14 [==============================] - 29s 2s/step - loss: 1.5631 - categorical_accuracy: 0.3032 - val_loss: 1.6129 - val_categorical_accuracy: 0.2100 - lr: 0.0010\n",
      "Epoch 3/30\n",
      "14/14 [==============================] - ETA: 0s - loss: 1.5124 - categorical_accuracy: 0.3333\n",
      "Epoch 00003: saving model to model4_init_2023-11-2705_13_59.596848/model4-00003-1.51244-0.33333-1.51244-0.33333.h5\n",
      "14/14 [==============================] - 28s 2s/step - loss: 1.5124 - categorical_accuracy: 0.3333 - val_loss: 1.6133 - val_categorical_accuracy: 0.1900 - lr: 0.0010\n",
      "Epoch 4/30\n",
      "14/14 [==============================] - ETA: 0s - loss: 1.4775 - categorical_accuracy: 0.3680\n",
      "Epoch 00004: saving model to model4_init_2023-11-2705_13_59.596848/model4-00004-1.47748-0.36802-1.47748-0.36802.h5\n",
      "14/14 [==============================] - 28s 2s/step - loss: 1.4775 - categorical_accuracy: 0.3680 - val_loss: 1.6125 - val_categorical_accuracy: 0.2600 - lr: 0.0010\n",
      "Epoch 5/30\n",
      "14/14 [==============================] - ETA: 0s - loss: 1.4334 - categorical_accuracy: 0.3952\n",
      "Epoch 00005: saving model to model4_init_2023-11-2705_13_59.596848/model4-00005-1.43343-0.39517-1.43343-0.39517.h5\n",
      "\n",
      "Epoch 00005: ReduceLROnPlateau reducing learning rate to 0.0004000000189989805.\n",
      "14/14 [==============================] - 27s 2s/step - loss: 1.4334 - categorical_accuracy: 0.3952 - val_loss: 1.6301 - val_categorical_accuracy: 0.2000 - lr: 0.0010\n",
      "Epoch 6/30\n",
      "14/14 [==============================] - ETA: 0s - loss: 1.4034 - categorical_accuracy: 0.4087\n",
      "Epoch 00006: saving model to model4_init_2023-11-2705_13_59.596848/model4-00006-1.40341-0.40875-1.40341-0.40875.h5\n",
      "14/14 [==============================] - 28s 2s/step - loss: 1.4034 - categorical_accuracy: 0.4087 - val_loss: 1.6109 - val_categorical_accuracy: 0.1900 - lr: 4.0000e-04\n",
      "Epoch 7/30\n",
      "14/14 [==============================] - ETA: 0s - loss: 1.3422 - categorical_accuracy: 0.4419\n",
      "Epoch 00007: saving model to model4_init_2023-11-2705_13_59.596848/model4-00007-1.34219-0.44193-1.34219-0.44193.h5\n",
      "14/14 [==============================] - 27s 2s/step - loss: 1.3422 - categorical_accuracy: 0.4419 - val_loss: 1.6352 - val_categorical_accuracy: 0.2400 - lr: 4.0000e-04\n",
      "Epoch 8/30\n",
      "14/14 [==============================] - ETA: 0s - loss: 1.3185 - categorical_accuracy: 0.4510\n",
      "Epoch 00008: saving model to model4_init_2023-11-2705_13_59.596848/model4-00008-1.31854-0.45098-1.31854-0.45098.h5\n",
      "14/14 [==============================] - 27s 2s/step - loss: 1.3185 - categorical_accuracy: 0.4510 - val_loss: 1.6074 - val_categorical_accuracy: 0.2000 - lr: 4.0000e-04\n",
      "Epoch 9/30\n",
      "14/14 [==============================] - ETA: 0s - loss: 1.3007 - categorical_accuracy: 0.4796\n",
      "Epoch 00009: saving model to model4_init_2023-11-2705_13_59.596848/model4-00009-1.30069-0.47964-1.30069-0.47964.h5\n",
      "\n",
      "Epoch 00009: ReduceLROnPlateau reducing learning rate to 0.00016000000759959222.\n",
      "14/14 [==============================] - 27s 2s/step - loss: 1.3007 - categorical_accuracy: 0.4796 - val_loss: 1.6572 - val_categorical_accuracy: 0.2100 - lr: 4.0000e-04\n",
      "Epoch 10/30\n",
      "14/14 [==============================] - ETA: 0s - loss: 1.2660 - categorical_accuracy: 0.4781\n",
      "Epoch 00010: saving model to model4_init_2023-11-2705_13_59.596848/model4-00010-1.26595-0.47813-1.26595-0.47813.h5\n",
      "14/14 [==============================] - 29s 2s/step - loss: 1.2660 - categorical_accuracy: 0.4781 - val_loss: 1.6744 - val_categorical_accuracy: 0.2000 - lr: 1.6000e-04\n",
      "Epoch 11/30\n",
      "14/14 [==============================] - ETA: 0s - loss: 1.2740 - categorical_accuracy: 0.4630\n",
      "Epoch 00011: saving model to model4_init_2023-11-2705_13_59.596848/model4-00011-1.27403-0.46305-1.27403-0.46305.h5\n",
      "14/14 [==============================] - 29s 2s/step - loss: 1.2740 - categorical_accuracy: 0.4630 - val_loss: 1.6681 - val_categorical_accuracy: 0.2200 - lr: 1.6000e-04\n",
      "Epoch 12/30\n",
      "14/14 [==============================] - ETA: 0s - loss: 1.2331 - categorical_accuracy: 0.5053\n",
      "Epoch 00012: saving model to model4_init_2023-11-2705_13_59.596848/model4-00012-1.23314-0.50528-1.23314-0.50528.h5\n",
      "14/14 [==============================] - 28s 2s/step - loss: 1.2331 - categorical_accuracy: 0.5053 - val_loss: 1.7020 - val_categorical_accuracy: 0.1600 - lr: 1.6000e-04\n",
      "Epoch 13/30\n",
      "14/14 [==============================] - ETA: 0s - loss: 1.2083 - categorical_accuracy: 0.4781\n",
      "Epoch 00013: saving model to model4_init_2023-11-2705_13_59.596848/model4-00013-1.20830-0.47813-1.20830-0.47813.h5\n",
      "\n",
      "Epoch 00013: ReduceLROnPlateau reducing learning rate to 6.40000042039901e-05.\n",
      "14/14 [==============================] - 28s 2s/step - loss: 1.2083 - categorical_accuracy: 0.4781 - val_loss: 1.6715 - val_categorical_accuracy: 0.2200 - lr: 1.6000e-04\n",
      "Epoch 14/30\n",
      "14/14 [==============================] - ETA: 0s - loss: 1.1821 - categorical_accuracy: 0.5023\n",
      "Epoch 00014: saving model to model4_init_2023-11-2705_13_59.596848/model4-00014-1.18215-0.50226-1.18215-0.50226.h5\n",
      "14/14 [==============================] - 28s 2s/step - loss: 1.1821 - categorical_accuracy: 0.5023 - val_loss: 1.7146 - val_categorical_accuracy: 0.2100 - lr: 6.4000e-05\n",
      "Epoch 15/30\n",
      "14/14 [==============================] - ETA: 0s - loss: 1.2129 - categorical_accuracy: 0.4827\n",
      "Epoch 00015: saving model to model4_init_2023-11-2705_13_59.596848/model4-00015-1.21289-0.48265-1.21289-0.48265.h5\n",
      "14/14 [==============================] - 28s 2s/step - loss: 1.2129 - categorical_accuracy: 0.4827 - val_loss: 1.6483 - val_categorical_accuracy: 0.2500 - lr: 6.4000e-05\n",
      "Epoch 16/30\n",
      "14/14 [==============================] - ETA: 0s - loss: 1.1966 - categorical_accuracy: 0.5143\n",
      "Epoch 00016: saving model to model4_init_2023-11-2705_13_59.596848/model4-00016-1.19665-0.51433-1.19665-0.51433.h5\n",
      "14/14 [==============================] - 28s 2s/step - loss: 1.1966 - categorical_accuracy: 0.5143 - val_loss: 1.6544 - val_categorical_accuracy: 0.2500 - lr: 6.4000e-05\n",
      "Epoch 17/30\n",
      "14/14 [==============================] - ETA: 0s - loss: 1.1906 - categorical_accuracy: 0.5008\n",
      "Epoch 00017: saving model to model4_init_2023-11-2705_13_59.596848/model4-00017-1.19064-0.50075-1.19064-0.50075.h5\n",
      "\n",
      "Epoch 00017: ReduceLROnPlateau reducing learning rate to 2.560000284574926e-05.\n",
      "14/14 [==============================] - 29s 2s/step - loss: 1.1906 - categorical_accuracy: 0.5008 - val_loss: 1.6324 - val_categorical_accuracy: 0.2600 - lr: 6.4000e-05\n",
      "Epoch 18/30\n",
      "14/14 [==============================] - ETA: 0s - loss: 1.1675 - categorical_accuracy: 0.5249\n",
      "Epoch 00018: saving model to model4_init_2023-11-2705_13_59.596848/model4-00018-1.16754-0.52489-1.16754-0.52489.h5\n",
      "14/14 [==============================] - 29s 2s/step - loss: 1.1675 - categorical_accuracy: 0.5249 - val_loss: 1.6460 - val_categorical_accuracy: 0.2800 - lr: 2.5600e-05\n",
      "Epoch 19/30\n",
      "14/14 [==============================] - ETA: 0s - loss: 1.1814 - categorical_accuracy: 0.5279\n",
      "Epoch 00019: saving model to model4_init_2023-11-2705_13_59.596848/model4-00019-1.18141-0.52790-1.18141-0.52790.h5\n",
      "14/14 [==============================] - 27s 2s/step - loss: 1.1814 - categorical_accuracy: 0.5279 - val_loss: 1.6005 - val_categorical_accuracy: 0.2500 - lr: 2.5600e-05\n",
      "Epoch 20/30\n",
      "14/14 [==============================] - ETA: 0s - loss: 1.1487 - categorical_accuracy: 0.5294\n",
      "Epoch 00020: saving model to model4_init_2023-11-2705_13_59.596848/model4-00020-1.14874-0.52941-1.14874-0.52941.h5\n",
      "14/14 [==============================] - 28s 2s/step - loss: 1.1487 - categorical_accuracy: 0.5294 - val_loss: 1.6097 - val_categorical_accuracy: 0.2300 - lr: 2.5600e-05\n",
      "Epoch 21/30\n",
      "14/14 [==============================] - ETA: 0s - loss: 1.1677 - categorical_accuracy: 0.5173\n",
      "Epoch 00021: saving model to model4_init_2023-11-2705_13_59.596848/model4-00021-1.16771-0.51735-1.16771-0.51735.h5\n",
      "14/14 [==============================] - 27s 2s/step - loss: 1.1677 - categorical_accuracy: 0.5173 - val_loss: 1.5694 - val_categorical_accuracy: 0.3100 - lr: 2.5600e-05\n",
      "Epoch 22/30\n",
      "14/14 [==============================] - ETA: 0s - loss: 1.1561 - categorical_accuracy: 0.5219\n",
      "Epoch 00022: saving model to model4_init_2023-11-2705_13_59.596848/model4-00022-1.15612-0.52187-1.15612-0.52187.h5\n",
      "14/14 [==============================] - 27s 2s/step - loss: 1.1561 - categorical_accuracy: 0.5219 - val_loss: 1.5555 - val_categorical_accuracy: 0.3000 - lr: 2.5600e-05\n",
      "Epoch 23/30\n",
      "14/14 [==============================] - ETA: 0s - loss: 1.1494 - categorical_accuracy: 0.5189\n",
      "Epoch 00023: saving model to model4_init_2023-11-2705_13_59.596848/model4-00023-1.14936-0.51885-1.14936-0.51885.h5\n",
      "14/14 [==============================] - 27s 2s/step - loss: 1.1494 - categorical_accuracy: 0.5189 - val_loss: 1.5410 - val_categorical_accuracy: 0.3100 - lr: 2.5600e-05\n",
      "Epoch 24/30\n",
      "14/14 [==============================] - ETA: 0s - loss: 1.1498 - categorical_accuracy: 0.5385\n",
      "Epoch 00024: saving model to model4_init_2023-11-2705_13_59.596848/model4-00024-1.14978-0.53846-1.14978-0.53846.h5\n",
      "14/14 [==============================] - 27s 2s/step - loss: 1.1498 - categorical_accuracy: 0.5385 - val_loss: 1.5739 - val_categorical_accuracy: 0.2700 - lr: 2.5600e-05\n",
      "Epoch 25/30\n",
      "14/14 [==============================] - ETA: 0s - loss: 1.1561 - categorical_accuracy: 0.5173\n",
      "Epoch 00025: saving model to model4_init_2023-11-2705_13_59.596848/model4-00025-1.15607-0.51735-1.15607-0.51735.h5\n",
      "14/14 [==============================] - 27s 2s/step - loss: 1.1561 - categorical_accuracy: 0.5173 - val_loss: 1.5111 - val_categorical_accuracy: 0.2900 - lr: 2.5600e-05\n",
      "Epoch 26/30\n",
      "14/14 [==============================] - ETA: 0s - loss: 1.1487 - categorical_accuracy: 0.5370\n",
      "Epoch 00026: saving model to model4_init_2023-11-2705_13_59.596848/model4-00026-1.14869-0.53695-1.14869-0.53695.h5\n",
      "14/14 [==============================] - 27s 2s/step - loss: 1.1487 - categorical_accuracy: 0.5370 - val_loss: 1.4621 - val_categorical_accuracy: 0.3700 - lr: 2.5600e-05\n",
      "Epoch 27/30\n",
      "14/14 [==============================] - ETA: 0s - loss: 1.1322 - categorical_accuracy: 0.5460\n",
      "Epoch 00027: saving model to model4_init_2023-11-2705_13_59.596848/model4-00027-1.13223-0.54600-1.13223-0.54600.h5\n",
      "14/14 [==============================] - 27s 2s/step - loss: 1.1322 - categorical_accuracy: 0.5460 - val_loss: 1.4949 - val_categorical_accuracy: 0.3500 - lr: 2.5600e-05\n",
      "Epoch 28/30\n",
      "14/14 [==============================] - ETA: 0s - loss: 1.1399 - categorical_accuracy: 0.5249\n",
      "Epoch 00028: saving model to model4_init_2023-11-2705_13_59.596848/model4-00028-1.13993-0.52489-1.13993-0.52489.h5\n",
      "14/14 [==============================] - 27s 2s/step - loss: 1.1399 - categorical_accuracy: 0.5249 - val_loss: 1.4975 - val_categorical_accuracy: 0.3400 - lr: 2.5600e-05\n",
      "Epoch 29/30\n",
      "14/14 [==============================] - ETA: 0s - loss: 1.1376 - categorical_accuracy: 0.5189\n",
      "Epoch 00029: saving model to model4_init_2023-11-2705_13_59.596848/model4-00029-1.13760-0.51885-1.13760-0.51885.h5\n",
      "14/14 [==============================] - 27s 2s/step - loss: 1.1376 - categorical_accuracy: 0.5189 - val_loss: 1.4659 - val_categorical_accuracy: 0.3800 - lr: 2.5600e-05\n",
      "Epoch 30/30\n",
      "14/14 [==============================] - ETA: 0s - loss: 1.1229 - categorical_accuracy: 0.5400\n",
      "Epoch 00030: saving model to model4_init_2023-11-2705_13_59.596848/model4-00030-1.12292-0.53997-1.12292-0.53997.h5\n",
      "14/14 [==============================] - 27s 2s/step - loss: 1.1229 - categorical_accuracy: 0.5400 - val_loss: 1.3556 - val_categorical_accuracy: 0.4200 - lr: 2.5600e-05\n"
     ]
    }
   ],
   "source": [
    "history = model4.fit(train_generator, \n",
    "                     steps_per_epoch=steps_per_epoch,\n",
    "                     epochs=num_epochs, \n",
    "                     verbose=1, \n",
    "                     callbacks=callbacks_list, \n",
    "                     validation_data=val_generator, \n",
    "                     validation_steps=validation_steps, \n",
    "                     class_weight=None,\n",
    "                     use_multiprocessing=False,\n",
    "                     workers=1, \n",
    "                     initial_epoch=0)"
   ]
  },
  {
   "cell_type": "markdown",
   "metadata": {},
   "source": [
    "**Let us plot the model4**\t"
   ]
  },
  {
   "cell_type": "code",
   "execution_count": 41,
   "metadata": {},
   "outputs": [
    {
     "data": {
      "image/png": "[encoded data removed]",
      "text/plain": [
       "<Figure size 432x288 with 1 Axes>"
      ]
     },
     "metadata": {
      "needs_background": "light"
     },
     "output_type": "display_data"
    },
    {
     "data": {
      "image/png": "[encoded data removed]",
      "text/plain": [
       "<Figure size 432x288 with 1 Axes>"
      ]
     },
     "metadata": {
      "needs_background": "light"
     },
     "output_type": "display_data"
    }
   ],
   "source": [
    "# Plotting model accuracy history\n",
    "plt.plot(history.history['categorical_accuracy'], 'o-')\n",
    "plt.plot(history.history['val_categorical_accuracy'], 'o-')\n",
    "plt.title('Model4 Accuracy')\n",
    "plt.ylabel('Accuracy')\n",
    "plt.xlabel('Epoch')\n",
    "plt.legend(['train', 'test'], loc='upper left')\n",
    "plt.show()\n",
    "\n",
    "# Plotting model loss history\n",
    "plt.plot(history.history['loss'], 'o-')\n",
    "plt.plot(history.history['val_loss'], 'o-')\n",
    "plt.title('Model4 loss')\n",
    "plt.ylabel('loss')\n",
    "plt.xlabel('epoch')\n",
    "plt.legend(['train', 'test'], loc='upper left')\n",
    "plt.show()"
   ]
  },
  {
   "cell_type": "markdown",
   "metadata": {},
   "source": [
    "We can see this model has given the validation accuracy of 42% which is better than the previous one.\n",
    "\n",
    "## Building Fifth model - 3D Conv Model\n",
    "\n",
    "In the this model, Input size is considered as 84x84. <br/>"
   ]
  },
  {
   "cell_type": "markdown",
   "metadata": {},
   "source": [
    "## Generator-5"
   ]
  },
  {
   "cell_type": "code",
   "execution_count": 42,
   "metadata": {},
   "outputs": [],
   "source": [
    "# Updating Generator funciton\n",
    "def generator5(source_path, folder_list, batch_size):\n",
    "    print( 'Source path = ', source_path, '; batch size =', batch_size)\n",
    "    \n",
    "    # img_idx = #create a list of image numbers you want to use for a particular video\n",
    "    img_idx = [0, 1, 2, 3, 4, 5, 6, 7, 8, 9, 10, 11, 12, 13, 14, 15, 16, 17, 18, 19, 20, 21, 22, 23, 24, 25, 26, 27, 28, 29]\n",
    "    \n",
    "    while True:\n",
    "        t = np.random.permutation(folder_list)\n",
    "        \n",
    "        # num_batches = # calculate the number of batches\n",
    "        num_batches = int(len(t)/batch_size)\n",
    "        \n",
    "        for batch in range(num_batches): # we iterate over the number of batches\n",
    "            # batch_data = np.zeros((batch_size,x,y,z,3)) # x is the number of images you use for each video, (y,z) is the final size of the input images and 3 is the number of channels RGB\n",
    "            batch_data = np.zeros((batch_size,30,84,84,3)) \n",
    "            batch_labels = np.zeros((batch_size,5)) # batch_labels is the one hot representation of the output\n",
    "            \n",
    "            for folder in range(batch_size): # iterate over the batch_size\n",
    "                imgs = os.listdir(source_path+'/'+ t[folder + (batch*batch_size)].split(';')[0]) # read all the images in the folder\n",
    "                \n",
    "                for idx,item in enumerate(img_idx): #  Iterate iver the frames/images of a folder to read them in\n",
    "                    #image = imread(source_path+'/'+ t[folder + (batch*batch_size)].strip().split(';')[0]+'/'+imgs[item]).astype(np.float32)\n",
    "                    image = cv2.imread(source_path+'/'+t[folder+(batch*batch_size)].strip().split(';')[0]+'/'+imgs[item],cv2.IMREAD_UNCHANGED).astype(np.float32)\n",
    "                    \n",
    "                    #crop the images and resize them. Note that the images are of 2 different shape \n",
    "                    #and the conv3D will throw error if the inputs in a batch have different shapes\n",
    "                    # Cropping Image\n",
    "                    # image = crop_img(image, 0.02)\n",
    "                    # Resizing the image\n",
    "                    if image.shape[1] == 160:\n",
    "                        image = cv2.resize(image[:,20:140,:],(84,84),interpolation = cv2.INTER_AREA).astype(np.float32)\n",
    "                    else:\n",
    "                        image = cv2.resize(image,(84,84), interpolation = cv2.INTER_AREA).astype(np.float32)\n",
    "                    \n",
    "                    # Normalizing and feeding the image\n",
    "                    # batch_data[folder,idx,:,:,0] = #normalise and feed in the image\n",
    "                    # batch_data[folder,idx,:,:,1] = #normalise and feed in the image\n",
    "                    # batch_data[folder,idx,:,:,2] = #normalise and feed in the image\n",
    "                    batch_data[folder,idx,:,:,0] = (image[:,:,0])/255\n",
    "                    batch_data[folder,idx,:,:,1] = (image[:,:,1])/255\n",
    "                    batch_data[folder,idx,:,:,2] = (image[:,:,2])/255\n",
    "                    \n",
    "                batch_labels[folder, int(t[folder + (batch*batch_size)].strip().split(';')[2])] = 1\n",
    "            yield batch_data, batch_labels #you yield the batch_data and the batch_labels, remember what does yield do\n",
    "\n",
    "        \n",
    "        # write the code for the remaining data points which are left after full batches\n",
    "        if (len(t)%batch_size) != 0:\n",
    "            batch_data   = np.zeros((len(t)%batch_size,30,84,84,3))\n",
    "            batch_labels = np.zeros((len(t)%batch_size, 5))\n",
    "            \n",
    "            for folder in range(len(t)%batch_size):\n",
    "                imgs = os.listdir(source_path+'/'+t[folder+(num_batches*batch_size)].split(';')[0])\n",
    "                for idx, item in enumerate(img_idx):\n",
    "                    image = cv2.imread(source_path+'/'+t[folder+(num_batches*batch_size)].strip().split(';')[0]+'/'+imgs[item],cv2.IMREAD_UNCHANGED).astype(np.float32)\n",
    "                    \n",
    "                    # Cropping image\n",
    "                    # image = crop_img(image, 0.02)\n",
    "                    \n",
    "                    # Resizing image\n",
    "                    if image.shape[1] == 160:\n",
    "                        image = cv2.resize(image[:,20:140,:],(84,84),interpolation = cv2.INTER_AREA).astype(np.float32)\n",
    "                    else:\n",
    "                        image = cv2.resize(image,(84,84),interpolation = cv2.INTER_AREA).astype(np.float32)\n",
    "                        \n",
    "                    # Normalizing and feeding the image\n",
    "                    batch_data[folder,idx,:,:,0] = (image[:,:,0])/255\n",
    "                    batch_data[folder,idx,:,:,1] = (image[:,:,1])/255\n",
    "                    batch_data[folder,idx,:,:,2] = (image[:,:,2])/255\n",
    "                    \n",
    "                batch_labels[folder, int(t[folder+(num_batches*batch_size)].strip().split(';')[2])] = 1\n",
    "            yield batch_data, batch_labels"
   ]
  },
  {
   "cell_type": "code",
   "execution_count": 43,
   "metadata": {},
   "outputs": [
    {
     "name": "stdout",
     "output_type": "stream",
     "text": [
      "# training sequences = 663\n",
      "# validation sequences = 100\n",
      "# epochs = 30\n",
      "# batch_size = 30\n"
     ]
    }
   ],
   "source": [
    "curr_dt_time = datetime.datetime.now()\n",
    "train_path = '/home/datasets/Project_data/train'\n",
    "val_path = '/home/datasets/Project_data/val'\n",
    "num_train_sequences = len(train_doc)\n",
    "print('# training sequences =', num_train_sequences)\n",
    "num_val_sequences = len(val_doc)\n",
    "print('# validation sequences =', num_val_sequences)\n",
    "num_epochs = 30 # choose the number of epochs\n",
    "print ('# epochs =', num_epochs)\n",
    "batch_size = 30\n",
    "print('# batch_size =',batch_size)"
   ]
  },
  {
   "cell_type": "code",
   "execution_count": 44,
   "metadata": {},
   "outputs": [],
   "source": [
    "# Model Building\n",
    "model5 = Sequential()\n",
    "\n",
    "model5.add(Conv3D(8,(3,3,3), padding='same', input_shape=(30,84,84,3)))\n",
    "model5.add(Activation('relu'))\n",
    "model5.add(BatchNormalization())\n",
    "model5.add(MaxPooling3D(pool_size=(2,2,2)))\n",
    "\n",
    "model5.add(Conv3D(16,(3,3,3), padding='same'))\n",
    "model5.add(Activation('relu'))\n",
    "model5.add(BatchNormalization())\n",
    "model5.add(MaxPooling3D(pool_size=(2,2,2)))\n",
    "\n",
    "model5.add(Conv3D(32,(3,3,3), padding='same'))\n",
    "model5.add(BatchNormalization())\n",
    "model5.add(Activation('relu'))\n",
    "model5.add(MaxPooling3D(pool_size=(2,2,2)))\n",
    "\n",
    "model5.add(Conv3D(64,(3,3,3), padding='same'))\n",
    "model5.add(Activation('relu'))\n",
    "model5.add(BatchNormalization())\n",
    "model5.add(MaxPooling3D(pool_size=(2,2,2)))\n",
    "\n",
    "model5.add(Flatten())\n",
    "model5.add(Dense(64, activation='relu'))\n",
    "model5.add(BatchNormalization())\n",
    "model5.add(Dropout(0.25))\n",
    "model5.add(Dense(64, activation='relu'))\n",
    "model5.add(BatchNormalization())\n",
    "model5.add(Dropout(0.25))\n",
    "\n",
    "model5.add(Dense(5, activation='softmax'))"
   ]
  },
  {
   "cell_type": "code",
   "execution_count": 45,
   "metadata": {},
   "outputs": [
    {
     "name": "stdout",
     "output_type": "stream",
     "text": [
      "Model: \"sequential_4\"\n",
      "_________________________________________________________________\n",
      " Layer (type)                Output Shape              Param #   \n",
      "=================================================================\n",
      " conv3d_16 (Conv3D)          (None, 30, 84, 84, 8)     656       \n",
      "                                                                 \n",
      " activation_16 (Activation)  (None, 30, 84, 84, 8)     0         \n",
      "                                                                 \n",
      " batch_normalization_21 (Bat  (None, 30, 84, 84, 8)    32        \n",
      " chNormalization)                                                \n",
      "                                                                 \n",
      " max_pooling3d_16 (MaxPoolin  (None, 15, 42, 42, 8)    0         \n",
      " g3D)                                                            \n",
      "                                                                 \n",
      " conv3d_17 (Conv3D)          (None, 15, 42, 42, 16)    3472      \n",
      "                                                                 \n",
      " activation_17 (Activation)  (None, 15, 42, 42, 16)    0         \n",
      "                                                                 \n",
      " batch_normalization_22 (Bat  (None, 15, 42, 42, 16)   64        \n",
      " chNormalization)                                                \n",
      "                                                                 \n",
      " max_pooling3d_17 (MaxPoolin  (None, 7, 21, 21, 16)    0         \n",
      " g3D)                                                            \n",
      "                                                                 \n",
      " conv3d_18 (Conv3D)          (None, 7, 21, 21, 32)     13856     \n",
      "                                                                 \n",
      " batch_normalization_23 (Bat  (None, 7, 21, 21, 32)    128       \n",
      " chNormalization)                                                \n",
      "                                                                 \n",
      " activation_18 (Activation)  (None, 7, 21, 21, 32)     0         \n",
      "                                                                 \n",
      " max_pooling3d_18 (MaxPoolin  (None, 3, 10, 10, 32)    0         \n",
      " g3D)                                                            \n",
      "                                                                 \n",
      " conv3d_19 (Conv3D)          (None, 3, 10, 10, 64)     55360     \n",
      "                                                                 \n",
      " activation_19 (Activation)  (None, 3, 10, 10, 64)     0         \n",
      "                                                                 \n",
      " batch_normalization_24 (Bat  (None, 3, 10, 10, 64)    256       \n",
      " chNormalization)                                                \n",
      "                                                                 \n",
      " max_pooling3d_19 (MaxPoolin  (None, 1, 5, 5, 64)      0         \n",
      " g3D)                                                            \n",
      "                                                                 \n",
      " flatten_4 (Flatten)         (None, 1600)              0         \n",
      "                                                                 \n",
      " dense_12 (Dense)            (None, 64)                102464    \n",
      "                                                                 \n",
      " batch_normalization_25 (Bat  (None, 64)               256       \n",
      " chNormalization)                                                \n",
      "                                                                 \n",
      " dropout_9 (Dropout)         (None, 64)                0         \n",
      "                                                                 \n",
      " dense_13 (Dense)            (None, 64)                4160      \n",
      "                                                                 \n",
      " batch_normalization_26 (Bat  (None, 64)               256       \n",
      " chNormalization)                                                \n",
      "                                                                 \n",
      " dropout_10 (Dropout)        (None, 64)                0         \n",
      "                                                                 \n",
      " dense_14 (Dense)            (None, 5)                 325       \n",
      "                                                                 \n",
      "=================================================================\n",
      "Total params: 181,285\n",
      "Trainable params: 180,789\n",
      "Non-trainable params: 496\n",
      "_________________________________________________________________\n",
      "None\n"
     ]
    }
   ],
   "source": [
    "# Writing optimizer and compiling the model\n",
    "optimiser = optimizers.Adam(learning_rate=0.0002)\n",
    "model5.compile(optimizer=optimiser, loss='categorical_crossentropy', metrics=['categorical_accuracy'])\n",
    "print (model5.summary())"
   ]
  },
  {
   "cell_type": "code",
   "execution_count": 46,
   "metadata": {},
   "outputs": [],
   "source": [
    "train_generator = generator5(train_path, train_doc, batch_size)\n",
    "val_generator = generator5(val_path, val_doc, batch_size)"
   ]
  },
  {
   "cell_type": "code",
   "execution_count": 47,
   "metadata": {},
   "outputs": [],
   "source": [
    "model_name = 'model5_init' + '_' + str(curr_dt_time).replace(' ','').replace(':','_') + '/'\n",
    "    \n",
    "if not os.path.exists(model_name):\n",
    "    os.mkdir(model_name)\n",
    "        \n",
    "filepath = model_name + 'model5-{epoch:05d}-{loss:.5f}-{categorical_accuracy:.5f}-{loss:.5f}-{categorical_accuracy:.5f}.h5'\n",
    "\n",
    "checkpoint = ModelCheckpoint(filepath, monitor='loss', verbose=1, save_best_only=False, save_weights_only=False, mode='auto', save_freq='epoch')\n",
    "\n",
    "# write the REducelronplateau code here\n",
    "LR = ReduceLROnPlateau(monitor='val_loss', factor=0.2, patience=4, verbose =1 )\n",
    "\n",
    "callbacks_list = [checkpoint, LR]"
   ]
  },
  {
   "cell_type": "code",
   "execution_count": 48,
   "metadata": {},
   "outputs": [],
   "source": [
    "if (num_train_sequences%batch_size) == 0:\n",
    "    steps_per_epoch = int(num_train_sequences/batch_size)\n",
    "else:\n",
    "    steps_per_epoch = (num_train_sequences//batch_size) + 1\n",
    "\n",
    "if (num_val_sequences%batch_size) == 0:\n",
    "    validation_steps = int(num_val_sequences/batch_size)\n",
    "else:\n",
    "    validation_steps = (num_val_sequences//batch_size) + 1"
   ]
  },
  {
   "cell_type": "code",
   "execution_count": 49,
   "metadata": {},
   "outputs": [
    {
     "name": "stdout",
     "output_type": "stream",
     "text": [
      "Source path =  /home/datasets/Project_data/train ; batch size = 30\n",
      "Epoch 1/30\n",
      "23/23 [==============================] - ETA: 0s - loss: 1.9598 - categorical_accuracy: 0.3137Source path =  /home/datasets/Project_data/val ; batch size = 30\n",
      "\n",
      "Epoch 00001: saving model to model5_init_2023-11-2705_30_42.068738/model5-00001-1.95978-0.31373-1.95978-0.31373.h5\n",
      "23/23 [==============================] - 59s 3s/step - loss: 1.9598 - categorical_accuracy: 0.3137 - val_loss: 1.6321 - val_categorical_accuracy: 0.1600 - lr: 2.0000e-04\n",
      "Epoch 2/30\n",
      "23/23 [==============================] - ETA: 0s - loss: 1.5461 - categorical_accuracy: 0.4027\n",
      "Epoch 00002: saving model to model5_init_2023-11-2705_30_42.068738/model5-00002-1.54609-0.40271-1.54609-0.40271.h5\n",
      "23/23 [==============================] - 51s 2s/step - loss: 1.5461 - categorical_accuracy: 0.4027 - val_loss: 1.6926 - val_categorical_accuracy: 0.1700 - lr: 2.0000e-04\n",
      "Epoch 3/30\n",
      "23/23 [==============================] - ETA: 0s - loss: 1.2871 - categorical_accuracy: 0.4751\n",
      "Epoch 00003: saving model to model5_init_2023-11-2705_30_42.068738/model5-00003-1.28707-0.47511-1.28707-0.47511.h5\n",
      "23/23 [==============================] - 51s 2s/step - loss: 1.2871 - categorical_accuracy: 0.4751 - val_loss: 1.8227 - val_categorical_accuracy: 0.1400 - lr: 2.0000e-04\n",
      "Epoch 4/30\n",
      "23/23 [==============================] - ETA: 0s - loss: 1.1881 - categorical_accuracy: 0.5520\n",
      "Epoch 00004: saving model to model5_init_2023-11-2705_30_42.068738/model5-00004-1.18813-0.55204-1.18813-0.55204.h5\n",
      "23/23 [==============================] - 50s 2s/step - loss: 1.1881 - categorical_accuracy: 0.5520 - val_loss: 1.8360 - val_categorical_accuracy: 0.1900 - lr: 2.0000e-04\n",
      "Epoch 5/30\n",
      "22/23 [===========================>..] - ETA: 1s - loss: 1.1113 - categorical_accuracy: 0.5576\n",
      "Epoch 00005: saving model to model5_init_2023-11-2705_30_42.068738/model5-00005-1.11758-0.55505-1.11758-0.55505.h5\n",
      "\n",
      "Epoch 00005: ReduceLROnPlateau reducing learning rate to 3.9999998989515007e-05.\n",
      "23/23 [==============================] - 51s 2s/step - loss: 1.1176 - categorical_accuracy: 0.5551 - val_loss: 1.9346 - val_categorical_accuracy: 0.1600 - lr: 2.0000e-04\n",
      "Epoch 6/30\n",
      "22/23 [===========================>..] - ETA: 1s - loss: 0.9407 - categorical_accuracy: 0.6379\n",
      "Epoch 00006: saving model to model5_init_2023-11-2705_30_42.068738/model5-00006-0.94781-0.63650-0.94781-0.63650.h5\n",
      "23/23 [==============================] - 51s 2s/step - loss: 0.9478 - categorical_accuracy: 0.6365 - val_loss: 1.8593 - val_categorical_accuracy: 0.2700 - lr: 4.0000e-05\n",
      "Epoch 7/30\n",
      "23/23 [==============================] - ETA: 0s - loss: 0.9209 - categorical_accuracy: 0.6516\n",
      "Epoch 00007: saving model to model5_init_2023-11-2705_30_42.068738/model5-00007-0.92090-0.65158-0.92090-0.65158.h5\n",
      "23/23 [==============================] - 52s 2s/step - loss: 0.9209 - categorical_accuracy: 0.6516 - val_loss: 2.0499 - val_categorical_accuracy: 0.2100 - lr: 4.0000e-05\n",
      "Epoch 8/30\n",
      "23/23 [==============================] - ETA: 0s - loss: 0.9585 - categorical_accuracy: 0.6275\n",
      "Epoch 00008: saving model to model5_init_2023-11-2705_30_42.068738/model5-00008-0.95845-0.62745-0.95845-0.62745.h5\n",
      "23/23 [==============================] - 52s 2s/step - loss: 0.9585 - categorical_accuracy: 0.6275 - val_loss: 2.1007 - val_categorical_accuracy: 0.2700 - lr: 4.0000e-05\n",
      "Epoch 9/30\n",
      "23/23 [==============================] - ETA: 0s - loss: 0.8731 - categorical_accuracy: 0.6772\n",
      "Epoch 00009: saving model to model5_init_2023-11-2705_30_42.068738/model5-00009-0.87311-0.67722-0.87311-0.67722.h5\n",
      "\n",
      "Epoch 00009: ReduceLROnPlateau reducing learning rate to 7.999999797903002e-06.\n",
      "23/23 [==============================] - 53s 2s/step - loss: 0.8731 - categorical_accuracy: 0.6772 - val_loss: 2.1570 - val_categorical_accuracy: 0.2000 - lr: 4.0000e-05\n",
      "Epoch 10/30\n",
      "23/23 [==============================] - ETA: 0s - loss: 0.8081 - categorical_accuracy: 0.6983\n",
      "Epoch 00010: saving model to model5_init_2023-11-2705_30_42.068738/model5-00010-0.80810-0.69834-0.80810-0.69834.h5\n",
      "23/23 [==============================] - 52s 2s/step - loss: 0.8081 - categorical_accuracy: 0.6983 - val_loss: 2.0889 - val_categorical_accuracy: 0.2200 - lr: 8.0000e-06\n",
      "Epoch 11/30\n",
      "22/23 [===========================>..] - ETA: 1s - loss: 0.8723 - categorical_accuracy: 0.6576\n",
      "Epoch 00011: saving model to model5_init_2023-11-2705_30_42.068738/model5-00011-0.87464-0.65611-0.87464-0.65611.h5\n",
      "23/23 [==============================] - 52s 2s/step - loss: 0.8746 - categorical_accuracy: 0.6561 - val_loss: 2.2415 - val_categorical_accuracy: 0.1800 - lr: 8.0000e-06\n",
      "Epoch 12/30\n",
      "23/23 [==============================] - ETA: 0s - loss: 0.8491 - categorical_accuracy: 0.6727\n",
      "Epoch 00012: saving model to model5_init_2023-11-2705_30_42.068738/model5-00012-0.84912-0.67270-0.84912-0.67270.h5\n",
      "23/23 [==============================] - 51s 2s/step - loss: 0.8491 - categorical_accuracy: 0.6727 - val_loss: 2.1148 - val_categorical_accuracy: 0.2300 - lr: 8.0000e-06\n",
      "Epoch 13/30\n",
      "23/23 [==============================] - ETA: 0s - loss: 0.7973 - categorical_accuracy: 0.6817\n",
      "Epoch 00013: saving model to model5_init_2023-11-2705_30_42.068738/model5-00013-0.79728-0.68175-0.79728-0.68175.h5\n",
      "\n",
      "Epoch 00013: ReduceLROnPlateau reducing learning rate to 1.5999999959603884e-06.\n",
      "23/23 [==============================] - 52s 2s/step - loss: 0.7973 - categorical_accuracy: 0.6817 - val_loss: 2.1474 - val_categorical_accuracy: 0.2200 - lr: 8.0000e-06\n",
      "Epoch 14/30\n",
      "22/23 [===========================>..] - ETA: 2s - loss: 0.8559 - categorical_accuracy: 0.7076\n",
      "Epoch 00014: saving model to model5_init_2023-11-2705_30_42.068738/model5-00014-0.85777-0.70739-0.85777-0.70739.h5\n",
      "23/23 [==============================] - 54s 2s/step - loss: 0.8578 - categorical_accuracy: 0.7074 - val_loss: 2.0888 - val_categorical_accuracy: 0.2600 - lr: 1.6000e-06\n",
      "Epoch 15/30\n",
      "23/23 [==============================] - ETA: 0s - loss: 0.8163 - categorical_accuracy: 0.6802\n",
      "Epoch 00015: saving model to model5_init_2023-11-2705_30_42.068738/model5-00015-0.81633-0.68024-0.81633-0.68024.h5\n",
      "23/23 [==============================] - 52s 2s/step - loss: 0.8163 - categorical_accuracy: 0.6802 - val_loss: 2.0644 - val_categorical_accuracy: 0.2700 - lr: 1.6000e-06\n",
      "Epoch 16/30\n",
      "23/23 [==============================] - ETA: 0s - loss: 0.8843 - categorical_accuracy: 0.6712\n",
      "Epoch 00016: saving model to model5_init_2023-11-2705_30_42.068738/model5-00016-0.88435-0.67119-0.88435-0.67119.h5\n",
      "23/23 [==============================] - 49s 2s/step - loss: 0.8843 - categorical_accuracy: 0.6712 - val_loss: 1.8348 - val_categorical_accuracy: 0.3100 - lr: 1.6000e-06\n",
      "Epoch 17/30\n",
      "23/23 [==============================] - ETA: 0s - loss: 0.8698 - categorical_accuracy: 0.6878\n",
      "Epoch 00017: saving model to model5_init_2023-11-2705_30_42.068738/model5-00017-0.86977-0.68778-0.86977-0.68778.h5\n",
      "\n",
      "Epoch 00017: ReduceLROnPlateau reducing learning rate to 3.200000037395512e-07.\n",
      "23/23 [==============================] - 52s 2s/step - loss: 0.8698 - categorical_accuracy: 0.6878 - val_loss: 1.8506 - val_categorical_accuracy: 0.2500 - lr: 1.6000e-06\n",
      "Epoch 18/30\n",
      "23/23 [==============================] - ETA: 0s - loss: 0.8658 - categorical_accuracy: 0.6697\n",
      "Epoch 00018: saving model to model5_init_2023-11-2705_30_42.068738/model5-00018-0.86576-0.66968-0.86576-0.66968.h5\n",
      "23/23 [==============================] - 54s 2s/step - loss: 0.8658 - categorical_accuracy: 0.6697 - val_loss: 1.6451 - val_categorical_accuracy: 0.3300 - lr: 3.2000e-07\n",
      "Epoch 19/30\n",
      "23/23 [==============================] - ETA: 0s - loss: 0.8562 - categorical_accuracy: 0.6621\n",
      "Epoch 00019: saving model to model5_init_2023-11-2705_30_42.068738/model5-00019-0.85622-0.66214-0.85622-0.66214.h5\n",
      "23/23 [==============================] - 54s 2s/step - loss: 0.8562 - categorical_accuracy: 0.6621 - val_loss: 1.7207 - val_categorical_accuracy: 0.3300 - lr: 3.2000e-07\n",
      "Epoch 20/30\n",
      "23/23 [==============================] - ETA: 0s - loss: 0.8060 - categorical_accuracy: 0.6878\n",
      "Epoch 00020: saving model to model5_init_2023-11-2705_30_42.068738/model5-00020-0.80598-0.68778-0.80598-0.68778.h5\n",
      "23/23 [==============================] - 50s 2s/step - loss: 0.8060 - categorical_accuracy: 0.6878 - val_loss: 1.5299 - val_categorical_accuracy: 0.4100 - lr: 3.2000e-07\n",
      "Epoch 21/30\n",
      "23/23 [==============================] - ETA: 0s - loss: 0.8533 - categorical_accuracy: 0.6772\n",
      "Epoch 00021: saving model to model5_init_2023-11-2705_30_42.068738/model5-00021-0.85329-0.67722-0.85329-0.67722.h5\n",
      "23/23 [==============================] - 51s 2s/step - loss: 0.8533 - categorical_accuracy: 0.6772 - val_loss: 1.4335 - val_categorical_accuracy: 0.4600 - lr: 3.2000e-07\n",
      "Epoch 22/30\n",
      "22/23 [===========================>..] - ETA: 1s - loss: 0.8824 - categorical_accuracy: 0.6742\n",
      "Epoch 00022: saving model to model5_init_2023-11-2705_30_42.068738/model5-00022-0.88753-0.67270-0.88753-0.67270.h5\n",
      "23/23 [==============================] - 51s 2s/step - loss: 0.8875 - categorical_accuracy: 0.6727 - val_loss: 1.3638 - val_categorical_accuracy: 0.4600 - lr: 3.2000e-07\n",
      "Epoch 23/30\n",
      "23/23 [==============================] - ETA: 0s - loss: 0.8419 - categorical_accuracy: 0.6833\n",
      "Epoch 00023: saving model to model5_init_2023-11-2705_30_42.068738/model5-00023-0.84187-0.68326-0.84187-0.68326.h5\n",
      "23/23 [==============================] - 50s 2s/step - loss: 0.8419 - categorical_accuracy: 0.6833 - val_loss: 1.2941 - val_categorical_accuracy: 0.6000 - lr: 3.2000e-07\n",
      "Epoch 24/30\n",
      "22/23 [===========================>..] - ETA: 1s - loss: 0.7890 - categorical_accuracy: 0.7258\n",
      "Epoch 00024: saving model to model5_init_2023-11-2705_30_42.068738/model5-00024-0.79270-0.72549-0.79270-0.72549.h5\n",
      "23/23 [==============================] - 49s 2s/step - loss: 0.7927 - categorical_accuracy: 0.7255 - val_loss: 1.2215 - val_categorical_accuracy: 0.5700 - lr: 3.2000e-07\n",
      "Epoch 25/30\n",
      "23/23 [==============================] - ETA: 0s - loss: 0.8438 - categorical_accuracy: 0.6802\n",
      "Epoch 00025: saving model to model5_init_2023-11-2705_30_42.068738/model5-00025-0.84376-0.68024-0.84376-0.68024.h5\n",
      "23/23 [==============================] - 50s 2s/step - loss: 0.8438 - categorical_accuracy: 0.6802 - val_loss: 1.1479 - val_categorical_accuracy: 0.6000 - lr: 3.2000e-07\n",
      "Epoch 26/30\n",
      "23/23 [==============================] - ETA: 0s - loss: 0.8692 - categorical_accuracy: 0.6606\n",
      "Epoch 00026: saving model to model5_init_2023-11-2705_30_42.068738/model5-00026-0.86921-0.66063-0.86921-0.66063.h5\n",
      "23/23 [==============================] - 56s 3s/step - loss: 0.8692 - categorical_accuracy: 0.6606 - val_loss: 1.1191 - val_categorical_accuracy: 0.6100 - lr: 3.2000e-07\n",
      "Epoch 27/30\n",
      "23/23 [==============================] - ETA: 0s - loss: 0.7929 - categorical_accuracy: 0.7195\n",
      "Epoch 00027: saving model to model5_init_2023-11-2705_30_42.068738/model5-00027-0.79285-0.71946-0.79285-0.71946.h5\n",
      "23/23 [==============================] - 50s 2s/step - loss: 0.7929 - categorical_accuracy: 0.7195 - val_loss: 1.1226 - val_categorical_accuracy: 0.6500 - lr: 3.2000e-07\n",
      "Epoch 28/30\n",
      "22/23 [===========================>..] - ETA: 1s - loss: 0.8379 - categorical_accuracy: 0.6833\n",
      "Epoch 00028: saving model to model5_init_2023-11-2705_30_42.068738/model5-00028-0.83933-0.68326-0.83933-0.68326.h5\n",
      "23/23 [==============================] - 49s 2s/step - loss: 0.8393 - categorical_accuracy: 0.6833 - val_loss: 1.0093 - val_categorical_accuracy: 0.6500 - lr: 3.2000e-07\n",
      "Epoch 29/30\n",
      "23/23 [==============================] - ETA: 0s - loss: 0.8688 - categorical_accuracy: 0.6772\n",
      "Epoch 00029: saving model to model5_init_2023-11-2705_30_42.068738/model5-00029-0.86880-0.67722-0.86880-0.67722.h5\n",
      "23/23 [==============================] - 50s 2s/step - loss: 0.8688 - categorical_accuracy: 0.6772 - val_loss: 1.0476 - val_categorical_accuracy: 0.6400 - lr: 3.2000e-07\n",
      "Epoch 30/30\n",
      "23/23 [==============================] - ETA: 0s - loss: 0.8809 - categorical_accuracy: 0.6682\n",
      "Epoch 00030: saving model to model5_init_2023-11-2705_30_42.068738/model5-00030-0.88094-0.66817-0.88094-0.66817.h5\n",
      "23/23 [==============================] - 53s 2s/step - loss: 0.8809 - categorical_accuracy: 0.6682 - val_loss: 1.0236 - val_categorical_accuracy: 0.6300 - lr: 3.2000e-07\n"
     ]
    }
   ],
   "source": [
    "history = model5.fit(train_generator, \n",
    "                     steps_per_epoch=steps_per_epoch,\n",
    "                     epochs=num_epochs, \n",
    "                     verbose=1, \n",
    "                     callbacks=callbacks_list, \n",
    "                     validation_data=val_generator, \n",
    "                     validation_steps=validation_steps, \n",
    "                     class_weight=None,\n",
    "                     workers=1, \n",
    "                     initial_epoch=0)"
   ]
  },
  {
   "cell_type": "markdown",
   "metadata": {},
   "source": [
    "**Let us plot the model5**\t"
   ]
  },
  {
   "cell_type": "code",
   "execution_count": 50,
   "metadata": {},
   "outputs": [
    {
     "data": {
      "image/png": "[encoded data removed]",
      "text/plain": [
       "<Figure size 432x288 with 1 Axes>"
      ]
     },
     "metadata": {
      "needs_background": "light"
     },
     "output_type": "display_data"
    },
    {
     "data": {
      "image/png": "[encoded data removed]",
      "text/plain": [
       "<Figure size 432x288 with 1 Axes>"
      ]
     },
     "metadata": {
      "needs_background": "light"
     },
     "output_type": "display_data"
    }
   ],
   "source": [
    "# Plotting model accuracy history\n",
    "plt.plot(history.history['categorical_accuracy'], 'o-')\n",
    "plt.plot(history.history['val_categorical_accuracy'], 'o-')\n",
    "plt.title('Model5 Accuracy')\n",
    "plt.ylabel('Accuracy')\n",
    "plt.xlabel('Epoch')\n",
    "plt.legend(['train', 'test'], loc='upper left')\n",
    "plt.show()\n",
    "\n",
    "# Plotting model loss history\n",
    "plt.plot(history.history['loss'], 'o-')\n",
    "plt.plot(history.history['val_loss'], 'o-')\n",
    "plt.title('Model5 loss')\n",
    "plt.ylabel('loss')\n",
    "plt.xlabel('epoch')\n",
    "plt.legend(['train', 'test'], loc='upper left')\n",
    "plt.show()"
   ]
  },
  {
   "cell_type": "markdown",
   "metadata": {},
   "source": [
    "Finally we have received the test accuracy of 66.82% and validation accuracy of 63% using convolutional model which is very good compared to the previous one.\n",
    "\n",
    "## Since the performance of Conv3D model is not so good, \n",
    "## Let us try with LSTM Model"
   ]
  },
  {
   "cell_type": "code",
   "execution_count": 51,
   "metadata": {},
   "outputs": [],
   "source": [
    "input_shape = (30,120,120,3)"
   ]
  },
  {
   "cell_type": "markdown",
   "metadata": {},
   "source": [
    "## Generator-6"
   ]
  },
  {
   "cell_type": "code",
   "execution_count": 52,
   "metadata": {},
   "outputs": [],
   "source": [
    "# Updating Generator funciton\n",
    "def generator6_lstm(source_path, folder_list, batch_size):\n",
    "    print( 'Source path = ', source_path, '; batch size =', batch_size)\n",
    "    \n",
    "    # img_idx = #create a list of image numbers you want to use for a particular video\n",
    "    img_idx = [0, 1, 2, 3, 4, 5, 6, 7, 8, 9, 10, 11, 12, 13, 14, 15, 16, 17, 18, 19, 20, 21, 22, 23, 24, 25, 26, 27, 28, 29]\n",
    "    \n",
    "    while True:\n",
    "        t = np.random.permutation(folder_list)\n",
    "        \n",
    "        # num_batches = # calculate the number of batches\n",
    "        num_batches = int(len(t)/batch_size)\n",
    "        \n",
    "        for batch in range(num_batches): # we iterate over the number of batches\n",
    "            # batch_data = np.zeros((batch_size,x,y,z,3)) # x is the number of images you use for each video, (y,z) is the final size of the input images and 3 is the number of channels RGB\n",
    "            batch_data = np.zeros((batch_size,30,120,120,3)) \n",
    "            batch_labels = np.zeros((batch_size,5)) # batch_labels is the one hot representation of the output\n",
    "            \n",
    "            for folder in range(batch_size): # iterate over the batch_size\n",
    "                imgs = os.listdir(source_path+'/'+ t[folder + (batch*batch_size)].split(';')[0]) # read all the images in the folder\n",
    "                \n",
    "                for idx,item in enumerate(img_idx): #  Iterate iver the frames/images of a folder to read them in\n",
    "                    #image = imread(source_path+'/'+ t[folder + (batch*batch_size)].strip().split(';')[0]+'/'+imgs[item]).astype(np.float32)\n",
    "                    image = cv2.imread(source_path+'/'+t[folder+(batch*batch_size)].strip().split(';')[0]+'/'+imgs[item],cv2.IMREAD_UNCHANGED).astype(np.float32)\n",
    "                    \n",
    "                    #crop the images and resize them. Note that the images are of 2 different shape \n",
    "                    #and the conv3D will throw error if the inputs in a batch have different shapes\n",
    "                    # Cropping Image\n",
    "                    # image = crop_img(image, 0.02)\n",
    "                    # Resizing the image\n",
    "                    if image.shape[1] == 160:\n",
    "                        image = cv2.resize(image[:,20:140,:],(120,120),interpolation = cv2.INTER_AREA).astype(np.float32)\n",
    "                    else:\n",
    "                        image = cv2.resize(image,(120,120), interpolation = cv2.INTER_AREA).astype(np.float32)\n",
    "                    \n",
    "                    # Normalizing and feeding the image\n",
    "                    # batch_data[folder,idx,:,:,0] = #normalise and feed in the image\n",
    "                    # batch_data[folder,idx,:,:,1] = #normalise and feed in the image\n",
    "                    # batch_data[folder,idx,:,:,2] = #normalise and feed in the image\n",
    "                    batch_data[folder,idx,:,:,0] = (image[:,:,0])/255\n",
    "                    batch_data[folder,idx,:,:,1] = (image[:,:,1])/255\n",
    "                    batch_data[folder,idx,:,:,2] = (image[:,:,2])/255\n",
    "                    \n",
    "                batch_labels[folder, int(t[folder + (batch*batch_size)].strip().split(';')[2])] = 1\n",
    "            yield batch_data, batch_labels #you yield the batch_data and the batch_labels, remember what does yield do\n",
    "\n",
    "        \n",
    "        # write the code for the remaining data points which are left after full batches\n",
    "        if (len(t)%batch_size) != 0:\n",
    "            batch_data   = np.zeros((len(t)%batch_size,30,120,120,3))\n",
    "            batch_labels = np.zeros((len(t)%batch_size, 5))\n",
    "            \n",
    "            for folder in range(len(t)%batch_size):\n",
    "                imgs = os.listdir(source_path+'/'+t[folder+(num_batches*batch_size)].split(';')[0])\n",
    "                for idx, item in enumerate(img_idx):\n",
    "                    image = cv2.imread(source_path+'/'+t[folder+(num_batches*batch_size)].strip().split(';')[0]+'/'+imgs[item],cv2.IMREAD_UNCHANGED).astype(np.float32)\n",
    "                    \n",
    "                    # Cropping image\n",
    "                    # image = crop_img(image, 0.02)\n",
    "                    \n",
    "                    # Resizing image\n",
    "                    if image.shape[1] == 160:\n",
    "                        image = cv2.resize(image[:,20:140,:],(120,120),interpolation = cv2.INTER_AREA).astype(np.float32)\n",
    "                    else:\n",
    "                        image = cv2.resize(image,(120,120),interpolation = cv2.INTER_AREA).astype(np.float32)\n",
    "                        \n",
    "                    # Normalizing and feeding the image\n",
    "                    batch_data[folder,idx,:,:,0] = (image[:,:,0])/255\n",
    "                    batch_data[folder,idx,:,:,1] = (image[:,:,1])/255\n",
    "                    batch_data[folder,idx,:,:,2] = (image[:,:,2])/255\n",
    "                    \n",
    "                batch_labels[folder, int(t[folder+(num_batches*batch_size)].strip().split(';')[2])] = 1\n",
    "            yield batch_data, batch_labels"
   ]
  },
  {
   "cell_type": "code",
   "execution_count": 53,
   "metadata": {},
   "outputs": [
    {
     "name": "stdout",
     "output_type": "stream",
     "text": [
      "# training sequences = 663\n",
      "# validation sequences = 100\n",
      "# epochs = 20\n",
      "# batch_size = 20\n"
     ]
    }
   ],
   "source": [
    "curr_dt_time = datetime.datetime.now()\n",
    "train_path = '/home/datasets/Project_data/train'\n",
    "val_path = '/home/datasets/Project_data/val'\n",
    "num_train_sequences = len(train_doc)\n",
    "print('# training sequences =', num_train_sequences)\n",
    "num_val_sequences = len(val_doc)\n",
    "print('# validation sequences =', num_val_sequences)\n",
    "num_epochs = 20 # choose the number of epochs\n",
    "print ('# epochs =', num_epochs)\n",
    "batch_size = 20\n",
    "print('# batch_size =',batch_size)"
   ]
  },
  {
   "cell_type": "code",
   "execution_count": 54,
   "metadata": {},
   "outputs": [],
   "source": [
    "from tensorflow.keras.layers import TimeDistributed"
   ]
  },
  {
   "cell_type": "code",
   "execution_count": 55,
   "metadata": {},
   "outputs": [],
   "source": [
    "# Model Building\n",
    "model6_lstm = Sequential()\n",
    "\n",
    "model6_lstm.add(TimeDistributed(Conv2D(16, (3, 3) , padding='same', activation='relu'), input_shape=input_shape))\n",
    "model6_lstm.add(TimeDistributed(BatchNormalization()))\n",
    "model6_lstm.add(TimeDistributed(MaxPooling2D((2, 2))))\n",
    "\n",
    "model6_lstm.add(TimeDistributed(Conv2D(32, (3, 3) , padding='same', activation='relu')))\n",
    "model6_lstm.add(TimeDistributed(BatchNormalization()))\n",
    "model6_lstm.add(TimeDistributed(MaxPooling2D((2, 2))))\n",
    "\n",
    "model6_lstm.add(TimeDistributed(Conv2D(64, (3, 3) , padding='same', activation='relu')))\n",
    "model6_lstm.add(TimeDistributed(BatchNormalization()))\n",
    "model6_lstm.add(TimeDistributed(MaxPooling2D((2, 2))))\n",
    "\n",
    "model6_lstm.add(TimeDistributed(Conv2D(128, (3, 3) , padding='same', activation='relu')))\n",
    "model6_lstm.add(TimeDistributed(BatchNormalization()))\n",
    "model6_lstm.add(TimeDistributed(MaxPooling2D((2, 2))))\n",
    "\n",
    "model6_lstm.add(TimeDistributed(Conv2D(256, (3, 3) , padding='same', activation='relu')))\n",
    "model6_lstm.add(TimeDistributed(BatchNormalization()))\n",
    "model6_lstm.add(TimeDistributed(MaxPooling2D((2, 2))))\n",
    "\n",
    "model6_lstm.add(TimeDistributed(Flatten()))\n",
    "model6_lstm.add(LSTM(128))\n",
    "model6_lstm.add(Dropout(0.25))\n",
    "model6_lstm.add(Dense(128,activation='relu'))\n",
    "model6_lstm.add(Dropout(0.25))\n",
    "model6_lstm.add(Dense(5, activation='softmax'))"
   ]
  },
  {
   "cell_type": "code",
   "execution_count": 56,
   "metadata": {},
   "outputs": [
    {
     "name": "stdout",
     "output_type": "stream",
     "text": [
      "Model: \"sequential_5\"\n",
      "_________________________________________________________________\n",
      " Layer (type)                Output Shape              Param #   \n",
      "=================================================================\n",
      " time_distributed (TimeDistr  (None, 30, 120, 120, 16)  448      \n",
      " ibuted)                                                         \n",
      "                                                                 \n",
      " time_distributed_1 (TimeDis  (None, 30, 120, 120, 16)  64       \n",
      " tributed)                                                       \n",
      "                                                                 \n",
      " time_distributed_2 (TimeDis  (None, 30, 60, 60, 16)   0         \n",
      " tributed)                                                       \n",
      "                                                                 \n",
      " time_distributed_3 (TimeDis  (None, 30, 60, 60, 32)   4640      \n",
      " tributed)                                                       \n",
      "                                                                 \n",
      " time_distributed_4 (TimeDis  (None, 30, 60, 60, 32)   128       \n",
      " tributed)                                                       \n",
      "                                                                 \n",
      " time_distributed_5 (TimeDis  (None, 30, 30, 30, 32)   0         \n",
      " tributed)                                                       \n",
      "                                                                 \n",
      " time_distributed_6 (TimeDis  (None, 30, 30, 30, 64)   18496     \n",
      " tributed)                                                       \n",
      "                                                                 \n",
      " time_distributed_7 (TimeDis  (None, 30, 30, 30, 64)   256       \n",
      " tributed)                                                       \n",
      "                                                                 \n",
      " time_distributed_8 (TimeDis  (None, 30, 15, 15, 64)   0         \n",
      " tributed)                                                       \n",
      "                                                                 \n",
      " time_distributed_9 (TimeDis  (None, 30, 15, 15, 128)  73856     \n",
      " tributed)                                                       \n",
      "                                                                 \n",
      " time_distributed_10 (TimeDi  (None, 30, 15, 15, 128)  512       \n",
      " stributed)                                                      \n",
      "                                                                 \n",
      " time_distributed_11 (TimeDi  (None, 30, 7, 7, 128)    0         \n",
      " stributed)                                                      \n",
      "                                                                 \n",
      " time_distributed_12 (TimeDi  (None, 30, 7, 7, 256)    295168    \n",
      " stributed)                                                      \n",
      "                                                                 \n",
      " time_distributed_13 (TimeDi  (None, 30, 7, 7, 256)    1024      \n",
      " stributed)                                                      \n",
      "                                                                 \n",
      " time_distributed_14 (TimeDi  (None, 30, 3, 3, 256)    0         \n",
      " stributed)                                                      \n",
      "                                                                 \n",
      " time_distributed_15 (TimeDi  (None, 30, 2304)         0         \n",
      " stributed)                                                      \n",
      "                                                                 \n",
      " lstm (LSTM)                 (None, 128)               1245696   \n",
      "                                                                 \n",
      " dropout_11 (Dropout)        (None, 128)               0         \n",
      "                                                                 \n",
      " dense_15 (Dense)            (None, 128)               16512     \n",
      "                                                                 \n",
      " dropout_12 (Dropout)        (None, 128)               0         \n",
      "                                                                 \n",
      " dense_16 (Dense)            (None, 5)                 645       \n",
      "                                                                 \n",
      "=================================================================\n",
      "Total params: 1,657,445\n",
      "Trainable params: 1,656,453\n",
      "Non-trainable params: 992\n",
      "_________________________________________________________________\n",
      "None\n"
     ]
    }
   ],
   "source": [
    "# Writing optimizer and compiling the model\n",
    "optimiser = optimizers.Adam()\n",
    "model6_lstm.compile(optimizer=optimiser, loss='categorical_crossentropy', metrics=['categorical_accuracy'])\n",
    "print (model6_lstm.summary())"
   ]
  },
  {
   "cell_type": "code",
   "execution_count": 57,
   "metadata": {},
   "outputs": [],
   "source": [
    "train_generator = generator6_lstm(train_path, train_doc, batch_size)\n",
    "val_generator = generator6_lstm(val_path, val_doc, batch_size)"
   ]
  },
  {
   "cell_type": "code",
   "execution_count": 58,
   "metadata": {},
   "outputs": [],
   "source": [
    "model_name = 'model6_init' + '_' + str(curr_dt_time).replace(' ','').replace(':','_') + '/'\n",
    "    \n",
    "if not os.path.exists(model_name):\n",
    "    os.mkdir(model_name)\n",
    "        \n",
    "filepath = model_name + 'model6-{epoch:05d}-{loss:.5f}-{categorical_accuracy:.5f}-{loss:.5f}-{categorical_accuracy:.5f}.h5'\n",
    "\n",
    "checkpoint = ModelCheckpoint(filepath, monitor='loss', verbose=1, save_best_only=False, save_weights_only=False, mode='auto', save_freq='epoch')\n",
    "\n",
    "# write the REducelronplateau code here\n",
    "LR = ReduceLROnPlateau(monitor='val_loss', factor=0.2, patience=4, verbose =1 )\n",
    "\n",
    "callbacks_list = [checkpoint, LR]"
   ]
  },
  {
   "cell_type": "code",
   "execution_count": 59,
   "metadata": {},
   "outputs": [],
   "source": [
    "if (num_train_sequences%batch_size) == 0:\n",
    "    steps_per_epoch = int(num_train_sequences/batch_size)\n",
    "else:\n",
    "    steps_per_epoch = (num_train_sequences//batch_size) + 1\n",
    "\n",
    "if (num_val_sequences%batch_size) == 0:\n",
    "    validation_steps = int(num_val_sequences/batch_size)\n",
    "else:\n",
    "    validation_steps = (num_val_sequences//batch_size) + 1"
   ]
  },
  {
   "cell_type": "code",
   "execution_count": 60,
   "metadata": {},
   "outputs": [
    {
     "name": "stdout",
     "output_type": "stream",
     "text": [
      "Source path =  /home/datasets/Project_data/train ; batch size = 20\n",
      "Epoch 1/20\n",
      "34/34 [==============================] - ETA: 0s - loss: 1.4153 - categorical_accuracy: 0.3620Source path =  /home/datasets/Project_data/val ; batch size = 20\n",
      "\n",
      "Epoch 00001: saving model to model6_init_2023-11-2706_01_17.617920/model6-00001-1.41525-0.36199-1.41525-0.36199.h5\n",
      "34/34 [==============================] - 56s 2s/step - loss: 1.4153 - categorical_accuracy: 0.3620 - val_loss: 1.7487 - val_categorical_accuracy: 0.2100 - lr: 0.0010\n",
      "Epoch 2/20\n",
      "34/34 [==============================] - ETA: 0s - loss: 1.1233 - categorical_accuracy: 0.5324\n",
      "Epoch 00002: saving model to model6_init_2023-11-2706_01_17.617920/model6-00002-1.12332-0.53243-1.12332-0.53243.h5\n",
      "34/34 [==============================] - 51s 2s/step - loss: 1.1233 - categorical_accuracy: 0.5324 - val_loss: 2.1265 - val_categorical_accuracy: 0.2600 - lr: 0.0010\n",
      "Epoch 3/20\n",
      "34/34 [==============================] - ETA: 0s - loss: 1.0139 - categorical_accuracy: 0.5732\n",
      "Epoch 00003: saving model to model6_init_2023-11-2706_01_17.617920/model6-00003-1.01390-0.57315-1.01390-0.57315.h5\n",
      "34/34 [==============================] - 50s 2s/step - loss: 1.0139 - categorical_accuracy: 0.5732 - val_loss: 2.0947 - val_categorical_accuracy: 0.2900 - lr: 0.0010\n",
      "Epoch 4/20\n",
      "34/34 [==============================] - ETA: 0s - loss: 0.9678 - categorical_accuracy: 0.6018\n",
      "Epoch 00004: saving model to model6_init_2023-11-2706_01_17.617920/model6-00004-0.96778-0.60181-0.96778-0.60181.h5\n",
      "34/34 [==============================] - 51s 2s/step - loss: 0.9678 - categorical_accuracy: 0.6018 - val_loss: 1.7250 - val_categorical_accuracy: 0.3400 - lr: 0.0010\n",
      "Epoch 5/20\n",
      "33/34 [============================>.] - ETA: 1s - loss: 0.9038 - categorical_accuracy: 0.6152\n",
      "Epoch 00005: saving model to model6_init_2023-11-2706_01_17.617920/model6-00005-0.90632-0.61538-0.90632-0.61538.h5\n",
      "34/34 [==============================] - 50s 2s/step - loss: 0.9063 - categorical_accuracy: 0.6154 - val_loss: 1.8411 - val_categorical_accuracy: 0.3100 - lr: 0.0010\n",
      "Epoch 6/20\n",
      "34/34 [==============================] - ETA: 0s - loss: 0.7696 - categorical_accuracy: 0.7014\n",
      "Epoch 00006: saving model to model6_init_2023-11-2706_01_17.617920/model6-00006-0.76960-0.70136-0.76960-0.70136.h5\n",
      "34/34 [==============================] - 49s 1s/step - loss: 0.7696 - categorical_accuracy: 0.7014 - val_loss: 2.1884 - val_categorical_accuracy: 0.3200 - lr: 0.0010\n",
      "Epoch 7/20\n",
      "33/34 [============================>.] - ETA: 1s - loss: 0.7248 - categorical_accuracy: 0.7318\n",
      "Epoch 00007: saving model to model6_init_2023-11-2706_01_17.617920/model6-00007-0.72438-0.73152-0.72438-0.73152.h5\n",
      "34/34 [==============================] - 56s 2s/step - loss: 0.7244 - categorical_accuracy: 0.7315 - val_loss: 2.2835 - val_categorical_accuracy: 0.2700 - lr: 0.0010\n",
      "Epoch 8/20\n",
      "33/34 [============================>.] - ETA: 1s - loss: 0.6102 - categorical_accuracy: 0.7576\n",
      "Epoch 00008: saving model to model6_init_2023-11-2706_01_17.617920/model6-00008-0.61136-0.75716-0.61136-0.75716.h5\n",
      "\n",
      "Epoch 00008: ReduceLROnPlateau reducing learning rate to 0.00020000000949949026.\n",
      "34/34 [==============================] - 54s 2s/step - loss: 0.6114 - categorical_accuracy: 0.7572 - val_loss: 1.9251 - val_categorical_accuracy: 0.4000 - lr: 0.0010\n",
      "Epoch 9/20\n",
      "33/34 [============================>.] - ETA: 1s - loss: 0.5187 - categorical_accuracy: 0.8045\n",
      "Epoch 00009: saving model to model6_init_2023-11-2706_01_17.617920/model6-00009-0.51853-0.80392-0.51853-0.80392.h5\n",
      "34/34 [==============================] - 49s 1s/step - loss: 0.5185 - categorical_accuracy: 0.8039 - val_loss: 2.0811 - val_categorical_accuracy: 0.4300 - lr: 2.0000e-04\n",
      "Epoch 10/20\n",
      "33/34 [============================>.] - ETA: 1s - loss: 0.4092 - categorical_accuracy: 0.8742\n",
      "Epoch 00010: saving model to model6_init_2023-11-2706_01_17.617920/model6-00010-0.41826-0.87029-0.41826-0.87029.h5\n",
      "34/34 [==============================] - 52s 2s/step - loss: 0.4183 - categorical_accuracy: 0.8703 - val_loss: 2.0978 - val_categorical_accuracy: 0.4800 - lr: 2.0000e-04\n",
      "Epoch 11/20\n",
      "33/34 [============================>.] - ETA: 1s - loss: 0.4180 - categorical_accuracy: 0.8485\n",
      "Epoch 00011: saving model to model6_init_2023-11-2706_01_17.617920/model6-00011-0.41696-0.84917-0.41696-0.84917.h5\n",
      "34/34 [==============================] - 53s 2s/step - loss: 0.4170 - categorical_accuracy: 0.8492 - val_loss: 2.0269 - val_categorical_accuracy: 0.4800 - lr: 2.0000e-04\n",
      "Epoch 12/20\n",
      "33/34 [============================>.] - ETA: 1s - loss: 0.3705 - categorical_accuracy: 0.8864\n",
      "Epoch 00012: saving model to model6_init_2023-11-2706_01_17.617920/model6-00012-0.37409-0.88537-0.37409-0.88537.h5\n",
      "\n",
      "Epoch 00012: ReduceLROnPlateau reducing learning rate to 4.0000001899898055e-05.\n",
      "34/34 [==============================] - 50s 2s/step - loss: 0.3741 - categorical_accuracy: 0.8854 - val_loss: 1.9926 - val_categorical_accuracy: 0.4400 - lr: 2.0000e-04\n",
      "Epoch 13/20\n",
      "34/34 [==============================] - ETA: 0s - loss: 0.3418 - categorical_accuracy: 0.8839\n",
      "Epoch 00013: saving model to model6_init_2023-11-2706_01_17.617920/model6-00013-0.34181-0.88386-0.34181-0.88386.h5\n",
      "34/34 [==============================] - 53s 2s/step - loss: 0.3418 - categorical_accuracy: 0.8839 - val_loss: 1.7782 - val_categorical_accuracy: 0.4400 - lr: 4.0000e-05\n",
      "Epoch 14/20\n",
      "33/34 [============================>.] - ETA: 1s - loss: 0.3076 - categorical_accuracy: 0.8985\n",
      "Epoch 00014: saving model to model6_init_2023-11-2706_01_17.617920/model6-00014-0.30676-0.89894-0.30676-0.89894.h5\n",
      "34/34 [==============================] - 50s 2s/step - loss: 0.3068 - categorical_accuracy: 0.8989 - val_loss: 2.0966 - val_categorical_accuracy: 0.4900 - lr: 4.0000e-05\n",
      "Epoch 15/20\n",
      "33/34 [============================>.] - ETA: 1s - loss: 0.3000 - categorical_accuracy: 0.9015\n",
      "Epoch 00015: saving model to model6_init_2023-11-2706_01_17.617920/model6-00015-0.29966-0.90196-0.29966-0.90196.h5\n",
      "34/34 [==============================] - 50s 2s/step - loss: 0.2997 - categorical_accuracy: 0.9020 - val_loss: 1.3619 - val_categorical_accuracy: 0.5800 - lr: 4.0000e-05\n",
      "Epoch 16/20\n",
      "33/34 [============================>.] - ETA: 1s - loss: 0.2764 - categorical_accuracy: 0.9258\n",
      "Epoch 00016: saving model to model6_init_2023-11-2706_01_17.617920/model6-00016-0.27559-0.92609-0.27559-0.92609.h5\n",
      "34/34 [==============================] - 51s 2s/step - loss: 0.2756 - categorical_accuracy: 0.9261 - val_loss: 1.3439 - val_categorical_accuracy: 0.6100 - lr: 4.0000e-05\n",
      "Epoch 17/20\n",
      "33/34 [============================>.] - ETA: 1s - loss: 0.2573 - categorical_accuracy: 0.9121\n",
      "Epoch 00017: saving model to model6_init_2023-11-2706_01_17.617920/model6-00017-0.25630-0.91252-0.25630-0.91252.h5\n",
      "34/34 [==============================] - 52s 2s/step - loss: 0.2563 - categorical_accuracy: 0.9125 - val_loss: 1.2503 - val_categorical_accuracy: 0.6000 - lr: 4.0000e-05\n",
      "Epoch 18/20\n",
      "34/34 [==============================] - ETA: 0s - loss: 0.2577 - categorical_accuracy: 0.9140\n",
      "Epoch 00018: saving model to model6_init_2023-11-2706_01_17.617920/model6-00018-0.25766-0.91403-0.25766-0.91403.h5\n",
      "34/34 [==============================] - 50s 2s/step - loss: 0.2577 - categorical_accuracy: 0.9140 - val_loss: 1.1795 - val_categorical_accuracy: 0.6700 - lr: 4.0000e-05\n",
      "Epoch 19/20\n",
      "33/34 [============================>.] - ETA: 1s - loss: 0.2600 - categorical_accuracy: 0.9303\n",
      "Epoch 00019: saving model to model6_init_2023-11-2706_01_17.617920/model6-00019-0.26136-0.92911-0.26136-0.92911.h5\n",
      "34/34 [==============================] - 49s 1s/step - loss: 0.2614 - categorical_accuracy: 0.9291 - val_loss: 0.8703 - val_categorical_accuracy: 0.7400 - lr: 4.0000e-05\n",
      "Epoch 20/20\n",
      "33/34 [============================>.] - ETA: 1s - loss: 0.2457 - categorical_accuracy: 0.9303\n",
      "Epoch 00020: saving model to model6_init_2023-11-2706_01_17.617920/model6-00020-0.24536-0.93062-0.24536-0.93062.h5\n",
      "34/34 [==============================] - 48s 1s/step - loss: 0.2454 - categorical_accuracy: 0.9306 - val_loss: 0.9039 - val_categorical_accuracy: 0.7500 - lr: 4.0000e-05\n"
     ]
    }
   ],
   "source": [
    "history = model6_lstm.fit(train_generator, \n",
    "                          steps_per_epoch=steps_per_epoch,\n",
    "                          epochs=num_epochs, \n",
    "                          verbose=1, \n",
    "                          callbacks=callbacks_list, \n",
    "                          validation_data=val_generator, \n",
    "                          validation_steps=validation_steps, \n",
    "                          class_weight=None, \n",
    "                          workers=1, \n",
    "                          initial_epoch=0)"
   ]
  },
  {
   "cell_type": "markdown",
   "metadata": {},
   "source": [
    "**Let us plot the model6**\t"
   ]
  },
  {
   "cell_type": "code",
   "execution_count": 61,
   "metadata": {},
   "outputs": [
    {
     "data": {
      "image/png": "[encoded data removed]",
      "text/plain": [
       "<Figure size 432x288 with 1 Axes>"
      ]
     },
     "metadata": {
      "needs_background": "light"
     },
     "output_type": "display_data"
    },
    {
     "data": {
      "image/png": "[encoded data removed]",
      "text/plain": [
       "<Figure size 432x288 with 1 Axes>"
      ]
     },
     "metadata": {
      "needs_background": "light"
     },
     "output_type": "display_data"
    }
   ],
   "source": [
    "# Plotting model accuracy history\n",
    "plt.plot(history.history['categorical_accuracy'], 'o-')\n",
    "plt.plot(history.history['val_categorical_accuracy'], 'o-')\n",
    "plt.title('Model6 Accuracy')\n",
    "plt.ylabel('Accuracy')\n",
    "plt.xlabel('Epoch')\n",
    "plt.legend(['train', 'test'], loc='upper left')\n",
    "plt.show()\n",
    "\n",
    "# Plotting model loss history\n",
    "plt.plot(history.history['loss'], 'o-')\n",
    "plt.plot(history.history['val_loss'], 'o-')\n",
    "plt.title('Model6 loss')\n",
    "plt.ylabel('loss')\n",
    "plt.xlabel('epoch')\n",
    "plt.legend(['train', 'test'], loc='upper left')\n",
    "plt.show()"
   ]
  },
  {
   "cell_type": "markdown",
   "metadata": {},
   "source": [
    "This model has given us the training accuracy of 93% and validation accuracy of 75%, which is again a good process."
   ]
  },
  {
   "cell_type": "markdown",
   "metadata": {},
   "source": [
    "## Creating new Model7 with CNN-LSTM\n",
    "\n",
    "In this model, let us increase the image size to 160x160."
   ]
  },
  {
   "cell_type": "code",
   "execution_count": 62,
   "metadata": {},
   "outputs": [],
   "source": [
    "input_shape = (30,160,160,3)"
   ]
  },
  {
   "cell_type": "markdown",
   "metadata": {},
   "source": [
    "## Generator-7"
   ]
  },
  {
   "cell_type": "code",
   "execution_count": 63,
   "metadata": {},
   "outputs": [],
   "source": [
    "# Updating Generator funciton\n",
    "def generator7_lstm(source_path, folder_list, batch_size):\n",
    "    print( 'Source path = ', source_path, '; batch size =', batch_size)\n",
    "    \n",
    "    # img_idx = #create a list of image numbers you want to use for a particular video\n",
    "    img_idx = [0, 1, 2, 3, 4, 5, 6, 7, 8, 9, 10, 11, 12, 13, 14, 15, 16, 17, 18, 19, 20, 21, 22, 23, 24, 25, 26, 27, 28, 29]\n",
    "    \n",
    "    while True:\n",
    "        t = np.random.permutation(folder_list)\n",
    "        \n",
    "        # num_batches = # calculate the number of batches\n",
    "        num_batches = int(len(t)/batch_size)\n",
    "        \n",
    "        for batch in range(num_batches): # we iterate over the number of batches\n",
    "            # batch_data = np.zeros((batch_size,x,y,z,3)) # x is the number of images you use for each video, (y,z) is the final size of the input images and 3 is the number of channels RGB\n",
    "            batch_data = np.zeros((batch_size,30,160,160,3)) \n",
    "            batch_labels = np.zeros((batch_size,5)) # batch_labels is the one hot representation of the output\n",
    "            \n",
    "            for folder in range(batch_size): # iterate over the batch_size\n",
    "                imgs = os.listdir(source_path+'/'+ t[folder + (batch*batch_size)].split(';')[0]) # read all the images in the folder\n",
    "                \n",
    "                for idx,item in enumerate(img_idx): #  Iterate iver the frames/images of a folder to read them in\n",
    "                    #image = imread(source_path+'/'+ t[folder + (batch*batch_size)].strip().split(';')[0]+'/'+imgs[item]).astype(np.float32)\n",
    "                    image = cv2.imread(source_path+'/'+t[folder+(batch*batch_size)].strip().split(';')[0]+'/'+imgs[item],cv2.IMREAD_UNCHANGED).astype(np.float32)\n",
    "                    \n",
    "                    #crop the images and resize them. Note that the images are of 2 different shape \n",
    "                    #and the conv3D will throw error if the inputs in a batch have different shapes\n",
    "                    # Cropping Image\n",
    "                    # image = crop_img(image, 0.02)\n",
    "                    # Resizing the image\n",
    "                    if image.shape[1] == 160:\n",
    "                        image = cv2.resize(image[:,20:140,:],(160,160),interpolation = cv2.INTER_AREA).astype(np.float32)\n",
    "                    else:\n",
    "                        image = cv2.resize(image,(160,160), interpolation = cv2.INTER_AREA).astype(np.float32)\n",
    "                    \n",
    "                    # Normalizing and feeding the image\n",
    "                    # batch_data[folder,idx,:,:,0] = #normalise and feed in the image\n",
    "                    # batch_data[folder,idx,:,:,1] = #normalise and feed in the image\n",
    "                    # batch_data[folder,idx,:,:,2] = #normalise and feed in the image\n",
    "                    batch_data[folder,idx,:,:,0] = (image[:,:,0])/255\n",
    "                    batch_data[folder,idx,:,:,1] = (image[:,:,1])/255\n",
    "                    batch_data[folder,idx,:,:,2] = (image[:,:,2])/255\n",
    "                    \n",
    "                batch_labels[folder, int(t[folder + (batch*batch_size)].strip().split(';')[2])] = 1\n",
    "            yield batch_data, batch_labels #you yield the batch_data and the batch_labels, remember what does yield do\n",
    "\n",
    "        \n",
    "        # write the code for the remaining data points which are left after full batches\n",
    "        if (len(t)%batch_size) != 0:\n",
    "            batch_data   = np.zeros((len(t)%batch_size,30,160,160,3))\n",
    "            batch_labels = np.zeros((len(t)%batch_size, 5))\n",
    "            \n",
    "            for folder in range(len(t)%batch_size):\n",
    "                imgs = os.listdir(source_path+'/'+t[folder+(num_batches*batch_size)].split(';')[0])\n",
    "                for idx, item in enumerate(img_idx):\n",
    "                    image = cv2.imread(source_path+'/'+t[folder+(num_batches*batch_size)].strip().split(';')[0]+'/'+imgs[item],cv2.IMREAD_UNCHANGED).astype(np.float32)\n",
    "                    \n",
    "                    # Cropping image\n",
    "                    # image = crop_img(image, 0.02)\n",
    "                    \n",
    "                    # Resizing image\n",
    "                    if image.shape[1] == 160:\n",
    "                        image = cv2.resize(image[:,20:140,:],(160,160),interpolation = cv2.INTER_AREA).astype(np.float32)\n",
    "                    else:\n",
    "                        image = cv2.resize(image,(160,160),interpolation = cv2.INTER_AREA).astype(np.float32)\n",
    "                        \n",
    "                    # Normalizing and feeding the image\n",
    "                    batch_data[folder,idx,:,:,0] = (image[:,:,0])/255\n",
    "                    batch_data[folder,idx,:,:,1] = (image[:,:,1])/255\n",
    "                    batch_data[folder,idx,:,:,2] = (image[:,:,2])/255\n",
    "                    \n",
    "                batch_labels[folder, int(t[folder+(num_batches*batch_size)].strip().split(';')[2])] = 1\n",
    "            yield batch_data, batch_labels"
   ]
  },
  {
   "cell_type": "code",
   "execution_count": 64,
   "metadata": {},
   "outputs": [
    {
     "name": "stdout",
     "output_type": "stream",
     "text": [
      "# training sequences = 663\n",
      "# validation sequences = 100\n",
      "# epochs = 20\n",
      "# batch_size = 20\n"
     ]
    }
   ],
   "source": [
    "curr_dt_time = datetime.datetime.now()\n",
    "train_path = '/home/datasets/Project_data/train'\n",
    "val_path = '/home/datasets/Project_data/val'\n",
    "num_train_sequences = len(train_doc)\n",
    "print('# training sequences =', num_train_sequences)\n",
    "num_val_sequences = len(val_doc)\n",
    "print('# validation sequences =', num_val_sequences)\n",
    "num_epochs = 20 # choose the number of epochs\n",
    "print ('# epochs =', num_epochs)\n",
    "batch_size = 20\n",
    "print('# batch_size =',batch_size)"
   ]
  },
  {
   "cell_type": "code",
   "execution_count": 65,
   "metadata": {},
   "outputs": [],
   "source": [
    "# Model Building\n",
    "model7_lstm = Sequential()\n",
    "\n",
    "model7_lstm.add(TimeDistributed(Conv2D(16, (3, 3) , padding='same', activation='relu'), input_shape=input_shape))\n",
    "model7_lstm.add(TimeDistributed(BatchNormalization()))\n",
    "model7_lstm.add(TimeDistributed(MaxPooling2D((2, 2))))\n",
    "\n",
    "model7_lstm.add(TimeDistributed(Conv2D(32, (3, 3) , padding='same', activation='relu')))\n",
    "model7_lstm.add(TimeDistributed(BatchNormalization()))\n",
    "model7_lstm.add(TimeDistributed(MaxPooling2D((2, 2))))\n",
    "\n",
    "model7_lstm.add(TimeDistributed(Conv2D(64, (3, 3) , padding='same', activation='relu')))\n",
    "model7_lstm.add(TimeDistributed(BatchNormalization()))\n",
    "model7_lstm.add(TimeDistributed(MaxPooling2D((2, 2))))\n",
    "\n",
    "model7_lstm.add(TimeDistributed(Conv2D(128, (3, 3) , padding='same', activation='relu')))\n",
    "model7_lstm.add(TimeDistributed(BatchNormalization()))\n",
    "model7_lstm.add(TimeDistributed(MaxPooling2D((2, 2))))\n",
    "\n",
    "model7_lstm.add(TimeDistributed(Conv2D(256, (3, 3) , padding='same', activation='relu')))\n",
    "model7_lstm.add(TimeDistributed(BatchNormalization()))\n",
    "model7_lstm.add(TimeDistributed(MaxPooling2D((2, 2))))\n",
    "\n",
    "model7_lstm.add(TimeDistributed(Flatten()))\n",
    "model7_lstm.add(LSTM(128))\n",
    "model7_lstm.add(Dropout(0.25))\n",
    "model7_lstm.add(Dense(128,activation='relu'))\n",
    "model7_lstm.add(Dropout(0.25))\n",
    "model7_lstm.add(Dense(5, activation='softmax'))"
   ]
  },
  {
   "cell_type": "code",
   "execution_count": 66,
   "metadata": {},
   "outputs": [
    {
     "name": "stdout",
     "output_type": "stream",
     "text": [
      "Model: \"sequential_6\"\n",
      "_________________________________________________________________\n",
      " Layer (type)                Output Shape              Param #   \n",
      "=================================================================\n",
      " time_distributed_16 (TimeDi  (None, 30, 160, 160, 16)  448      \n",
      " stributed)                                                      \n",
      "                                                                 \n",
      " time_distributed_17 (TimeDi  (None, 30, 160, 160, 16)  64       \n",
      " stributed)                                                      \n",
      "                                                                 \n",
      " time_distributed_18 (TimeDi  (None, 30, 80, 80, 16)   0         \n",
      " stributed)                                                      \n",
      "                                                                 \n",
      " time_distributed_19 (TimeDi  (None, 30, 80, 80, 32)   4640      \n",
      " stributed)                                                      \n",
      "                                                                 \n",
      " time_distributed_20 (TimeDi  (None, 30, 80, 80, 32)   128       \n",
      " stributed)                                                      \n",
      "                                                                 \n",
      " time_distributed_21 (TimeDi  (None, 30, 40, 40, 32)   0         \n",
      " stributed)                                                      \n",
      "                                                                 \n",
      " time_distributed_22 (TimeDi  (None, 30, 40, 40, 64)   18496     \n",
      " stributed)                                                      \n",
      "                                                                 \n",
      " time_distributed_23 (TimeDi  (None, 30, 40, 40, 64)   256       \n",
      " stributed)                                                      \n",
      "                                                                 \n",
      " time_distributed_24 (TimeDi  (None, 30, 20, 20, 64)   0         \n",
      " stributed)                                                      \n",
      "                                                                 \n",
      " time_distributed_25 (TimeDi  (None, 30, 20, 20, 128)  73856     \n",
      " stributed)                                                      \n",
      "                                                                 \n",
      " time_distributed_26 (TimeDi  (None, 30, 20, 20, 128)  512       \n",
      " stributed)                                                      \n",
      "                                                                 \n",
      " time_distributed_27 (TimeDi  (None, 30, 10, 10, 128)  0         \n",
      " stributed)                                                      \n",
      "                                                                 \n",
      " time_distributed_28 (TimeDi  (None, 30, 10, 10, 256)  295168    \n",
      " stributed)                                                      \n",
      "                                                                 \n",
      " time_distributed_29 (TimeDi  (None, 30, 10, 10, 256)  1024      \n",
      " stributed)                                                      \n",
      "                                                                 \n",
      " time_distributed_30 (TimeDi  (None, 30, 5, 5, 256)    0         \n",
      " stributed)                                                      \n",
      "                                                                 \n",
      " time_distributed_31 (TimeDi  (None, 30, 6400)         0         \n",
      " stributed)                                                      \n",
      "                                                                 \n",
      " lstm_1 (LSTM)               (None, 128)               3342848   \n",
      "                                                                 \n",
      " dropout_13 (Dropout)        (None, 128)               0         \n",
      "                                                                 \n",
      " dense_17 (Dense)            (None, 128)               16512     \n",
      "                                                                 \n",
      " dropout_14 (Dropout)        (None, 128)               0         \n",
      "                                                                 \n",
      " dense_18 (Dense)            (None, 5)                 645       \n",
      "                                                                 \n",
      "=================================================================\n",
      "Total params: 3,754,597\n",
      "Trainable params: 3,753,605\n",
      "Non-trainable params: 992\n",
      "_________________________________________________________________\n",
      "None\n"
     ]
    }
   ],
   "source": [
    "# Writing optimizer and compiling the model\n",
    "optimiser = optimizers.Adam()\n",
    "model7_lstm.compile(optimizer=optimiser, loss='categorical_crossentropy', metrics=['categorical_accuracy'])\n",
    "print (model7_lstm.summary())"
   ]
  },
  {
   "cell_type": "code",
   "execution_count": 67,
   "metadata": {},
   "outputs": [],
   "source": [
    "train_generator = generator7_lstm(train_path, train_doc, batch_size)\n",
    "val_generator = generator7_lstm(val_path, val_doc, batch_size)"
   ]
  },
  {
   "cell_type": "code",
   "execution_count": 68,
   "metadata": {},
   "outputs": [],
   "source": [
    "model_name = 'model7_init' + '_' + str(curr_dt_time).replace(' ','').replace(':','_') + '/'\n",
    "    \n",
    "if not os.path.exists(model_name):\n",
    "    os.mkdir(model_name)\n",
    "        \n",
    "filepath = model_name + 'model7-{epoch:05d}-{loss:.5f}-{categorical_accuracy:.5f}-{loss:.5f}-{categorical_accuracy:.5f}.h5'\n",
    "\n",
    "checkpoint = ModelCheckpoint(filepath, monitor='loss', verbose=1, save_best_only=False, save_weights_only=False, mode='auto', save_freq='epoch')\n",
    "\n",
    "# write the REducelronplateau code here\n",
    "LR = ReduceLROnPlateau(monitor='val_loss', factor=0.2, patience=4, verbose =1 )\n",
    "\n",
    "callbacks_list = [checkpoint, LR]"
   ]
  },
  {
   "cell_type": "code",
   "execution_count": 69,
   "metadata": {},
   "outputs": [],
   "source": [
    "if (num_train_sequences%batch_size) == 0:\n",
    "    steps_per_epoch = int(num_train_sequences/batch_size)\n",
    "else:\n",
    "    steps_per_epoch = (num_train_sequences//batch_size) + 1\n",
    "\n",
    "if (num_val_sequences%batch_size) == 0:\n",
    "    validation_steps = int(num_val_sequences/batch_size)\n",
    "else:\n",
    "    validation_steps = (num_val_sequences//batch_size) + 1"
   ]
  },
  {
   "cell_type": "code",
   "execution_count": 70,
   "metadata": {},
   "outputs": [
    {
     "name": "stdout",
     "output_type": "stream",
     "text": [
      "Source path =  /home/datasets/Project_data/train ; batch size = 20\n",
      "Epoch 1/20\n",
      "34/34 [==============================] - ETA: 0s - loss: 1.4798 - categorical_accuracy: 0.3575Source path =  /home/datasets/Project_data/val ; batch size = 20\n",
      "\n",
      "Epoch 00001: saving model to model7_init_2023-11-2706_21_50.528684/model7-00001-1.47975-0.35747-1.47975-0.35747.h5\n",
      "34/34 [==============================] - 68s 2s/step - loss: 1.4798 - categorical_accuracy: 0.3575 - val_loss: 1.8662 - val_categorical_accuracy: 0.1700 - lr: 0.0010\n",
      "Epoch 2/20\n",
      "34/34 [==============================] - ETA: 0s - loss: 1.1557 - categorical_accuracy: 0.5279\n",
      "Epoch 00002: saving model to model7_init_2023-11-2706_21_50.528684/model7-00002-1.15573-0.52790-1.15573-0.52790.h5\n",
      "34/34 [==============================] - 64s 2s/step - loss: 1.1557 - categorical_accuracy: 0.5279 - val_loss: 1.8491 - val_categorical_accuracy: 0.1700 - lr: 0.0010\n",
      "Epoch 3/20\n",
      "34/34 [==============================] - ETA: 0s - loss: 1.0943 - categorical_accuracy: 0.5460\n",
      "Epoch 00003: saving model to model7_init_2023-11-2706_21_50.528684/model7-00003-1.09426-0.54600-1.09426-0.54600.h5\n",
      "34/34 [==============================] - 64s 2s/step - loss: 1.0943 - categorical_accuracy: 0.5460 - val_loss: 1.9525 - val_categorical_accuracy: 0.2200 - lr: 0.0010\n",
      "Epoch 4/20\n",
      "34/34 [==============================] - ETA: 0s - loss: 1.1105 - categorical_accuracy: 0.5445\n",
      "Epoch 00004: saving model to model7_init_2023-11-2706_21_50.528684/model7-00004-1.11046-0.54449-1.11046-0.54449.h5\n",
      "34/34 [==============================] - 63s 2s/step - loss: 1.1105 - categorical_accuracy: 0.5445 - val_loss: 2.9056 - val_categorical_accuracy: 0.1500 - lr: 0.0010\n",
      "Epoch 5/20\n",
      "34/34 [==============================] - ETA: 0s - loss: 0.9781 - categorical_accuracy: 0.6290\n",
      "Epoch 00005: saving model to model7_init_2023-11-2706_21_50.528684/model7-00005-0.97808-0.62896-0.97808-0.62896.h5\n",
      "34/34 [==============================] - 63s 2s/step - loss: 0.9781 - categorical_accuracy: 0.6290 - val_loss: 2.4897 - val_categorical_accuracy: 0.1400 - lr: 0.0010\n",
      "Epoch 6/20\n",
      "34/34 [==============================] - ETA: 0s - loss: 0.8787 - categorical_accuracy: 0.6546\n",
      "Epoch 00006: saving model to model7_init_2023-11-2706_21_50.528684/model7-00006-0.87868-0.65460-0.87868-0.65460.h5\n",
      "\n",
      "Epoch 00006: ReduceLROnPlateau reducing learning rate to 0.00020000000949949026.\n",
      "34/34 [==============================] - 63s 2s/step - loss: 0.8787 - categorical_accuracy: 0.6546 - val_loss: 2.0748 - val_categorical_accuracy: 0.2800 - lr: 0.0010\n",
      "Epoch 7/20\n",
      "34/34 [==============================] - ETA: 0s - loss: 0.7963 - categorical_accuracy: 0.6953\n",
      "Epoch 00007: saving model to model7_init_2023-11-2706_21_50.528684/model7-00007-0.79628-0.69532-0.79628-0.69532.h5\n",
      "34/34 [==============================] - 65s 2s/step - loss: 0.7963 - categorical_accuracy: 0.6953 - val_loss: 2.0372 - val_categorical_accuracy: 0.2600 - lr: 2.0000e-04\n",
      "Epoch 8/20\n",
      "34/34 [==============================] - ETA: 0s - loss: 0.6969 - categorical_accuracy: 0.7270\n",
      "Epoch 00008: saving model to model7_init_2023-11-2706_21_50.528684/model7-00008-0.69692-0.72700-0.69692-0.72700.h5\n",
      "34/34 [==============================] - 66s 2s/step - loss: 0.6969 - categorical_accuracy: 0.7270 - val_loss: 2.4053 - val_categorical_accuracy: 0.1800 - lr: 2.0000e-04\n",
      "Epoch 9/20\n",
      "34/34 [==============================] - ETA: 0s - loss: 0.6471 - categorical_accuracy: 0.7677\n",
      "Epoch 00009: saving model to model7_init_2023-11-2706_21_50.528684/model7-00009-0.64713-0.76772-0.64713-0.76772.h5\n",
      "34/34 [==============================] - 65s 2s/step - loss: 0.6471 - categorical_accuracy: 0.7677 - val_loss: 2.4046 - val_categorical_accuracy: 0.2100 - lr: 2.0000e-04\n",
      "Epoch 10/20\n",
      "34/34 [==============================] - ETA: 0s - loss: 0.6058 - categorical_accuracy: 0.7828\n",
      "Epoch 00010: saving model to model7_init_2023-11-2706_21_50.528684/model7-00010-0.60578-0.78281-0.60578-0.78281.h5\n",
      "\n",
      "Epoch 00010: ReduceLROnPlateau reducing learning rate to 4.0000001899898055e-05.\n",
      "34/34 [==============================] - 66s 2s/step - loss: 0.6058 - categorical_accuracy: 0.7828 - val_loss: 2.2371 - val_categorical_accuracy: 0.2500 - lr: 2.0000e-04\n",
      "Epoch 11/20\n",
      "34/34 [==============================] - ETA: 0s - loss: 0.5579 - categorical_accuracy: 0.7858\n",
      "Epoch 00011: saving model to model7_init_2023-11-2706_21_50.528684/model7-00011-0.55787-0.78582-0.55787-0.78582.h5\n",
      "34/34 [==============================] - 65s 2s/step - loss: 0.5579 - categorical_accuracy: 0.7858 - val_loss: 2.1728 - val_categorical_accuracy: 0.2900 - lr: 4.0000e-05\n",
      "Epoch 12/20\n",
      "34/34 [==============================] - ETA: 0s - loss: 0.5319 - categorical_accuracy: 0.8130\n",
      "Epoch 00012: saving model to model7_init_2023-11-2706_21_50.528684/model7-00012-0.53193-0.81297-0.53193-0.81297.h5\n",
      "34/34 [==============================] - 65s 2s/step - loss: 0.5319 - categorical_accuracy: 0.8130 - val_loss: 1.9794 - val_categorical_accuracy: 0.3300 - lr: 4.0000e-05\n",
      "Epoch 13/20\n",
      "34/34 [==============================] - ETA: 0s - loss: 0.5161 - categorical_accuracy: 0.8130\n",
      "Epoch 00013: saving model to model7_init_2023-11-2706_21_50.528684/model7-00013-0.51614-0.81297-0.51614-0.81297.h5\n",
      "34/34 [==============================] - 65s 2s/step - loss: 0.5161 - categorical_accuracy: 0.8130 - val_loss: 1.8614 - val_categorical_accuracy: 0.3200 - lr: 4.0000e-05\n",
      "Epoch 14/20\n",
      "34/34 [==============================] - ETA: 0s - loss: 0.4817 - categorical_accuracy: 0.8371\n",
      "Epoch 00014: saving model to model7_init_2023-11-2706_21_50.528684/model7-00014-0.48169-0.83710-0.48169-0.83710.h5\n",
      "34/34 [==============================] - 65s 2s/step - loss: 0.4817 - categorical_accuracy: 0.8371 - val_loss: 1.6247 - val_categorical_accuracy: 0.3700 - lr: 4.0000e-05\n",
      "Epoch 15/20\n",
      "34/34 [==============================] - ETA: 0s - loss: 0.4921 - categorical_accuracy: 0.8235\n",
      "Epoch 00015: saving model to model7_init_2023-11-2706_21_50.528684/model7-00015-0.49211-0.82353-0.49211-0.82353.h5\n",
      "34/34 [==============================] - 69s 2s/step - loss: 0.4921 - categorical_accuracy: 0.8235 - val_loss: 1.3695 - val_categorical_accuracy: 0.4800 - lr: 4.0000e-05\n",
      "Epoch 16/20\n",
      "34/34 [==============================] - ETA: 0s - loss: 0.4655 - categorical_accuracy: 0.8477\n",
      "Epoch 00016: saving model to model7_init_2023-11-2706_21_50.528684/model7-00016-0.46545-0.84766-0.46545-0.84766.h5\n",
      "34/34 [==============================] - 71s 2s/step - loss: 0.4655 - categorical_accuracy: 0.8477 - val_loss: 1.1930 - val_categorical_accuracy: 0.5500 - lr: 4.0000e-05\n",
      "Epoch 17/20\n",
      "34/34 [==============================] - ETA: 0s - loss: 0.4595 - categorical_accuracy: 0.8462\n",
      "Epoch 00017: saving model to model7_init_2023-11-2706_21_50.528684/model7-00017-0.45952-0.84615-0.45952-0.84615.h5\n",
      "34/34 [==============================] - 69s 2s/step - loss: 0.4595 - categorical_accuracy: 0.8462 - val_loss: 1.0628 - val_categorical_accuracy: 0.5800 - lr: 4.0000e-05\n",
      "Epoch 18/20\n",
      "34/34 [==============================] - ETA: 0s - loss: 0.4532 - categorical_accuracy: 0.8477\n",
      "Epoch 00018: saving model to model7_init_2023-11-2706_21_50.528684/model7-00018-0.45324-0.84766-0.45324-0.84766.h5\n",
      "34/34 [==============================] - 73s 2s/step - loss: 0.4532 - categorical_accuracy: 0.8477 - val_loss: 0.8732 - val_categorical_accuracy: 0.6400 - lr: 4.0000e-05\n",
      "Epoch 19/20\n",
      "34/34 [==============================] - ETA: 0s - loss: 0.4433 - categorical_accuracy: 0.8477\n",
      "Epoch 00019: saving model to model7_init_2023-11-2706_21_50.528684/model7-00019-0.44330-0.84766-0.44330-0.84766.h5\n",
      "34/34 [==============================] - 73s 2s/step - loss: 0.4433 - categorical_accuracy: 0.8477 - val_loss: 0.7665 - val_categorical_accuracy: 0.7000 - lr: 4.0000e-05\n",
      "Epoch 20/20\n",
      "34/34 [==============================] - ETA: 0s - loss: 0.4631 - categorical_accuracy: 0.8462\n",
      "Epoch 00020: saving model to model7_init_2023-11-2706_21_50.528684/model7-00020-0.46311-0.84615-0.46311-0.84615.h5\n",
      "34/34 [==============================] - 69s 2s/step - loss: 0.4631 - categorical_accuracy: 0.8462 - val_loss: 0.7941 - val_categorical_accuracy: 0.6900 - lr: 4.0000e-05\n"
     ]
    }
   ],
   "source": [
    "history = model7_lstm.fit(train_generator, \n",
    "                          steps_per_epoch=steps_per_epoch,\n",
    "                          epochs=num_epochs, \n",
    "                          verbose=1, \n",
    "                          callbacks=callbacks_list, \n",
    "                          validation_data=val_generator, \n",
    "                          validation_steps=validation_steps, \n",
    "                          class_weight=None, \n",
    "                          workers=1, \n",
    "                          initial_epoch=0)"
   ]
  },
  {
   "cell_type": "markdown",
   "metadata": {},
   "source": [
    "**Let us plot the model7**\t"
   ]
  },
  {
   "cell_type": "code",
   "execution_count": 71,
   "metadata": {},
   "outputs": [
    {
     "data": {
      "image/png": "[encoded data removed]",
      "text/plain": [
       "<Figure size 432x288 with 1 Axes>"
      ]
     },
     "metadata": {
      "needs_background": "light"
     },
     "output_type": "display_data"
    },
    {
     "data": {
      "image/png": "[encoded data removed]",
      "text/plain": [
       "<Figure size 432x288 with 1 Axes>"
      ]
     },
     "metadata": {
      "needs_background": "light"
     },
     "output_type": "display_data"
    }
   ],
   "source": [
    "# Plotting model accuracy history\n",
    "plt.plot(history.history['categorical_accuracy'], 'o-')\n",
    "plt.plot(history.history['val_categorical_accuracy'], 'o-')\n",
    "plt.title('Model7 Accuracy')\n",
    "plt.ylabel('Accuracy')\n",
    "plt.xlabel('Epoch')\n",
    "plt.legend(['train', 'test'], loc='upper left')\n",
    "plt.show()\n",
    "\n",
    "# Plotting model loss history\n",
    "plt.plot(history.history['loss'], 'o-')\n",
    "plt.plot(history.history['val_loss'], 'o-')\n",
    "plt.title('Model7 loss')\n",
    "plt.ylabel('loss')\n",
    "plt.xlabel('epoch')\n",
    "plt.legend(['train', 'test'], loc='upper left')\n",
    "plt.show()"
   ]
  },
  {
   "cell_type": "markdown",
   "metadata": {},
   "source": [
    "This model has given us the test accuracy of 84.62% and validation accuracy of 69%, which is not good compared to the previous model."
   ]
  },
  {
   "cell_type": "markdown",
   "metadata": {},
   "source": [
    "## Creating new Model8 \n",
    "\n",
    "In this model, let us:\n",
    "* Increase the layers and\n",
    "* epoch to 25"
   ]
  },
  {
   "cell_type": "code",
   "execution_count": 72,
   "metadata": {},
   "outputs": [],
   "source": [
    "input_shape = (30,120,120,3)"
   ]
  },
  {
   "cell_type": "code",
   "execution_count": 73,
   "metadata": {},
   "outputs": [
    {
     "name": "stdout",
     "output_type": "stream",
     "text": [
      "# training sequences = 663\n",
      "# validation sequences = 100\n",
      "# epochs = 25\n",
      "# batch_size = 20\n"
     ]
    }
   ],
   "source": [
    "curr_dt_time = datetime.datetime.now()\n",
    "train_path = '/home/datasets/Project_data/train'\n",
    "val_path = '/home/datasets/Project_data/val'\n",
    "num_train_sequences = len(train_doc)\n",
    "print('# training sequences =', num_train_sequences)\n",
    "num_val_sequences = len(val_doc)\n",
    "print('# validation sequences =', num_val_sequences)\n",
    "num_epochs = 25 # choose the number of epochs\n",
    "print ('# epochs =', num_epochs)\n",
    "batch_size = 20\n",
    "print('# batch_size =',batch_size)"
   ]
  },
  {
   "cell_type": "code",
   "execution_count": 74,
   "metadata": {},
   "outputs": [],
   "source": [
    "# Model Building\n",
    "model8_lstm = Sequential()\n",
    "\n",
    "model8_lstm.add(Conv3D(16, (3, 3, 3), padding='same', input_shape=input_shape))\n",
    "model8_lstm.add(Activation('relu'))\n",
    "model8_lstm.add(BatchNormalization())\n",
    "\n",
    "model8_lstm.add(Conv3D(16, (3, 3, 3), padding='same', input_shape=input_shape))\n",
    "model8_lstm.add(Activation('relu'))\n",
    "model8_lstm.add(BatchNormalization())\n",
    "model8_lstm.add(MaxPooling3D(pool_size=(2, 2, 2)))\n",
    "\n",
    "model8_lstm.add(Conv3D(32, (3, 3, 3), padding='same'))\n",
    "model8_lstm.add(Activation('relu'))\n",
    "model8_lstm.add(BatchNormalization())\n",
    "\n",
    "model8_lstm.add(Conv3D(32, (3, 3, 3), padding='same'))\n",
    "model8_lstm.add(Activation('relu'))\n",
    "model8_lstm.add(BatchNormalization())\n",
    "model8_lstm.add(MaxPooling3D(pool_size=(2, 2, 2)))\n",
    "\n",
    "model8_lstm.add(Conv3D(64, (3, 3, 3), padding='same'))\n",
    "model8_lstm.add(Activation('relu'))\n",
    "model8_lstm.add(BatchNormalization())\n",
    "\n",
    "model8_lstm.add(Conv3D(64, (3, 3, 3), padding='same'))\n",
    "model8_lstm.add(Activation('relu'))\n",
    "model8_lstm.add(BatchNormalization())\n",
    "model8_lstm.add(MaxPooling3D(pool_size=(2, 2, 2)))\n",
    "\n",
    "model8_lstm.add(Conv3D(128, (3, 3, 3), padding='same'))\n",
    "model8_lstm.add(Activation('relu'))\n",
    "model8_lstm.add(BatchNormalization())\n",
    "\n",
    "model8_lstm.add(Conv3D(128, (3, 3, 3), padding='same'))\n",
    "model8_lstm.add(Activation('relu'))\n",
    "model8_lstm.add(BatchNormalization())\n",
    "model8_lstm.add(MaxPooling3D(pool_size=(2, 2, 2)))\n",
    "\n",
    "\n",
    "model8_lstm.add(Flatten())\n",
    "model8_lstm.add(Dense(64,activation='relu'))\n",
    "model8_lstm.add(BatchNormalization())\n",
    "model8_lstm.add(Dropout(0.25))\n",
    "model8_lstm.add(Dense(64,activation='relu'))\n",
    "model8_lstm.add(BatchNormalization())\n",
    "model8_lstm.add(Dropout(0.25))\n",
    "\n",
    "model8_lstm.add(Dense(5, activation='softmax'))"
   ]
  },
  {
   "cell_type": "code",
   "execution_count": 75,
   "metadata": {},
   "outputs": [
    {
     "name": "stdout",
     "output_type": "stream",
     "text": [
      "Model: \"sequential_7\"\n",
      "_________________________________________________________________\n",
      " Layer (type)                Output Shape              Param #   \n",
      "=================================================================\n",
      " conv3d_20 (Conv3D)          (None, 30, 120, 120, 16)  1312      \n",
      "                                                                 \n",
      " activation_20 (Activation)  (None, 30, 120, 120, 16)  0         \n",
      "                                                                 \n",
      " batch_normalization_37 (Bat  (None, 30, 120, 120, 16)  64       \n",
      " chNormalization)                                                \n",
      "                                                                 \n",
      " conv3d_21 (Conv3D)          (None, 30, 120, 120, 16)  6928      \n",
      "                                                                 \n",
      " activation_21 (Activation)  (None, 30, 120, 120, 16)  0         \n",
      "                                                                 \n",
      " batch_normalization_38 (Bat  (None, 30, 120, 120, 16)  64       \n",
      " chNormalization)                                                \n",
      "                                                                 \n",
      " max_pooling3d_20 (MaxPoolin  (None, 15, 60, 60, 16)   0         \n",
      " g3D)                                                            \n",
      "                                                                 \n",
      " conv3d_22 (Conv3D)          (None, 15, 60, 60, 32)    13856     \n",
      "                                                                 \n",
      " activation_22 (Activation)  (None, 15, 60, 60, 32)    0         \n",
      "                                                                 \n",
      " batch_normalization_39 (Bat  (None, 15, 60, 60, 32)   128       \n",
      " chNormalization)                                                \n",
      "                                                                 \n",
      " conv3d_23 (Conv3D)          (None, 15, 60, 60, 32)    27680     \n",
      "                                                                 \n",
      " activation_23 (Activation)  (None, 15, 60, 60, 32)    0         \n",
      "                                                                 \n",
      " batch_normalization_40 (Bat  (None, 15, 60, 60, 32)   128       \n",
      " chNormalization)                                                \n",
      "                                                                 \n",
      " max_pooling3d_21 (MaxPoolin  (None, 7, 30, 30, 32)    0         \n",
      " g3D)                                                            \n",
      "                                                                 \n",
      " conv3d_24 (Conv3D)          (None, 7, 30, 30, 64)     55360     \n",
      "                                                                 \n",
      " activation_24 (Activation)  (None, 7, 30, 30, 64)     0         \n",
      "                                                                 \n",
      " batch_normalization_41 (Bat  (None, 7, 30, 30, 64)    256       \n",
      " chNormalization)                                                \n",
      "                                                                 \n",
      " conv3d_25 (Conv3D)          (None, 7, 30, 30, 64)     110656    \n",
      "                                                                 \n",
      " activation_25 (Activation)  (None, 7, 30, 30, 64)     0         \n",
      "                                                                 \n",
      " batch_normalization_42 (Bat  (None, 7, 30, 30, 64)    256       \n",
      " chNormalization)                                                \n",
      "                                                                 \n",
      " max_pooling3d_22 (MaxPoolin  (None, 3, 15, 15, 64)    0         \n",
      " g3D)                                                            \n",
      "                                                                 \n",
      " conv3d_26 (Conv3D)          (None, 3, 15, 15, 128)    221312    \n",
      "                                                                 \n",
      " activation_26 (Activation)  (None, 3, 15, 15, 128)    0         \n",
      "                                                                 \n",
      " batch_normalization_43 (Bat  (None, 3, 15, 15, 128)   512       \n",
      " chNormalization)                                                \n",
      "                                                                 \n",
      " conv3d_27 (Conv3D)          (None, 3, 15, 15, 128)    442496    \n",
      "                                                                 \n",
      " activation_27 (Activation)  (None, 3, 15, 15, 128)    0         \n",
      "                                                                 \n",
      " batch_normalization_44 (Bat  (None, 3, 15, 15, 128)   512       \n",
      " chNormalization)                                                \n",
      "                                                                 \n",
      " max_pooling3d_23 (MaxPoolin  (None, 1, 7, 7, 128)     0         \n",
      " g3D)                                                            \n",
      "                                                                 \n",
      " flatten_7 (Flatten)         (None, 6272)              0         \n",
      "                                                                 \n",
      " dense_19 (Dense)            (None, 64)                401472    \n",
      "                                                                 \n",
      " batch_normalization_45 (Bat  (None, 64)               256       \n",
      " chNormalization)                                                \n",
      "                                                                 \n",
      " dropout_15 (Dropout)        (None, 64)                0         \n",
      "                                                                 \n",
      " dense_20 (Dense)            (None, 64)                4160      \n",
      "                                                                 \n",
      " batch_normalization_46 (Bat  (None, 64)               256       \n",
      " chNormalization)                                                \n",
      "                                                                 \n",
      " dropout_16 (Dropout)        (None, 64)                0         \n",
      "                                                                 \n",
      " dense_21 (Dense)            (None, 5)                 325       \n",
      "                                                                 \n",
      "=================================================================\n",
      "Total params: 1,287,989\n",
      "Trainable params: 1,286,773\n",
      "Non-trainable params: 1,216\n",
      "_________________________________________________________________\n",
      "None\n"
     ]
    }
   ],
   "source": [
    "# Writing optimizer and compiling the model\n",
    "optimiser = optimizers.Adam()\n",
    "model8_lstm.compile(optimizer=optimiser, loss='categorical_crossentropy', metrics=['categorical_accuracy'])\n",
    "print (model8_lstm.summary())"
   ]
  },
  {
   "cell_type": "code",
   "execution_count": 76,
   "metadata": {},
   "outputs": [],
   "source": [
    "train_generator = generator6_lstm(train_path, train_doc, batch_size)\n",
    "val_generator = generator6_lstm(val_path, val_doc, batch_size)"
   ]
  },
  {
   "cell_type": "code",
   "execution_count": 77,
   "metadata": {},
   "outputs": [],
   "source": [
    "model_name = 'model8_init' + '_' + str(curr_dt_time).replace(' ','').replace(':','_') + '/'\n",
    "    \n",
    "if not os.path.exists(model_name):\n",
    "    os.mkdir(model_name)\n",
    "        \n",
    "filepath = model_name + 'model8-{epoch:05d}-{loss:.5f}-{categorical_accuracy:.5f}-{loss:.5f}-{categorical_accuracy:.5f}.h5'\n",
    "\n",
    "checkpoint = ModelCheckpoint(filepath, monitor='loss', verbose=1, save_best_only=False, save_weights_only=False, mode='auto', save_freq='epoch')\n",
    "\n",
    "# write the REducelronplateau code here\n",
    "LR = ReduceLROnPlateau(monitor='val_loss', factor=0.2, patience=4, verbose =1 )\n",
    "\n",
    "callbacks_list = [checkpoint, LR]"
   ]
  },
  {
   "cell_type": "code",
   "execution_count": 78,
   "metadata": {},
   "outputs": [],
   "source": [
    "if (num_train_sequences%batch_size) == 0:\n",
    "    steps_per_epoch = int(num_train_sequences/batch_size)\n",
    "else:\n",
    "    steps_per_epoch = (num_train_sequences//batch_size) + 1\n",
    "\n",
    "if (num_val_sequences%batch_size) == 0:\n",
    "    validation_steps = int(num_val_sequences/batch_size)\n",
    "else:\n",
    "    validation_steps = (num_val_sequences//batch_size) + 1"
   ]
  },
  {
   "cell_type": "code",
   "execution_count": 79,
   "metadata": {},
   "outputs": [
    {
     "name": "stdout",
     "output_type": "stream",
     "text": [
      "Source path =  /home/datasets/Project_data/train ; batch size = 20\n",
      "Epoch 1/25\n",
      "34/34 [==============================] - ETA: 0s - loss: 1.6489 - categorical_accuracy: 0.4027Source path =  /home/datasets/Project_data/val ; batch size = 20\n",
      "\n",
      "Epoch 00001: saving model to model8_init_2023-11-2706_45_05.719601/model8-00001-1.64892-0.40271-1.64892-0.40271.h5\n",
      "34/34 [==============================] - 61s 2s/step - loss: 1.6489 - categorical_accuracy: 0.4027 - val_loss: 2.9497 - val_categorical_accuracy: 0.1700 - lr: 0.0010\n",
      "Epoch 2/25\n",
      "34/34 [==============================] - ETA: 0s - loss: 1.2763 - categorical_accuracy: 0.4917\n",
      "Epoch 00002: saving model to model8_init_2023-11-2706_45_05.719601/model8-00002-1.27631-0.49170-1.27631-0.49170.h5\n",
      "34/34 [==============================] - 57s 2s/step - loss: 1.2763 - categorical_accuracy: 0.4917 - val_loss: 2.7603 - val_categorical_accuracy: 0.1700 - lr: 0.0010\n",
      "Epoch 3/25\n",
      "34/34 [==============================] - ETA: 0s - loss: 1.1343 - categorical_accuracy: 0.5505\n",
      "Epoch 00003: saving model to model8_init_2023-11-2706_45_05.719601/model8-00003-1.13430-0.55053-1.13430-0.55053.h5\n",
      "34/34 [==============================] - 53s 2s/step - loss: 1.1343 - categorical_accuracy: 0.5505 - val_loss: 4.4083 - val_categorical_accuracy: 0.1800 - lr: 0.0010\n",
      "Epoch 4/25\n",
      "34/34 [==============================] - ETA: 0s - loss: 0.9380 - categorical_accuracy: 0.6335\n",
      "Epoch 00004: saving model to model8_init_2023-11-2706_45_05.719601/model8-00004-0.93804-0.63348-0.93804-0.63348.h5\n",
      "34/34 [==============================] - 53s 2s/step - loss: 0.9380 - categorical_accuracy: 0.6335 - val_loss: 4.4859 - val_categorical_accuracy: 0.3200 - lr: 0.0010\n",
      "Epoch 5/25\n",
      "34/34 [==============================] - ETA: 0s - loss: 1.5467 - categorical_accuracy: 0.4299\n",
      "Epoch 00005: saving model to model8_init_2023-11-2706_45_05.719601/model8-00005-1.54675-0.42986-1.54675-0.42986.h5\n",
      "34/34 [==============================] - 53s 2s/step - loss: 1.5467 - categorical_accuracy: 0.4299 - val_loss: 2.9048 - val_categorical_accuracy: 0.3600 - lr: 0.0010\n",
      "Epoch 6/25\n",
      "34/34 [==============================] - ETA: 0s - loss: 1.0969 - categorical_accuracy: 0.5897\n",
      "Epoch 00006: saving model to model8_init_2023-11-2706_45_05.719601/model8-00006-1.09692-0.58974-1.09692-0.58974.h5\n",
      "34/34 [==============================] - 53s 2s/step - loss: 1.0969 - categorical_accuracy: 0.5897 - val_loss: 2.0416 - val_categorical_accuracy: 0.4800 - lr: 0.0010\n",
      "Epoch 7/25\n",
      "34/34 [==============================] - ETA: 0s - loss: 0.9503 - categorical_accuracy: 0.6471\n",
      "Epoch 00007: saving model to model8_init_2023-11-2706_45_05.719601/model8-00007-0.95035-0.64706-0.95035-0.64706.h5\n",
      "34/34 [==============================] - 51s 2s/step - loss: 0.9503 - categorical_accuracy: 0.6471 - val_loss: 2.1247 - val_categorical_accuracy: 0.4000 - lr: 0.0010\n",
      "Epoch 8/25\n",
      "34/34 [==============================] - ETA: 0s - loss: 0.6836 - categorical_accuracy: 0.7662\n",
      "Epoch 00008: saving model to model8_init_2023-11-2706_45_05.719601/model8-00008-0.68357-0.76621-0.68357-0.76621.h5\n",
      "34/34 [==============================] - 49s 1s/step - loss: 0.6836 - categorical_accuracy: 0.7662 - val_loss: 1.3772 - val_categorical_accuracy: 0.5400 - lr: 0.0010\n",
      "Epoch 9/25\n",
      "34/34 [==============================] - ETA: 0s - loss: 0.6653 - categorical_accuracy: 0.7300\n",
      "Epoch 00009: saving model to model8_init_2023-11-2706_45_05.719601/model8-00009-0.66526-0.73002-0.66526-0.73002.h5\n",
      "34/34 [==============================] - 50s 1s/step - loss: 0.6653 - categorical_accuracy: 0.7300 - val_loss: 2.0641 - val_categorical_accuracy: 0.4100 - lr: 0.0010\n",
      "Epoch 10/25\n",
      "34/34 [==============================] - ETA: 0s - loss: 0.5897 - categorical_accuracy: 0.7828\n",
      "Epoch 00010: saving model to model8_init_2023-11-2706_45_05.719601/model8-00010-0.58971-0.78281-0.58971-0.78281.h5\n",
      "34/34 [==============================] - 49s 1s/step - loss: 0.5897 - categorical_accuracy: 0.7828 - val_loss: 2.5530 - val_categorical_accuracy: 0.2800 - lr: 0.0010\n",
      "Epoch 11/25\n",
      "34/34 [==============================] - ETA: 0s - loss: 0.5338 - categorical_accuracy: 0.7858\n",
      "Epoch 00011: saving model to model8_init_2023-11-2706_45_05.719601/model8-00011-0.53379-0.78582-0.53379-0.78582.h5\n",
      "34/34 [==============================] - 50s 1s/step - loss: 0.5338 - categorical_accuracy: 0.7858 - val_loss: 1.4310 - val_categorical_accuracy: 0.4700 - lr: 0.0010\n",
      "Epoch 12/25\n",
      "34/34 [==============================] - ETA: 0s - loss: 0.3962 - categorical_accuracy: 0.8597\n",
      "Epoch 00012: saving model to model8_init_2023-11-2706_45_05.719601/model8-00012-0.39625-0.85973-0.39625-0.85973.h5\n",
      "\n",
      "Epoch 00012: ReduceLROnPlateau reducing learning rate to 0.00020000000949949026.\n",
      "34/34 [==============================] - 53s 2s/step - loss: 0.3962 - categorical_accuracy: 0.8597 - val_loss: 1.5574 - val_categorical_accuracy: 0.5500 - lr: 0.0010\n",
      "Epoch 13/25\n",
      "34/34 [==============================] - ETA: 0s - loss: 0.3518 - categorical_accuracy: 0.8869\n",
      "Epoch 00013: saving model to model8_init_2023-11-2706_45_05.719601/model8-00013-0.35182-0.88688-0.35182-0.88688.h5\n",
      "34/34 [==============================] - 52s 2s/step - loss: 0.3518 - categorical_accuracy: 0.8869 - val_loss: 1.0688 - val_categorical_accuracy: 0.6600 - lr: 2.0000e-04\n",
      "Epoch 14/25\n",
      "34/34 [==============================] - ETA: 0s - loss: 0.3601 - categorical_accuracy: 0.8793\n",
      "Epoch 00014: saving model to model8_init_2023-11-2706_45_05.719601/model8-00014-0.36007-0.87934-0.36007-0.87934.h5\n",
      "34/34 [==============================] - 63s 2s/step - loss: 0.3601 - categorical_accuracy: 0.8793 - val_loss: 0.9375 - val_categorical_accuracy: 0.6700 - lr: 2.0000e-04\n",
      "Epoch 15/25\n",
      "34/34 [==============================] - ETA: 0s - loss: 0.3312 - categorical_accuracy: 0.8824\n",
      "Epoch 00015: saving model to model8_init_2023-11-2706_45_05.719601/model8-00015-0.33120-0.88235-0.33120-0.88235.h5\n",
      "34/34 [==============================] - 49s 1s/step - loss: 0.3312 - categorical_accuracy: 0.8824 - val_loss: 0.6769 - val_categorical_accuracy: 0.7700 - lr: 2.0000e-04\n",
      "Epoch 16/25\n",
      "34/34 [==============================] - ETA: 0s - loss: 0.2771 - categorical_accuracy: 0.9035\n",
      "Epoch 00016: saving model to model8_init_2023-11-2706_45_05.719601/model8-00016-0.27712-0.90347-0.27712-0.90347.h5\n",
      "34/34 [==============================] - 53s 2s/step - loss: 0.2771 - categorical_accuracy: 0.9035 - val_loss: 0.6620 - val_categorical_accuracy: 0.7800 - lr: 2.0000e-04\n",
      "Epoch 17/25\n",
      "34/34 [==============================] - ETA: 0s - loss: 0.2754 - categorical_accuracy: 0.9005\n",
      "Epoch 00017: saving model to model8_init_2023-11-2706_45_05.719601/model8-00017-0.27544-0.90045-0.27544-0.90045.h5\n",
      "34/34 [==============================] - 56s 2s/step - loss: 0.2754 - categorical_accuracy: 0.9005 - val_loss: 0.6128 - val_categorical_accuracy: 0.7700 - lr: 2.0000e-04\n",
      "Epoch 18/25\n",
      "34/34 [==============================] - ETA: 0s - loss: 0.2920 - categorical_accuracy: 0.9020\n",
      "Epoch 00018: saving model to model8_init_2023-11-2706_45_05.719601/model8-00018-0.29197-0.90196-0.29197-0.90196.h5\n",
      "34/34 [==============================] - 72s 2s/step - loss: 0.2920 - categorical_accuracy: 0.9020 - val_loss: 0.5980 - val_categorical_accuracy: 0.8000 - lr: 2.0000e-04\n",
      "Epoch 19/25\n",
      "34/34 [==============================] - ETA: 0s - loss: 0.2718 - categorical_accuracy: 0.9050\n",
      "Epoch 00019: saving model to model8_init_2023-11-2706_45_05.719601/model8-00019-0.27181-0.90498-0.27181-0.90498.h5\n",
      "34/34 [==============================] - 72s 2s/step - loss: 0.2718 - categorical_accuracy: 0.9050 - val_loss: 0.5486 - val_categorical_accuracy: 0.8200 - lr: 2.0000e-04\n",
      "Epoch 20/25\n",
      "34/34 [==============================] - ETA: 0s - loss: 0.2335 - categorical_accuracy: 0.9216\n",
      "Epoch 00020: saving model to model8_init_2023-11-2706_45_05.719601/model8-00020-0.23353-0.92157-0.23353-0.92157.h5\n",
      "34/34 [==============================] - 54s 2s/step - loss: 0.2335 - categorical_accuracy: 0.9216 - val_loss: 0.4834 - val_categorical_accuracy: 0.8700 - lr: 2.0000e-04\n",
      "Epoch 21/25\n",
      "34/34 [==============================] - ETA: 0s - loss: 0.2175 - categorical_accuracy: 0.9276\n",
      "Epoch 00021: saving model to model8_init_2023-11-2706_45_05.719601/model8-00021-0.21746-0.92760-0.21746-0.92760.h5\n",
      "34/34 [==============================] - 56s 2s/step - loss: 0.2175 - categorical_accuracy: 0.9276 - val_loss: 0.4459 - val_categorical_accuracy: 0.8700 - lr: 2.0000e-04\n",
      "Epoch 22/25\n",
      "34/34 [==============================] - ETA: 0s - loss: 0.1986 - categorical_accuracy: 0.9457\n",
      "Epoch 00022: saving model to model8_init_2023-11-2706_45_05.719601/model8-00022-0.19862-0.94570-0.19862-0.94570.h5\n",
      "34/34 [==============================] - 52s 2s/step - loss: 0.1986 - categorical_accuracy: 0.9457 - val_loss: 0.4655 - val_categorical_accuracy: 0.8400 - lr: 2.0000e-04\n",
      "Epoch 23/25\n",
      "34/34 [==============================] - ETA: 0s - loss: 0.2533 - categorical_accuracy: 0.9231\n",
      "Epoch 00023: saving model to model8_init_2023-11-2706_45_05.719601/model8-00023-0.25329-0.92308-0.25329-0.92308.h5\n",
      "34/34 [==============================] - 50s 2s/step - loss: 0.2533 - categorical_accuracy: 0.9231 - val_loss: 0.5363 - val_categorical_accuracy: 0.8400 - lr: 2.0000e-04\n",
      "Epoch 24/25\n",
      "34/34 [==============================] - ETA: 0s - loss: 0.1823 - categorical_accuracy: 0.9442\n",
      "Epoch 00024: saving model to model8_init_2023-11-2706_45_05.719601/model8-00024-0.18233-0.94419-0.18233-0.94419.h5\n",
      "34/34 [==============================] - 52s 2s/step - loss: 0.1823 - categorical_accuracy: 0.9442 - val_loss: 0.5463 - val_categorical_accuracy: 0.8200 - lr: 2.0000e-04\n",
      "Epoch 25/25\n",
      "34/34 [==============================] - ETA: 0s - loss: 0.1892 - categorical_accuracy: 0.9412\n",
      "Epoch 00025: saving model to model8_init_2023-11-2706_45_05.719601/model8-00025-0.18921-0.94118-0.18921-0.94118.h5\n",
      "34/34 [==============================] - 52s 2s/step - loss: 0.1892 - categorical_accuracy: 0.9412 - val_loss: 0.2942 - val_categorical_accuracy: 0.8900 - lr: 2.0000e-04\n"
     ]
    }
   ],
   "source": [
    "history = model8_lstm.fit(train_generator, \n",
    "                          steps_per_epoch=steps_per_epoch,\n",
    "                          epochs=num_epochs, \n",
    "                          verbose=1, \n",
    "                          callbacks=callbacks_list, \n",
    "                          validation_data=val_generator, \n",
    "                          validation_steps=validation_steps, \n",
    "                          class_weight=None, \n",
    "                          workers=1, \n",
    "                          initial_epoch=0)"
   ]
  },
  {
   "cell_type": "markdown",
   "metadata": {},
   "source": [
    "**Let us plot the model8**\t"
   ]
  },
  {
   "cell_type": "code",
   "execution_count": 80,
   "metadata": {},
   "outputs": [
    {
     "data": {
      "image/png": "[encoded data removed]",
      "text/plain": [
       "<Figure size 432x288 with 1 Axes>"
      ]
     },
     "metadata": {
      "needs_background": "light"
     },
     "output_type": "display_data"
    },
    {
     "data": {
      "image/png": "[encoded data removed]",
      "text/plain": [
       "<Figure size 432x288 with 1 Axes>"
      ]
     },
     "metadata": {
      "needs_background": "light"
     },
     "output_type": "display_data"
    }
   ],
   "source": [
    "# Plotting model accuracy history\n",
    "plt.plot(history.history['categorical_accuracy'], 'o-')\n",
    "plt.plot(history.history['val_categorical_accuracy'], 'o-')\n",
    "plt.title('Model8 Accuracy')\n",
    "plt.ylabel('Accuracy')\n",
    "plt.xlabel('Epoch')\n",
    "plt.legend(['train', 'test'], loc='upper left')\n",
    "plt.show()\n",
    "\n",
    "# Plotting model loss history\n",
    "plt.plot(history.history['loss'], 'o-')\n",
    "plt.plot(history.history['val_loss'], 'o-')\n",
    "plt.title('Model8 loss')\n",
    "plt.ylabel('loss')\n",
    "plt.xlabel('epoch')\n",
    "plt.legend(['train', 'test'], loc='upper left')\n",
    "plt.show()"
   ]
  },
  {
   "cell_type": "markdown",
   "metadata": {},
   "source": [
    "This model has given us the test accuracy of 94.12% and validation accuracy of 89%, which is again better one."
   ]
  },
  {
   "cell_type": "markdown",
   "metadata": {},
   "source": [
    "## Creating new Model9 \n",
    "\n",
    "In this model, let us:\n",
    "* Change the parameters Convolutional Network parameters"
   ]
  },
  {
   "cell_type": "code",
   "execution_count": 81,
   "metadata": {},
   "outputs": [],
   "source": [
    "input_shape = (30,120,120,3)"
   ]
  },
  {
   "cell_type": "code",
   "execution_count": 82,
   "metadata": {},
   "outputs": [
    {
     "name": "stdout",
     "output_type": "stream",
     "text": [
      "# training sequences = 663\n",
      "# validation sequences = 100\n",
      "# epochs = 25\n",
      "# batch_size = 20\n"
     ]
    }
   ],
   "source": [
    "curr_dt_time = datetime.datetime.now()\n",
    "train_path = '/home/datasets/Project_data/train'\n",
    "val_path = '/home/datasets/Project_data/val'\n",
    "num_train_sequences = len(train_doc)\n",
    "print('# training sequences =', num_train_sequences)\n",
    "num_val_sequences = len(val_doc)\n",
    "print('# validation sequences =', num_val_sequences)\n",
    "num_epochs = 25 # choose the number of epochs\n",
    "print ('# epochs =', num_epochs)\n",
    "batch_size = 20\n",
    "print('# batch_size =',batch_size)"
   ]
  },
  {
   "cell_type": "code",
   "execution_count": 83,
   "metadata": {},
   "outputs": [],
   "source": [
    "# Model Building\n",
    "model9_lstm = Sequential()\n",
    "\n",
    "model9_lstm.add(Conv3D(16, (3, 3, 3), padding='same', input_shape=input_shape))\n",
    "model9_lstm.add(Activation('relu'))\n",
    "model9_lstm.add(BatchNormalization())\n",
    "\n",
    "model9_lstm.add(Conv3D(16, (3, 3, 3), padding='same', input_shape=input_shape))\n",
    "model9_lstm.add(Activation('relu'))\n",
    "model9_lstm.add(BatchNormalization())\n",
    "model9_lstm.add(MaxPooling3D(pool_size=(2, 2, 2)))\n",
    "\n",
    "model9_lstm.add(Conv3D(32, (3, 3, 3), padding='same'))\n",
    "model9_lstm.add(Activation('relu'))\n",
    "model9_lstm.add(BatchNormalization())\n",
    "\n",
    "model9_lstm.add(Conv3D(32, (3, 3, 3), padding='same'))\n",
    "model9_lstm.add(Activation('relu'))\n",
    "model9_lstm.add(BatchNormalization())\n",
    "model9_lstm.add(MaxPooling3D(pool_size=(2, 2, 2)))\n",
    "\n",
    "model9_lstm.add(Conv3D(64, (3, 3, 3), padding='same'))\n",
    "model9_lstm.add(Activation('relu'))\n",
    "model9_lstm.add(BatchNormalization())\n",
    "\n",
    "model9_lstm.add(Conv3D(64, (3, 3, 3), padding='same'))\n",
    "model9_lstm.add(Activation('relu'))\n",
    "model9_lstm.add(BatchNormalization())\n",
    "model9_lstm.add(MaxPooling3D(pool_size=(2, 2, 2)))\n",
    "\n",
    "model9_lstm.add(Conv3D(128, (3, 3, 3), padding='same'))\n",
    "model9_lstm.add(Activation('relu'))\n",
    "model9_lstm.add(BatchNormalization())\n",
    "\n",
    "model9_lstm.add(Conv3D(128, (3, 3, 3), padding='same'))\n",
    "model9_lstm.add(Activation('relu'))\n",
    "model9_lstm.add(BatchNormalization())\n",
    "model9_lstm.add(MaxPooling3D(pool_size=(2, 2, 2)))\n",
    "\n",
    "model9_lstm.add(Flatten())\n",
    "model9_lstm.add(Dense(128,activation='relu'))\n",
    "model9_lstm.add(BatchNormalization())\n",
    "model9_lstm.add(Dropout(0.25))\n",
    "model9_lstm.add(Dense(128,activation='relu'))\n",
    "model9_lstm.add(BatchNormalization())\n",
    "model9_lstm.add(Dropout(0.25))\n",
    "\n",
    "model9_lstm.add(Dense(5, activation='softmax'))"
   ]
  },
  {
   "cell_type": "code",
   "execution_count": 84,
   "metadata": {},
   "outputs": [
    {
     "name": "stdout",
     "output_type": "stream",
     "text": [
      "Model: \"sequential_8\"\n",
      "_________________________________________________________________\n",
      " Layer (type)                Output Shape              Param #   \n",
      "=================================================================\n",
      " conv3d_28 (Conv3D)          (None, 30, 120, 120, 16)  1312      \n",
      "                                                                 \n",
      " activation_28 (Activation)  (None, 30, 120, 120, 16)  0         \n",
      "                                                                 \n",
      " batch_normalization_47 (Bat  (None, 30, 120, 120, 16)  64       \n",
      " chNormalization)                                                \n",
      "                                                                 \n",
      " conv3d_29 (Conv3D)          (None, 30, 120, 120, 16)  6928      \n",
      "                                                                 \n",
      " activation_29 (Activation)  (None, 30, 120, 120, 16)  0         \n",
      "                                                                 \n",
      " batch_normalization_48 (Bat  (None, 30, 120, 120, 16)  64       \n",
      " chNormalization)                                                \n",
      "                                                                 \n",
      " max_pooling3d_24 (MaxPoolin  (None, 15, 60, 60, 16)   0         \n",
      " g3D)                                                            \n",
      "                                                                 \n",
      " conv3d_30 (Conv3D)          (None, 15, 60, 60, 32)    13856     \n",
      "                                                                 \n",
      " activation_30 (Activation)  (None, 15, 60, 60, 32)    0         \n",
      "                                                                 \n",
      " batch_normalization_49 (Bat  (None, 15, 60, 60, 32)   128       \n",
      " chNormalization)                                                \n",
      "                                                                 \n",
      " conv3d_31 (Conv3D)          (None, 15, 60, 60, 32)    27680     \n",
      "                                                                 \n",
      " activation_31 (Activation)  (None, 15, 60, 60, 32)    0         \n",
      "                                                                 \n",
      " batch_normalization_50 (Bat  (None, 15, 60, 60, 32)   128       \n",
      " chNormalization)                                                \n",
      "                                                                 \n",
      " max_pooling3d_25 (MaxPoolin  (None, 7, 30, 30, 32)    0         \n",
      " g3D)                                                            \n",
      "                                                                 \n",
      " conv3d_32 (Conv3D)          (None, 7, 30, 30, 64)     55360     \n",
      "                                                                 \n",
      " activation_32 (Activation)  (None, 7, 30, 30, 64)     0         \n",
      "                                                                 \n",
      " batch_normalization_51 (Bat  (None, 7, 30, 30, 64)    256       \n",
      " chNormalization)                                                \n",
      "                                                                 \n",
      " conv3d_33 (Conv3D)          (None, 7, 30, 30, 64)     110656    \n",
      "                                                                 \n",
      " activation_33 (Activation)  (None, 7, 30, 30, 64)     0         \n",
      "                                                                 \n",
      " batch_normalization_52 (Bat  (None, 7, 30, 30, 64)    256       \n",
      " chNormalization)                                                \n",
      "                                                                 \n",
      " max_pooling3d_26 (MaxPoolin  (None, 3, 15, 15, 64)    0         \n",
      " g3D)                                                            \n",
      "                                                                 \n",
      " conv3d_34 (Conv3D)          (None, 3, 15, 15, 128)    221312    \n",
      "                                                                 \n",
      " activation_34 (Activation)  (None, 3, 15, 15, 128)    0         \n",
      "                                                                 \n",
      " batch_normalization_53 (Bat  (None, 3, 15, 15, 128)   512       \n",
      " chNormalization)                                                \n",
      "                                                                 \n",
      " conv3d_35 (Conv3D)          (None, 3, 15, 15, 128)    442496    \n",
      "                                                                 \n",
      " activation_35 (Activation)  (None, 3, 15, 15, 128)    0         \n",
      "                                                                 \n",
      " batch_normalization_54 (Bat  (None, 3, 15, 15, 128)   512       \n",
      " chNormalization)                                                \n",
      "                                                                 \n",
      " max_pooling3d_27 (MaxPoolin  (None, 1, 7, 7, 128)     0         \n",
      " g3D)                                                            \n",
      "                                                                 \n",
      " flatten_8 (Flatten)         (None, 6272)              0         \n",
      "                                                                 \n",
      " dense_22 (Dense)            (None, 128)               802944    \n",
      "                                                                 \n",
      " batch_normalization_55 (Bat  (None, 128)              512       \n",
      " chNormalization)                                                \n",
      "                                                                 \n",
      " dropout_17 (Dropout)        (None, 128)               0         \n",
      "                                                                 \n",
      " dense_23 (Dense)            (None, 128)               16512     \n",
      "                                                                 \n",
      " batch_normalization_56 (Bat  (None, 128)              512       \n",
      " chNormalization)                                                \n",
      "                                                                 \n",
      " dropout_18 (Dropout)        (None, 128)               0         \n",
      "                                                                 \n",
      " dense_24 (Dense)            (None, 5)                 645       \n",
      "                                                                 \n",
      "=================================================================\n",
      "Total params: 1,702,645\n",
      "Trainable params: 1,701,173\n",
      "Non-trainable params: 1,472\n",
      "_________________________________________________________________\n",
      "None\n"
     ]
    }
   ],
   "source": [
    "# Writing optimizer and compiling the model\n",
    "optimiser = optimizers.Adam()\n",
    "model9_lstm.compile(optimizer=optimiser, loss='categorical_crossentropy', metrics=['categorical_accuracy'])\n",
    "print (model9_lstm.summary())"
   ]
  },
  {
   "cell_type": "code",
   "execution_count": 85,
   "metadata": {},
   "outputs": [],
   "source": [
    "train_generator = generator6_lstm(train_path, train_doc, batch_size)\n",
    "val_generator = generator6_lstm(val_path, val_doc, batch_size)"
   ]
  },
  {
   "cell_type": "code",
   "execution_count": 86,
   "metadata": {},
   "outputs": [],
   "source": [
    "model_name = 'model9_init' + '_' + str(curr_dt_time).replace(' ','').replace(':','_') + '/'\n",
    "    \n",
    "if not os.path.exists(model_name):\n",
    "    os.mkdir(model_name)\n",
    "        \n",
    "filepath = model_name + 'model9-{epoch:05d}-{loss:.5f}-{categorical_accuracy:.5f}-{loss:.5f}-{categorical_accuracy:.5f}.h5'\n",
    "\n",
    "checkpoint = ModelCheckpoint(filepath, monitor='loss', verbose=1, save_best_only=False, save_weights_only=False, mode='auto', save_freq='epoch')\n",
    "\n",
    "# write the REducelronplateau code here\n",
    "LR = ReduceLROnPlateau(monitor='val_loss', factor=0.2, patience=4, verbose =1 )\n",
    "\n",
    "callbacks_list = [checkpoint, LR]"
   ]
  },
  {
   "cell_type": "code",
   "execution_count": 87,
   "metadata": {},
   "outputs": [],
   "source": [
    "if (num_train_sequences%batch_size) == 0:\n",
    "    steps_per_epoch = int(num_train_sequences/batch_size)\n",
    "else:\n",
    "    steps_per_epoch = (num_train_sequences//batch_size) + 1\n",
    "\n",
    "if (num_val_sequences%batch_size) == 0:\n",
    "    validation_steps = int(num_val_sequences/batch_size)\n",
    "else:\n",
    "    validation_steps = (num_val_sequences//batch_size) + 1"
   ]
  },
  {
   "cell_type": "code",
   "execution_count": 88,
   "metadata": {},
   "outputs": [
    {
     "name": "stdout",
     "output_type": "stream",
     "text": [
      "Source path =  /home/datasets/Project_data/train ; batch size = 20\n",
      "Epoch 1/25\n",
      "34/34 [==============================] - ETA: 0s - loss: 1.5285 - categorical_accuracy: 0.4359Source path =  /home/datasets/Project_data/val ; batch size = 20\n",
      "\n",
      "Epoch 00001: saving model to model9_init_2023-11-2707_08_34.264448/model9-00001-1.52847-0.43590-1.52847-0.43590.h5\n",
      "34/34 [==============================] - 56s 2s/step - loss: 1.5285 - categorical_accuracy: 0.4359 - val_loss: 1.6947 - val_categorical_accuracy: 0.2600 - lr: 0.0010\n",
      "Epoch 2/25\n",
      "34/34 [==============================] - ETA: 0s - loss: 1.2125 - categorical_accuracy: 0.5339\n",
      "Epoch 00002: saving model to model9_init_2023-11-2707_08_34.264448/model9-00002-1.21252-0.53394-1.21252-0.53394.h5\n",
      "34/34 [==============================] - 56s 2s/step - loss: 1.2125 - categorical_accuracy: 0.5339 - val_loss: 2.9931 - val_categorical_accuracy: 0.1900 - lr: 0.0010\n",
      "Epoch 3/25\n",
      "34/34 [==============================] - ETA: 0s - loss: 1.1116 - categorical_accuracy: 0.6018\n",
      "Epoch 00003: saving model to model9_init_2023-11-2707_08_34.264448/model9-00003-1.11162-0.60181-1.11162-0.60181.h5\n",
      "34/34 [==============================] - 54s 2s/step - loss: 1.1116 - categorical_accuracy: 0.6018 - val_loss: 2.1517 - val_categorical_accuracy: 0.1900 - lr: 0.0010\n",
      "Epoch 4/25\n",
      "34/34 [==============================] - ETA: 0s - loss: 0.8387 - categorical_accuracy: 0.6772\n",
      "Epoch 00004: saving model to model9_init_2023-11-2707_08_34.264448/model9-00004-0.83875-0.67722-0.83875-0.67722.h5\n",
      "34/34 [==============================] - 51s 2s/step - loss: 0.8387 - categorical_accuracy: 0.6772 - val_loss: 4.5115 - val_categorical_accuracy: 0.2300 - lr: 0.0010\n",
      "Epoch 5/25\n",
      "34/34 [==============================] - ETA: 0s - loss: 0.7670 - categorical_accuracy: 0.7104\n",
      "Epoch 00005: saving model to model9_init_2023-11-2707_08_34.264448/model9-00005-0.76698-0.71041-0.76698-0.71041.h5\n",
      "\n",
      "Epoch 00005: ReduceLROnPlateau reducing learning rate to 0.00020000000949949026.\n",
      "34/34 [==============================] - 49s 1s/step - loss: 0.7670 - categorical_accuracy: 0.7104 - val_loss: 5.9388 - val_categorical_accuracy: 0.2100 - lr: 0.0010\n",
      "Epoch 6/25\n",
      "34/34 [==============================] - ETA: 0s - loss: 0.6379 - categorical_accuracy: 0.7798\n",
      "Epoch 00006: saving model to model9_init_2023-11-2707_08_34.264448/model9-00006-0.63790-0.77979-0.63790-0.77979.h5\n",
      "34/34 [==============================] - 52s 2s/step - loss: 0.6379 - categorical_accuracy: 0.7798 - val_loss: 4.2334 - val_categorical_accuracy: 0.2200 - lr: 2.0000e-04\n",
      "Epoch 7/25\n",
      "34/34 [==============================] - ETA: 0s - loss: 0.5496 - categorical_accuracy: 0.7934\n",
      "Epoch 00007: saving model to model9_init_2023-11-2707_08_34.264448/model9-00007-0.54957-0.79336-0.54957-0.79336.h5\n",
      "34/34 [==============================] - 54s 2s/step - loss: 0.5496 - categorical_accuracy: 0.7934 - val_loss: 3.9284 - val_categorical_accuracy: 0.2300 - lr: 2.0000e-04\n",
      "Epoch 8/25\n",
      "34/34 [==============================] - ETA: 0s - loss: 0.4903 - categorical_accuracy: 0.8054\n",
      "Epoch 00008: saving model to model9_init_2023-11-2707_08_34.264448/model9-00008-0.49026-0.80543-0.49026-0.80543.h5\n",
      "34/34 [==============================] - 55s 2s/step - loss: 0.4903 - categorical_accuracy: 0.8054 - val_loss: 3.4323 - val_categorical_accuracy: 0.2000 - lr: 2.0000e-04\n",
      "Epoch 9/25\n",
      "34/34 [==============================] - ETA: 0s - loss: 0.4461 - categorical_accuracy: 0.8446\n",
      "Epoch 00009: saving model to model9_init_2023-11-2707_08_34.264448/model9-00009-0.44611-0.84465-0.44611-0.84465.h5\n",
      "\n",
      "Epoch 00009: ReduceLROnPlateau reducing learning rate to 4.0000001899898055e-05.\n",
      "34/34 [==============================] - 53s 2s/step - loss: 0.4461 - categorical_accuracy: 0.8446 - val_loss: 3.1336 - val_categorical_accuracy: 0.2000 - lr: 2.0000e-04\n",
      "Epoch 10/25\n",
      "34/34 [==============================] - ETA: 0s - loss: 0.3855 - categorical_accuracy: 0.8673\n",
      "Epoch 00010: saving model to model9_init_2023-11-2707_08_34.264448/model9-00010-0.38554-0.86727-0.38554-0.86727.h5\n",
      "34/34 [==============================] - 53s 2s/step - loss: 0.3855 - categorical_accuracy: 0.8673 - val_loss: 3.2827 - val_categorical_accuracy: 0.2100 - lr: 4.0000e-05\n",
      "Epoch 11/25\n",
      "34/34 [==============================] - ETA: 0s - loss: 0.3292 - categorical_accuracy: 0.8824\n",
      "Epoch 00011: saving model to model9_init_2023-11-2707_08_34.264448/model9-00011-0.32923-0.88235-0.32923-0.88235.h5\n",
      "34/34 [==============================] - 54s 2s/step - loss: 0.3292 - categorical_accuracy: 0.8824 - val_loss: 2.8556 - val_categorical_accuracy: 0.2700 - lr: 4.0000e-05\n",
      "Epoch 12/25\n",
      "34/34 [==============================] - ETA: 0s - loss: 0.3101 - categorical_accuracy: 0.8929\n",
      "Epoch 00012: saving model to model9_init_2023-11-2707_08_34.264448/model9-00012-0.31007-0.89291-0.31007-0.89291.h5\n",
      "34/34 [==============================] - 52s 2s/step - loss: 0.3101 - categorical_accuracy: 0.8929 - val_loss: 2.2844 - val_categorical_accuracy: 0.3300 - lr: 4.0000e-05\n",
      "Epoch 13/25\n",
      "34/34 [==============================] - ETA: 0s - loss: 0.3217 - categorical_accuracy: 0.8869\n",
      "Epoch 00013: saving model to model9_init_2023-11-2707_08_34.264448/model9-00013-0.32167-0.88688-0.32167-0.88688.h5\n",
      "\n",
      "Epoch 00013: ReduceLROnPlateau reducing learning rate to 8.000000525498762e-06.\n",
      "34/34 [==============================] - 53s 2s/step - loss: 0.3217 - categorical_accuracy: 0.8869 - val_loss: 2.2250 - val_categorical_accuracy: 0.2300 - lr: 4.0000e-05\n",
      "Epoch 14/25\n",
      "34/34 [==============================] - ETA: 0s - loss: 0.3300 - categorical_accuracy: 0.8884\n",
      "Epoch 00014: saving model to model9_init_2023-11-2707_08_34.264448/model9-00014-0.33001-0.88839-0.33001-0.88839.h5\n",
      "34/34 [==============================] - 53s 2s/step - loss: 0.3300 - categorical_accuracy: 0.8884 - val_loss: 1.7527 - val_categorical_accuracy: 0.3800 - lr: 8.0000e-06\n",
      "Epoch 15/25\n",
      "34/34 [==============================] - ETA: 0s - loss: 0.3206 - categorical_accuracy: 0.8944\n",
      "Epoch 00015: saving model to model9_init_2023-11-2707_08_34.264448/model9-00015-0.32063-0.89442-0.32063-0.89442.h5\n",
      "34/34 [==============================] - 51s 2s/step - loss: 0.3206 - categorical_accuracy: 0.8944 - val_loss: 1.4312 - val_categorical_accuracy: 0.4700 - lr: 8.0000e-06\n",
      "Epoch 16/25\n",
      "34/34 [==============================] - ETA: 0s - loss: 0.3157 - categorical_accuracy: 0.8869\n",
      "Epoch 00016: saving model to model9_init_2023-11-2707_08_34.264448/model9-00016-0.31570-0.88688-0.31570-0.88688.h5\n",
      "34/34 [==============================] - 54s 2s/step - loss: 0.3157 - categorical_accuracy: 0.8869 - val_loss: 1.1083 - val_categorical_accuracy: 0.6100 - lr: 8.0000e-06\n",
      "Epoch 17/25\n",
      "34/34 [==============================] - ETA: 0s - loss: 0.3144 - categorical_accuracy: 0.8778\n",
      "Epoch 00017: saving model to model9_init_2023-11-2707_08_34.264448/model9-00017-0.31440-0.87783-0.31440-0.87783.h5\n",
      "34/34 [==============================] - 53s 2s/step - loss: 0.3144 - categorical_accuracy: 0.8778 - val_loss: 0.9677 - val_categorical_accuracy: 0.6200 - lr: 8.0000e-06\n",
      "Epoch 18/25\n",
      "34/34 [==============================] - ETA: 0s - loss: 0.2716 - categorical_accuracy: 0.9140\n",
      "Epoch 00018: saving model to model9_init_2023-11-2707_08_34.264448/model9-00018-0.27162-0.91403-0.27162-0.91403.h5\n",
      "34/34 [==============================] - 49s 1s/step - loss: 0.2716 - categorical_accuracy: 0.9140 - val_loss: 0.7432 - val_categorical_accuracy: 0.7200 - lr: 8.0000e-06\n",
      "Epoch 19/25\n",
      "34/34 [==============================] - ETA: 0s - loss: 0.3122 - categorical_accuracy: 0.8854\n",
      "Epoch 00019: saving model to model9_init_2023-11-2707_08_34.264448/model9-00019-0.31216-0.88537-0.31216-0.88537.h5\n",
      "34/34 [==============================] - 51s 2s/step - loss: 0.3122 - categorical_accuracy: 0.8854 - val_loss: 0.6838 - val_categorical_accuracy: 0.7200 - lr: 8.0000e-06\n",
      "Epoch 20/25\n",
      "34/34 [==============================] - ETA: 0s - loss: 0.2798 - categorical_accuracy: 0.9020\n",
      "Epoch 00020: saving model to model9_init_2023-11-2707_08_34.264448/model9-00020-0.27976-0.90196-0.27976-0.90196.h5\n",
      "34/34 [==============================] - 52s 2s/step - loss: 0.2798 - categorical_accuracy: 0.9020 - val_loss: 0.5456 - val_categorical_accuracy: 0.7600 - lr: 8.0000e-06\n",
      "Epoch 21/25\n",
      "34/34 [==============================] - ETA: 0s - loss: 0.2889 - categorical_accuracy: 0.9035\n",
      "Epoch 00021: saving model to model9_init_2023-11-2707_08_34.264448/model9-00021-0.28893-0.90347-0.28893-0.90347.h5\n",
      "34/34 [==============================] - 54s 2s/step - loss: 0.2889 - categorical_accuracy: 0.9035 - val_loss: 0.5563 - val_categorical_accuracy: 0.7500 - lr: 8.0000e-06\n",
      "Epoch 22/25\n",
      "34/34 [==============================] - ETA: 0s - loss: 0.3125 - categorical_accuracy: 0.9035\n",
      "Epoch 00022: saving model to model9_init_2023-11-2707_08_34.264448/model9-00022-0.31250-0.90347-0.31250-0.90347.h5\n",
      "34/34 [==============================] - 52s 2s/step - loss: 0.3125 - categorical_accuracy: 0.9035 - val_loss: 0.5048 - val_categorical_accuracy: 0.7300 - lr: 8.0000e-06\n",
      "Epoch 23/25\n",
      "34/34 [==============================] - ETA: 0s - loss: 0.3127 - categorical_accuracy: 0.8824\n",
      "Epoch 00023: saving model to model9_init_2023-11-2707_08_34.264448/model9-00023-0.31273-0.88235-0.31273-0.88235.h5\n",
      "34/34 [==============================] - 50s 2s/step - loss: 0.3127 - categorical_accuracy: 0.8824 - val_loss: 0.4740 - val_categorical_accuracy: 0.8400 - lr: 8.0000e-06\n",
      "Epoch 24/25\n",
      "34/34 [==============================] - ETA: 0s - loss: 0.2905 - categorical_accuracy: 0.8869\n",
      "Epoch 00024: saving model to model9_init_2023-11-2707_08_34.264448/model9-00024-0.29053-0.88688-0.29053-0.88688.h5\n",
      "34/34 [==============================] - 51s 2s/step - loss: 0.2905 - categorical_accuracy: 0.8869 - val_loss: 0.4117 - val_categorical_accuracy: 0.7900 - lr: 8.0000e-06\n",
      "Epoch 25/25\n",
      "34/34 [==============================] - ETA: 0s - loss: 0.3119 - categorical_accuracy: 0.8989\n",
      "Epoch 00025: saving model to model9_init_2023-11-2707_08_34.264448/model9-00025-0.31190-0.89894-0.31190-0.89894.h5\n",
      "34/34 [==============================] - 50s 2s/step - loss: 0.3119 - categorical_accuracy: 0.8989 - val_loss: 0.5000 - val_categorical_accuracy: 0.7800 - lr: 8.0000e-06\n"
     ]
    }
   ],
   "source": [
    "history = model9_lstm.fit(train_generator, \n",
    "                          steps_per_epoch=steps_per_epoch,\n",
    "                          epochs=num_epochs, \n",
    "                          verbose=1, \n",
    "                          callbacks=callbacks_list, \n",
    "                          validation_data=val_generator, \n",
    "                          validation_steps=validation_steps, \n",
    "                          class_weight=None, \n",
    "                          workers=1, \n",
    "                          initial_epoch=0)"
   ]
  },
  {
   "cell_type": "markdown",
   "metadata": {},
   "source": [
    "**Let us plot the model9**\t"
   ]
  },
  {
   "cell_type": "code",
   "execution_count": 89,
   "metadata": {},
   "outputs": [
    {
     "data": {
      "image/png": "[encoded data removed]",
      "text/plain": [
       "<Figure size 432x288 with 1 Axes>"
      ]
     },
     "metadata": {
      "needs_background": "light"
     },
     "output_type": "display_data"
    },
    {
     "data": {
      "image/png": "[encoded data removed]",
      "text/plain": [
       "<Figure size 432x288 with 1 Axes>"
      ]
     },
     "metadata": {
      "needs_background": "light"
     },
     "output_type": "display_data"
    }
   ],
   "source": [
    "# Plotting model accuracy history\n",
    "plt.plot(history.history['categorical_accuracy'], 'o-')\n",
    "plt.plot(history.history['val_categorical_accuracy'], 'o-')\n",
    "plt.title('Model9 Accuracy')\n",
    "plt.ylabel('Accuracy')\n",
    "plt.xlabel('Epoch')\n",
    "plt.legend(['train', 'test'], loc='upper left')\n",
    "plt.show()\n",
    "\n",
    "# Plotting model loss history\n",
    "plt.plot(history.history['loss'], 'o-')\n",
    "plt.plot(history.history['val_loss'], 'o-')\n",
    "plt.title('Model9 loss')\n",
    "plt.ylabel('loss')\n",
    "plt.xlabel('epoch')\n",
    "plt.legend(['train', 'test'], loc='upper left')\n",
    "plt.show()"
   ]
  },
  {
   "cell_type": "markdown",
   "metadata": {},
   "source": [
    "This model has given us the test accuracy of 89.89% and validation accuracy of 78%, which is not good compared to the previous one."
   ]
  },
  {
   "cell_type": "markdown",
   "metadata": {},
   "source": [
    "## Building new Model10 - LSTM with GRU \n"
   ]
  },
  {
   "cell_type": "code",
   "execution_count": 119,
   "metadata": {},
   "outputs": [],
   "source": [
    "input_shape = (30,120,120,3)"
   ]
  },
  {
   "cell_type": "code",
   "execution_count": 120,
   "metadata": {},
   "outputs": [
    {
     "name": "stdout",
     "output_type": "stream",
     "text": [
      "# training sequences = 663\n",
      "# validation sequences = 100\n",
      "# epochs = 20\n",
      "# batch_size = 5\n"
     ]
    }
   ],
   "source": [
    "curr_dt_time = datetime.datetime.now()\n",
    "train_path = '/home/datasets/Project_data/train'\n",
    "val_path = '/home/datasets/Project_data/val'\n",
    "num_train_sequences = len(train_doc)\n",
    "print('# training sequences =', num_train_sequences)\n",
    "num_val_sequences = len(val_doc)\n",
    "print('# validation sequences =', num_val_sequences)\n",
    "num_epochs = 20\n",
    "print ('# epochs =', num_epochs)\n",
    "batch_size = 5\n",
    "print('# batch_size =',batch_size)"
   ]
  },
  {
   "cell_type": "code",
   "execution_count": 123,
   "metadata": {},
   "outputs": [],
   "source": [
    "# Model Building\n",
    "model10_lstmGRU = Sequential()\n",
    "\n",
    "model10_lstmGRU.add(TimeDistributed(Conv2D(16, (3, 3), padding='same', activation='relu'), input_shape=input_shape))\n",
    "model10_lstmGRU.add(TimeDistributed(BatchNormalization()))\n",
    "model10_lstmGRU.add(TimeDistributed(MaxPooling2D((2, 2))))\n",
    "\n",
    "model10_lstmGRU.add(TimeDistributed(Conv2D(32, (3, 3), padding='same', activation='relu')))\n",
    "model10_lstmGRU.add(TimeDistributed(BatchNormalization()))\n",
    "model10_lstmGRU.add(TimeDistributed(MaxPooling2D((2, 2))))\n",
    "\n",
    "model10_lstmGRU.add(TimeDistributed(Conv2D(64, (3, 3), padding='same', activation='relu')))\n",
    "model10_lstmGRU.add(TimeDistributed(BatchNormalization()))\n",
    "model10_lstmGRU.add(TimeDistributed(MaxPooling2D((2, 2))))\n",
    "\n",
    "model10_lstmGRU.add(TimeDistributed(Conv2D(128, (3, 3), padding='same', activation='relu')))\n",
    "model10_lstmGRU.add(TimeDistributed(BatchNormalization()))\n",
    "model10_lstmGRU.add(TimeDistributed(MaxPooling2D((2, 2))))\n",
    "\n",
    "model10_lstmGRU.add(TimeDistributed(Flatten()))\n",
    "\n",
    "model10_lstmGRU.add(GRU(128))\n",
    "model10_lstmGRU.add(Dropout(0.25))\n",
    "\n",
    "model10_lstmGRU.add(Dense(128, activation='relu'))\n",
    "model10_lstmGRU.add(Dropout(0.25))\n",
    "\n",
    "model10_lstmGRU.add(Dense(5, activation='softmax'))"
   ]
  },
  {
   "cell_type": "code",
   "execution_count": 124,
   "metadata": {},
   "outputs": [
    {
     "name": "stdout",
     "output_type": "stream",
     "text": [
      "Model: \"sequential_17\"\n",
      "_________________________________________________________________\n",
      " Layer (type)                Output Shape              Param #   \n",
      "=================================================================\n",
      " time_distributed_123 (TimeD  (None, 30, 120, 120, 16)  448      \n",
      " istributed)                                                     \n",
      "                                                                 \n",
      " time_distributed_124 (TimeD  (None, 30, 120, 120, 16)  64       \n",
      " istributed)                                                     \n",
      "                                                                 \n",
      " time_distributed_125 (TimeD  (None, 30, 60, 60, 16)   0         \n",
      " istributed)                                                     \n",
      "                                                                 \n",
      " time_distributed_126 (TimeD  (None, 30, 60, 60, 32)   4640      \n",
      " istributed)                                                     \n",
      "                                                                 \n",
      " time_distributed_127 (TimeD  (None, 30, 60, 60, 32)   128       \n",
      " istributed)                                                     \n",
      "                                                                 \n",
      " time_distributed_128 (TimeD  (None, 30, 30, 30, 32)   0         \n",
      " istributed)                                                     \n",
      "                                                                 \n",
      " time_distributed_129 (TimeD  (None, 30, 30, 30, 64)   18496     \n",
      " istributed)                                                     \n",
      "                                                                 \n",
      " time_distributed_130 (TimeD  (None, 30, 30, 30, 64)   256       \n",
      " istributed)                                                     \n",
      "                                                                 \n",
      " time_distributed_131 (TimeD  (None, 30, 15, 15, 64)   0         \n",
      " istributed)                                                     \n",
      "                                                                 \n",
      " time_distributed_132 (TimeD  (None, 30, 15, 15, 128)  73856     \n",
      " istributed)                                                     \n",
      "                                                                 \n",
      " time_distributed_133 (TimeD  (None, 30, 15, 15, 128)  512       \n",
      " istributed)                                                     \n",
      "                                                                 \n",
      " time_distributed_134 (TimeD  (None, 30, 7, 7, 128)    0         \n",
      " istributed)                                                     \n",
      "                                                                 \n",
      " time_distributed_135 (TimeD  (None, 30, 6272)         0         \n",
      " istributed)                                                     \n",
      "                                                                 \n",
      " gru_7 (GRU)                 (None, 128)               2458368   \n",
      "                                                                 \n",
      " dropout_33 (Dropout)        (None, 128)               0         \n",
      "                                                                 \n",
      " dense_39 (Dense)            (None, 128)               16512     \n",
      "                                                                 \n",
      " dropout_34 (Dropout)        (None, 128)               0         \n",
      "                                                                 \n",
      " dense_40 (Dense)            (None, 5)                 645       \n",
      "                                                                 \n",
      "=================================================================\n",
      "Total params: 2,573,925\n",
      "Trainable params: 2,573,445\n",
      "Non-trainable params: 480\n",
      "_________________________________________________________________\n",
      "None\n"
     ]
    }
   ],
   "source": [
    "# Writing optimizer and compiling the model\n",
    "optimiser = optimizers.Adam()\n",
    "model10_lstmGRU.compile(optimizer=optimiser, loss='categorical_crossentropy', metrics=['categorical_accuracy'])\n",
    "print (model10_lstmGRU.summary())"
   ]
  },
  {
   "cell_type": "code",
   "execution_count": 125,
   "metadata": {},
   "outputs": [],
   "source": [
    "train_generator = generator6_lstm(train_path, train_doc, batch_size)\n",
    "val_generator = generator6_lstm(val_path, val_doc, batch_size)"
   ]
  },
  {
   "cell_type": "code",
   "execution_count": 126,
   "metadata": {},
   "outputs": [],
   "source": [
    "model_name = 'model10_init' + '_' + str(curr_dt_time).replace(' ','').replace(':','_') + '/'\n",
    "    \n",
    "if not os.path.exists(model_name):\n",
    "    os.mkdir(model_name)\n",
    "        \n",
    "filepath = model_name + 'model10-{epoch:05d}-{loss:.5f}-{categorical_accuracy:.5f}-{loss:.5f}-{categorical_accuracy:.5f}.h5'\n",
    "\n",
    "checkpoint = ModelCheckpoint(filepath, monitor='loss', verbose=1, save_best_only=False, save_weights_only=False, mode='auto', save_freq='epoch')\n",
    "\n",
    "# write the REducelronplateau code here\n",
    "LR = ReduceLROnPlateau(monitor='val_loss', factor=0.2, patience=4, verbose =1 )\n",
    "\n",
    "callbacks_list = [checkpoint, LR]"
   ]
  },
  {
   "cell_type": "code",
   "execution_count": 127,
   "metadata": {},
   "outputs": [],
   "source": [
    "if (num_train_sequences%batch_size) == 0:\n",
    "    steps_per_epoch = int(num_train_sequences/batch_size)\n",
    "else:\n",
    "    steps_per_epoch = (num_train_sequences//batch_size) + 1\n",
    "\n",
    "if (num_val_sequences%batch_size) == 0:\n",
    "    validation_steps = int(num_val_sequences/batch_size)\n",
    "else:\n",
    "    validation_steps = (num_val_sequences//batch_size) + 1"
   ]
  },
  {
   "cell_type": "code",
   "execution_count": 128,
   "metadata": {},
   "outputs": [
    {
     "name": "stdout",
     "output_type": "stream",
     "text": [
      "Source path =  /home/datasets/Project_data/train ; batch size = 5\n",
      "Epoch 1/20\n",
      "133/133 [==============================] - ETA: 0s - loss: 1.6385 - categorical_accuracy: 0.3198Source path =  /home/datasets/Project_data/val ; batch size = 5\n",
      "\n",
      "Epoch 00001: saving model to model10_init_2023-11-2708_02_58.989884/model10-00001-1.63854-0.31976-1.63854-0.31976.h5\n",
      "133/133 [==============================] - 45s 328ms/step - loss: 1.6385 - categorical_accuracy: 0.3198 - val_loss: 2.4037 - val_categorical_accuracy: 0.2300 - lr: 0.0010\n",
      "Epoch 2/20\n",
      "133/133 [==============================] - ETA: 0s - loss: 1.2945 - categorical_accuracy: 0.4766\n",
      "Epoch 00002: saving model to model10_init_2023-11-2708_02_58.989884/model10-00002-1.29451-0.47662-1.29451-0.47662.h5\n",
      "133/133 [==============================] - 43s 326ms/step - loss: 1.2945 - categorical_accuracy: 0.4766 - val_loss: 2.4029 - val_categorical_accuracy: 0.1500 - lr: 0.0010\n",
      "Epoch 3/20\n",
      "133/133 [==============================] - ETA: 0s - loss: 1.1933 - categorical_accuracy: 0.5053\n",
      "Epoch 00003: saving model to model10_init_2023-11-2708_02_58.989884/model10-00003-1.19335-0.50528-1.19335-0.50528.h5\n",
      "133/133 [==============================] - 43s 328ms/step - loss: 1.1933 - categorical_accuracy: 0.5053 - val_loss: 1.6915 - val_categorical_accuracy: 0.4200 - lr: 0.0010\n",
      "Epoch 4/20\n",
      "133/133 [==============================] - ETA: 0s - loss: 1.1707 - categorical_accuracy: 0.5294\n",
      "Epoch 00004: saving model to model10_init_2023-11-2708_02_58.989884/model10-00004-1.17071-0.52941-1.17071-0.52941.h5\n",
      "133/133 [==============================] - 44s 333ms/step - loss: 1.1707 - categorical_accuracy: 0.5294 - val_loss: 1.1827 - val_categorical_accuracy: 0.4700 - lr: 0.0010\n",
      "Epoch 5/20\n",
      "133/133 [==============================] - ETA: 0s - loss: 1.1590 - categorical_accuracy: 0.5354\n",
      "Epoch 00005: saving model to model10_init_2023-11-2708_02_58.989884/model10-00005-1.15904-0.53544-1.15904-0.53544.h5\n",
      "133/133 [==============================] - 42s 320ms/step - loss: 1.1590 - categorical_accuracy: 0.5354 - val_loss: 0.9273 - val_categorical_accuracy: 0.6700 - lr: 0.0010\n",
      "Epoch 6/20\n",
      "133/133 [==============================] - ETA: 0s - loss: 1.0428 - categorical_accuracy: 0.5973\n",
      "Epoch 00006: saving model to model10_init_2023-11-2708_02_58.989884/model10-00006-1.04281-0.59729-1.04281-0.59729.h5\n",
      "133/133 [==============================] - 43s 327ms/step - loss: 1.0428 - categorical_accuracy: 0.5973 - val_loss: 1.1349 - val_categorical_accuracy: 0.4700 - lr: 0.0010\n",
      "Epoch 7/20\n",
      "133/133 [==============================] - ETA: 0s - loss: 0.9479 - categorical_accuracy: 0.6259\n",
      "Epoch 00007: saving model to model10_init_2023-11-2708_02_58.989884/model10-00007-0.94789-0.62594-0.94789-0.62594.h5\n",
      "133/133 [==============================] - 43s 325ms/step - loss: 0.9479 - categorical_accuracy: 0.6259 - val_loss: 0.8336 - val_categorical_accuracy: 0.7500 - lr: 0.0010\n",
      "Epoch 8/20\n",
      "133/133 [==============================] - ETA: 0s - loss: 0.9435 - categorical_accuracy: 0.6199\n",
      "Epoch 00008: saving model to model10_init_2023-11-2708_02_58.989884/model10-00008-0.94346-0.61991-0.94346-0.61991.h5\n",
      "133/133 [==============================] - 43s 326ms/step - loss: 0.9435 - categorical_accuracy: 0.6199 - val_loss: 0.9339 - val_categorical_accuracy: 0.6500 - lr: 0.0010\n",
      "Epoch 9/20\n",
      "133/133 [==============================] - ETA: 0s - loss: 0.8642 - categorical_accuracy: 0.6787\n",
      "Epoch 00009: saving model to model10_init_2023-11-2708_02_58.989884/model10-00009-0.86418-0.67873-0.86418-0.67873.h5\n",
      "133/133 [==============================] - 44s 330ms/step - loss: 0.8642 - categorical_accuracy: 0.6787 - val_loss: 1.0617 - val_categorical_accuracy: 0.6300 - lr: 0.0010\n",
      "Epoch 10/20\n",
      "133/133 [==============================] - ETA: 0s - loss: 0.8458 - categorical_accuracy: 0.6848\n",
      "Epoch 00010: saving model to model10_init_2023-11-2708_02_58.989884/model10-00010-0.84578-0.68477-0.84578-0.68477.h5\n",
      "133/133 [==============================] - 42s 319ms/step - loss: 0.8458 - categorical_accuracy: 0.6848 - val_loss: 0.8859 - val_categorical_accuracy: 0.6800 - lr: 0.0010\n",
      "Epoch 11/20\n",
      "133/133 [==============================] - ETA: 0s - loss: 0.7966 - categorical_accuracy: 0.6968\n",
      "Epoch 00011: saving model to model10_init_2023-11-2708_02_58.989884/model10-00011-0.79657-0.69683-0.79657-0.69683.h5\n",
      "\n",
      "Epoch 00011: ReduceLROnPlateau reducing learning rate to 0.00020000000949949026.\n",
      "133/133 [==============================] - 42s 319ms/step - loss: 0.7966 - categorical_accuracy: 0.6968 - val_loss: 0.8754 - val_categorical_accuracy: 0.6900 - lr: 0.0010\n",
      "Epoch 12/20\n",
      "133/133 [==============================] - ETA: 0s - loss: 0.7564 - categorical_accuracy: 0.7029\n",
      "Epoch 00012: saving model to model10_init_2023-11-2708_02_58.989884/model10-00012-0.75636-0.70287-0.75636-0.70287.h5\n",
      "133/133 [==============================] - 44s 332ms/step - loss: 0.7564 - categorical_accuracy: 0.7029 - val_loss: 0.7314 - val_categorical_accuracy: 0.7500 - lr: 2.0000e-04\n",
      "Epoch 13/20\n",
      "133/133 [==============================] - ETA: 0s - loss: 0.6634 - categorical_accuracy: 0.7511\n",
      "Epoch 00013: saving model to model10_init_2023-11-2708_02_58.989884/model10-00013-0.66340-0.75113-0.66340-0.75113.h5\n",
      "133/133 [==============================] - 42s 321ms/step - loss: 0.6634 - categorical_accuracy: 0.7511 - val_loss: 0.7394 - val_categorical_accuracy: 0.7100 - lr: 2.0000e-04\n",
      "Epoch 14/20\n",
      "133/133 [==============================] - ETA: 0s - loss: 0.6123 - categorical_accuracy: 0.7662\n",
      "Epoch 00014: saving model to model10_init_2023-11-2708_02_58.989884/model10-00014-0.61229-0.76621-0.61229-0.76621.h5\n",
      "133/133 [==============================] - 42s 318ms/step - loss: 0.6123 - categorical_accuracy: 0.7662 - val_loss: 0.6781 - val_categorical_accuracy: 0.8000 - lr: 2.0000e-04\n",
      "Epoch 15/20\n",
      "133/133 [==============================] - ETA: 0s - loss: 0.5255 - categorical_accuracy: 0.8175\n",
      "Epoch 00015: saving model to model10_init_2023-11-2708_02_58.989884/model10-00015-0.52553-0.81750-0.52553-0.81750.h5\n",
      "133/133 [==============================] - 43s 329ms/step - loss: 0.5255 - categorical_accuracy: 0.8175 - val_loss: 0.6898 - val_categorical_accuracy: 0.7500 - lr: 2.0000e-04\n",
      "Epoch 16/20\n",
      "133/133 [==============================] - ETA: 0s - loss: 0.5023 - categorical_accuracy: 0.8054\n",
      "Epoch 00016: saving model to model10_init_2023-11-2708_02_58.989884/model10-00016-0.50234-0.80543-0.50234-0.80543.h5\n",
      "133/133 [==============================] - 44s 335ms/step - loss: 0.5023 - categorical_accuracy: 0.8054 - val_loss: 0.7527 - val_categorical_accuracy: 0.7000 - lr: 2.0000e-04\n",
      "Epoch 17/20\n",
      "133/133 [==============================] - ETA: 0s - loss: 0.4263 - categorical_accuracy: 0.8567\n",
      "Epoch 00017: saving model to model10_init_2023-11-2708_02_58.989884/model10-00017-0.42627-0.85671-0.42627-0.85671.h5\n",
      "133/133 [==============================] - 44s 330ms/step - loss: 0.4263 - categorical_accuracy: 0.8567 - val_loss: 0.6286 - val_categorical_accuracy: 0.7800 - lr: 2.0000e-04\n",
      "Epoch 18/20\n",
      "133/133 [==============================] - ETA: 0s - loss: 0.4219 - categorical_accuracy: 0.8507\n",
      "Epoch 00018: saving model to model10_init_2023-11-2708_02_58.989884/model10-00018-0.42186-0.85068-0.42186-0.85068.h5\n",
      "133/133 [==============================] - 44s 335ms/step - loss: 0.4219 - categorical_accuracy: 0.8507 - val_loss: 0.6536 - val_categorical_accuracy: 0.8100 - lr: 2.0000e-04\n",
      "Epoch 19/20\n",
      "133/133 [==============================] - ETA: 0s - loss: 0.4146 - categorical_accuracy: 0.8416\n",
      "Epoch 00019: saving model to model10_init_2023-11-2708_02_58.989884/model10-00019-0.41461-0.84163-0.41461-0.84163.h5\n",
      "133/133 [==============================] - 44s 331ms/step - loss: 0.4146 - categorical_accuracy: 0.8416 - val_loss: 0.4934 - val_categorical_accuracy: 0.8500 - lr: 2.0000e-04\n",
      "Epoch 20/20\n",
      "133/133 [==============================] - ETA: 0s - loss: 0.3634 - categorical_accuracy: 0.8688\n",
      "Epoch 00020: saving model to model10_init_2023-11-2708_02_58.989884/model10-00020-0.36335-0.86878-0.36335-0.86878.h5\n",
      "133/133 [==============================] - 44s 336ms/step - loss: 0.3634 - categorical_accuracy: 0.8688 - val_loss: 0.6919 - val_categorical_accuracy: 0.7700 - lr: 2.0000e-04\n"
     ]
    }
   ],
   "source": [
    "history = model10_lstmGRU.fit(train_generator, \n",
    "                          steps_per_epoch=steps_per_epoch,\n",
    "                          epochs=num_epochs, \n",
    "                          verbose=1, \n",
    "                          callbacks=callbacks_list, \n",
    "                          validation_data=val_generator, \n",
    "                          validation_steps=validation_steps, \n",
    "                          class_weight=None, \n",
    "                          workers=1, \n",
    "                          initial_epoch=0)"
   ]
  },
  {
   "cell_type": "markdown",
   "metadata": {},
   "source": [
    "**Let us plot the model10**\t"
   ]
  },
  {
   "cell_type": "code",
   "execution_count": 129,
   "metadata": {},
   "outputs": [
    {
     "data": {
      "image/png": "[encoded data removed]",
      "text/plain": [
       "<Figure size 432x288 with 1 Axes>"
      ]
     },
     "metadata": {
      "needs_background": "light"
     },
     "output_type": "display_data"
    },
    {
     "data": {
      "image/png": "[encoded data removed]",
      "text/plain": [
       "<Figure size 432x288 with 1 Axes>"
      ]
     },
     "metadata": {
      "needs_background": "light"
     },
     "output_type": "display_data"
    }
   ],
   "source": [
    "# Plotting model accuracy history\n",
    "plt.plot(history.history['categorical_accuracy'], 'o-')\n",
    "plt.plot(history.history['val_categorical_accuracy'], 'o-')\n",
    "plt.title('Model10 Accuracy')\n",
    "plt.ylabel('Accuracy')\n",
    "plt.xlabel('Epoch')\n",
    "plt.legend(['train', 'test'], loc='upper left')\n",
    "plt.show()\n",
    "\n",
    "# Plotting model loss history\n",
    "plt.plot(history.history['loss'], 'o-')\n",
    "plt.plot(history.history['val_loss'], 'o-')\n",
    "plt.title('Model10 loss')\n",
    "plt.ylabel('loss')\n",
    "plt.xlabel('epoch')\n",
    "plt.legend(['train', 'test'], loc='upper left')\n",
    "plt.show()"
   ]
  },
  {
   "cell_type": "markdown",
   "metadata": {},
   "source": [
    "This model has given us the test accuracy of 86.88% and validation accuracy of 77%, which is not good compared to the previous one."
   ]
  },
  {
   "cell_type": "markdown",
   "metadata": {},
   "source": [
    "## Creating new Model11 - Transfer Learning"
   ]
  },
  {
   "cell_type": "code",
   "execution_count": 130,
   "metadata": {},
   "outputs": [
    {
     "name": "stdout",
     "output_type": "stream",
     "text": [
      "WARNING:tensorflow:`input_shape` is undefined or non-square, or `rows` is not in [128, 160, 192, 224]. Weights for input shape (224, 224) will be loaded as the default.\n",
      "Downloading data from https://storage.googleapis.com/tensorflow/keras-applications/mobilenet/mobilenet_1_0_224_tf_no_top.h5\n",
      "17227776/17225924 [==============================] - 2s 0us/step\n",
      "17235968/17225924 [==============================] - 2s 0us/step\n"
     ]
    }
   ],
   "source": [
    "# Importing Model\n",
    "from keras.applications import mobilenet\n",
    "\n",
    "mobilenet_transfer = mobilenet.MobileNet(weights='imagenet', include_top=False)"
   ]
  },
  {
   "cell_type": "markdown",
   "metadata": {},
   "source": [
    "## Generator-11"
   ]
  },
  {
   "cell_type": "code",
   "execution_count": 131,
   "metadata": {},
   "outputs": [],
   "source": [
    "# Updating Generator funciton for transfer learning\n",
    "def generator11_tl(source_path, folder_list, batch_size):\n",
    "    print( 'Source path = ', source_path, '; batch size =', batch_size)\n",
    "    \n",
    "    # img_idx = #create a list of image numbers you want to use for a particular video\n",
    "    img_idx = [1, 2, 4, 6, 7, 8, 10, 12, 14, 16, 18, 20, 21, 22, 24, 26, 27, 29]\n",
    "    \n",
    "    while True:\n",
    "        t = np.random.permutation(folder_list)\n",
    "        \n",
    "        # num_batches = # calculate the number of batches\n",
    "        num_batches = int(len(t)/batch_size)\n",
    "        \n",
    "        for batch in range(num_batches): # we iterate over the number of batches\n",
    "            # batch_data = np.zeros((batch_size,x,y,z,3)) # x is the number of images you use for each video, (y,z) is the final size of the input images and 3 is the number of channels RGB\n",
    "            batch_data = np.zeros((batch_size,18,120,120,3)) \n",
    "            batch_labels = np.zeros((batch_size,5)) # batch_labels is the one hot representation of the output\n",
    "            \n",
    "            for folder in range(batch_size): # iterate over the batch_size\n",
    "                imgs = os.listdir(source_path+'/'+ t[folder + (batch*batch_size)].split(';')[0]) # read all the images in the folder\n",
    "                \n",
    "                for idx,item in enumerate(img_idx): #  Iterate iver the frames/images of a folder to read them in\n",
    "                    #image = imread(source_path+'/'+ t[folder + (batch*batch_size)].strip().split(';')[0]+'/'+imgs[item]).astype(np.float32)\n",
    "                    image = cv2.imread(source_path+'/'+t[folder+(batch*batch_size)].strip().split(';')[0]+'/'+imgs[item],cv2.IMREAD_UNCHANGED).astype(np.float32)\n",
    "                    \n",
    "                    #crop the images and resize them. Note that the images are of 2 different shape \n",
    "                    #and the conv3D will throw error if the inputs in a batch have different shapes\n",
    "                    # Cropping Image\n",
    "                    # image = crop_img(image, 0.02)\n",
    "                    # Resizing the image\n",
    "                    if image.shape[1] == 160:\n",
    "                        image = cv2.resize(image[:,20:140,:],(120,120),interpolation = cv2.INTER_AREA).astype(np.float32)\n",
    "                    else:\n",
    "                        image = cv2.resize(image,(120,120), interpolation = cv2.INTER_AREA).astype(np.float32)\n",
    "                    \n",
    "                    # Normalizing and feeding the image\n",
    "                    # batch_data[folder,idx,:,:,0] = #normalise and feed in the image\n",
    "                    # batch_data[folder,idx,:,:,1] = #normalise and feed in the image\n",
    "                    # batch_data[folder,idx,:,:,2] = #normalise and feed in the image\n",
    "                    batch_data[folder,idx,:,:,0] = (image[:,:,0])/255\n",
    "                    batch_data[folder,idx,:,:,1] = (image[:,:,1])/255\n",
    "                    batch_data[folder,idx,:,:,2] = (image[:,:,2])/255\n",
    "                    \n",
    "                batch_labels[folder, int(t[folder + (batch*batch_size)].strip().split(';')[2])] = 1\n",
    "            yield batch_data, batch_labels #you yield the batch_data and the batch_labels, remember what does yield do\n",
    "\n",
    "        \n",
    "        # write the code for the remaining data points which are left after full batches\n",
    "        if (len(t)%batch_size) != 0:\n",
    "            batch_data   = np.zeros((len(t)%batch_size,18,120,120,3))\n",
    "            batch_labels = np.zeros((len(t)%batch_size, 5))\n",
    "            \n",
    "            for folder in range(len(t)%batch_size):\n",
    "                imgs = os.listdir(source_path+'/'+t[folder+(num_batches*batch_size)].split(';')[0])\n",
    "                for idx, item in enumerate(img_idx):\n",
    "                    image = cv2.imread(source_path+'/'+t[folder+(num_batches*batch_size)].strip().split(';')[0]+'/'+imgs[item],cv2.IMREAD_UNCHANGED).astype(np.float32)\n",
    "                    \n",
    "                    # Cropping image\n",
    "                    # image = crop_img(image, 0.02)\n",
    "                    \n",
    "                    # Resizing image\n",
    "                    if image.shape[1] == 160:\n",
    "                        image = cv2.resize(image[:,20:140,:],(120,120),interpolation = cv2.INTER_AREA).astype(np.float32)\n",
    "                    else:\n",
    "                        image = cv2.resize(image,(120,120),interpolation = cv2.INTER_AREA).astype(np.float32)\n",
    "                        \n",
    "                    # Normalizing and feeding the image\n",
    "                    batch_data[folder,idx,:,:,0] = (image[:,:,0])/255\n",
    "                    batch_data[folder,idx,:,:,1] = (image[:,:,1])/255\n",
    "                    batch_data[folder,idx,:,:,2] = (image[:,:,2])/255\n",
    "                    \n",
    "                batch_labels[folder, int(t[folder+(num_batches*batch_size)].strip().split(';')[2])] = 1\n",
    "            yield batch_data, batch_labels"
   ]
  },
  {
   "cell_type": "code",
   "execution_count": 132,
   "metadata": {},
   "outputs": [
    {
     "name": "stdout",
     "output_type": "stream",
     "text": [
      "# training sequences = 663\n",
      "# validation sequences = 100\n",
      "# epochs = 20\n",
      "# batch_size = 5\n"
     ]
    }
   ],
   "source": [
    "curr_dt_time = datetime.datetime.now()\n",
    "train_path = '/home/datasets/Project_data/train'\n",
    "val_path = '/home/datasets/Project_data/val'\n",
    "num_train_sequences = len(train_doc)\n",
    "print('# training sequences =', num_train_sequences)\n",
    "num_val_sequences = len(val_doc)\n",
    "print('# validation sequences =', num_val_sequences)\n",
    "num_epochs = 20\n",
    "print ('# epochs =', num_epochs)\n",
    "batch_size = 5\n",
    "print('# batch_size =',batch_size)"
   ]
  },
  {
   "cell_type": "code",
   "execution_count": 133,
   "metadata": {},
   "outputs": [],
   "source": [
    "input_shape = (18,120,120,3)"
   ]
  },
  {
   "cell_type": "code",
   "execution_count": 136,
   "metadata": {},
   "outputs": [],
   "source": [
    "# Model Building\n",
    "model11_tl = Sequential()\n",
    "\n",
    "model11_tl.add(TimeDistributed(mobilenet_transfer, input_shape=input_shape))\n",
    "\n",
    "for layer in model11_tl.layers:\n",
    "    layer.trainable = False\n",
    "\n",
    "model11_tl.add(TimeDistributed(BatchNormalization()))\n",
    "model11_tl.add(TimeDistributed(MaxPooling2D((2, 2))))\n",
    "\n",
    "model11_tl.add(TimeDistributed(Flatten()))\n",
    "\n",
    "model11_tl.add(LSTM(128))\n",
    "model11_tl.add(Dropout(0.25))\n",
    "\n",
    "model11_tl.add(Dense(128,activation='relu'))\n",
    "model11_tl.add(Dropout(0.25))\n",
    "\n",
    "model11_tl.add(Dense(5, activation='softmax'))"
   ]
  },
  {
   "cell_type": "code",
   "execution_count": 137,
   "metadata": {},
   "outputs": [
    {
     "name": "stdout",
     "output_type": "stream",
     "text": [
      "Model: \"sequential_19\"\n",
      "_________________________________________________________________\n",
      " Layer (type)                Output Shape              Param #   \n",
      "=================================================================\n",
      " time_distributed_137 (TimeD  (None, 18, 3, 3, 1024)   3228864   \n",
      " istributed)                                                     \n",
      "                                                                 \n",
      " time_distributed_138 (TimeD  (None, 18, 3, 3, 1024)   4096      \n",
      " istributed)                                                     \n",
      "                                                                 \n",
      " time_distributed_139 (TimeD  (None, 18, 1, 1, 1024)   0         \n",
      " istributed)                                                     \n",
      "                                                                 \n",
      " time_distributed_140 (TimeD  (None, 18, 1024)         0         \n",
      " istributed)                                                     \n",
      "                                                                 \n",
      " lstm_2 (LSTM)               (None, 128)               590336    \n",
      "                                                                 \n",
      " dropout_35 (Dropout)        (None, 128)               0         \n",
      "                                                                 \n",
      " dense_41 (Dense)            (None, 128)               16512     \n",
      "                                                                 \n",
      " dropout_36 (Dropout)        (None, 128)               0         \n",
      "                                                                 \n",
      " dense_42 (Dense)            (None, 5)                 645       \n",
      "                                                                 \n",
      "=================================================================\n",
      "Total params: 3,840,453\n",
      "Trainable params: 609,541\n",
      "Non-trainable params: 3,230,912\n",
      "_________________________________________________________________\n",
      "None\n"
     ]
    }
   ],
   "source": [
    "# Writing optimizer and compiling the model\n",
    "optimiser = optimizers.Adam()\n",
    "model11_tl.compile(optimizer=optimiser, loss='categorical_crossentropy', metrics=['categorical_accuracy'])\n",
    "print (model11_tl.summary())"
   ]
  },
  {
   "cell_type": "code",
   "execution_count": 138,
   "metadata": {},
   "outputs": [],
   "source": [
    "train_generator = generator11_tl(train_path, train_doc, batch_size)\n",
    "val_generator = generator11_tl(val_path, val_doc, batch_size)"
   ]
  },
  {
   "cell_type": "code",
   "execution_count": 139,
   "metadata": {},
   "outputs": [],
   "source": [
    "model_name = 'model11_init' + '_' + str(curr_dt_time).replace(' ','').replace(':','_') + '/'\n",
    "    \n",
    "if not os.path.exists(model_name):\n",
    "    os.mkdir(model_name)\n",
    "        \n",
    "filepath = model_name + 'model11-{epoch:05d}-{loss:.5f}-{categorical_accuracy:.5f}-{loss:.5f}-{categorical_accuracy:.5f}.h5'\n",
    "\n",
    "checkpoint = ModelCheckpoint(filepath, monitor='loss', verbose=1, save_best_only=False, save_weights_only=False, mode='auto', save_freq='epoch')\n",
    "\n",
    "# write the REducelronplateau code here\n",
    "LR = ReduceLROnPlateau(monitor='val_loss', factor=0.2, patience=4, verbose =1 )\n",
    "\n",
    "callbacks_list = [checkpoint, LR]"
   ]
  },
  {
   "cell_type": "code",
   "execution_count": 140,
   "metadata": {},
   "outputs": [],
   "source": [
    "if (num_train_sequences%batch_size) == 0:\n",
    "    steps_per_epoch = int(num_train_sequences/batch_size)\n",
    "else:\n",
    "    steps_per_epoch = (num_train_sequences//batch_size) + 1\n",
    "\n",
    "if (num_val_sequences%batch_size) == 0:\n",
    "    validation_steps = int(num_val_sequences/batch_size)\n",
    "else:\n",
    "    validation_steps = (num_val_sequences//batch_size) + 1"
   ]
  },
  {
   "cell_type": "code",
   "execution_count": 141,
   "metadata": {},
   "outputs": [
    {
     "name": "stdout",
     "output_type": "stream",
     "text": [
      "Source path =  /home/datasets/Project_data/train ; batch size = 5\n",
      "Epoch 1/20\n",
      "133/133 [==============================] - ETA: 0s - loss: 1.3428 - categorical_accuracy: 0.4314Source path =  /home/datasets/Project_data/val ; batch size = 5\n",
      "\n",
      "Epoch 00001: saving model to model11_init_2023-11-2708_31_20.983420/model11-00001-1.34281-0.43137-1.34281-0.43137.h5\n",
      "133/133 [==============================] - 33s 221ms/step - loss: 1.3428 - categorical_accuracy: 0.4314 - val_loss: 1.0817 - val_categorical_accuracy: 0.5100 - lr: 0.0010\n",
      "Epoch 2/20\n",
      "133/133 [==============================] - ETA: 0s - loss: 0.7845 - categorical_accuracy: 0.7044\n",
      "Epoch 00002: saving model to model11_init_2023-11-2708_31_20.983420/model11-00002-0.78454-0.70437-0.78454-0.70437.h5\n",
      "133/133 [==============================] - 27s 207ms/step - loss: 0.7845 - categorical_accuracy: 0.7044 - val_loss: 0.7632 - val_categorical_accuracy: 0.6900 - lr: 0.0010\n",
      "Epoch 3/20\n",
      "133/133 [==============================] - ETA: 0s - loss: 0.4454 - categorical_accuracy: 0.8462\n",
      "Epoch 00003: saving model to model11_init_2023-11-2708_31_20.983420/model11-00003-0.44542-0.84615-0.44542-0.84615.h5\n",
      "133/133 [==============================] - 28s 212ms/step - loss: 0.4454 - categorical_accuracy: 0.8462 - val_loss: 0.6570 - val_categorical_accuracy: 0.7600 - lr: 0.0010\n",
      "Epoch 4/20\n",
      "133/133 [==============================] - ETA: 0s - loss: 0.2950 - categorical_accuracy: 0.8929\n",
      "Epoch 00004: saving model to model11_init_2023-11-2708_31_20.983420/model11-00004-0.29498-0.89291-0.29498-0.89291.h5\n",
      "133/133 [==============================] - 27s 208ms/step - loss: 0.2950 - categorical_accuracy: 0.8929 - val_loss: 0.8032 - val_categorical_accuracy: 0.7300 - lr: 0.0010\n",
      "Epoch 5/20\n",
      "133/133 [==============================] - ETA: 0s - loss: 0.1816 - categorical_accuracy: 0.9517\n",
      "Epoch 00005: saving model to model11_init_2023-11-2708_31_20.983420/model11-00005-0.18165-0.95173-0.18165-0.95173.h5\n",
      "133/133 [==============================] - 28s 209ms/step - loss: 0.1816 - categorical_accuracy: 0.9517 - val_loss: 0.6937 - val_categorical_accuracy: 0.7500 - lr: 0.0010\n",
      "Epoch 6/20\n",
      "133/133 [==============================] - ETA: 0s - loss: 0.0819 - categorical_accuracy: 0.9849\n",
      "Epoch 00006: saving model to model11_init_2023-11-2708_31_20.983420/model11-00006-0.08186-0.98492-0.08186-0.98492.h5\n",
      "133/133 [==============================] - 27s 206ms/step - loss: 0.0819 - categorical_accuracy: 0.9849 - val_loss: 0.7039 - val_categorical_accuracy: 0.8200 - lr: 0.0010\n",
      "Epoch 7/20\n",
      "133/133 [==============================] - ETA: 0s - loss: 0.0725 - categorical_accuracy: 0.9834\n",
      "Epoch 00007: saving model to model11_init_2023-11-2708_31_20.983420/model11-00007-0.07246-0.98341-0.07246-0.98341.h5\n",
      "\n",
      "Epoch 00007: ReduceLROnPlateau reducing learning rate to 0.00020000000949949026.\n",
      "133/133 [==============================] - 28s 208ms/step - loss: 0.0725 - categorical_accuracy: 0.9834 - val_loss: 0.7418 - val_categorical_accuracy: 0.7600 - lr: 0.0010\n",
      "Epoch 8/20\n",
      "132/133 [============================>.] - ETA: 0s - loss: 0.0309 - categorical_accuracy: 0.9955\n",
      "Epoch 00008: saving model to model11_init_2023-11-2708_31_20.983420/model11-00008-0.03072-0.99548-0.03072-0.99548.h5\n",
      "133/133 [==============================] - 28s 208ms/step - loss: 0.0307 - categorical_accuracy: 0.9955 - val_loss: 0.6336 - val_categorical_accuracy: 0.8000 - lr: 2.0000e-04\n",
      "Epoch 9/20\n",
      "133/133 [==============================] - ETA: 0s - loss: 0.0397 - categorical_accuracy: 0.9879\n",
      "Epoch 00009: saving model to model11_init_2023-11-2708_31_20.983420/model11-00009-0.03968-0.98793-0.03968-0.98793.h5\n",
      "133/133 [==============================] - 27s 207ms/step - loss: 0.0397 - categorical_accuracy: 0.9879 - val_loss: 0.8661 - val_categorical_accuracy: 0.7700 - lr: 2.0000e-04\n",
      "Epoch 10/20\n",
      "133/133 [==============================] - ETA: 0s - loss: 0.0239 - categorical_accuracy: 0.9925\n",
      "Epoch 00010: saving model to model11_init_2023-11-2708_31_20.983420/model11-00010-0.02395-0.99246-0.02395-0.99246.h5\n",
      "133/133 [==============================] - 27s 206ms/step - loss: 0.0239 - categorical_accuracy: 0.9925 - val_loss: 0.4100 - val_categorical_accuracy: 0.8600 - lr: 2.0000e-04\n",
      "Epoch 11/20\n",
      "133/133 [==============================] - ETA: 0s - loss: 0.0163 - categorical_accuracy: 0.9985\n",
      "Epoch 00011: saving model to model11_init_2023-11-2708_31_20.983420/model11-00011-0.01632-0.99849-0.01632-0.99849.h5\n",
      "133/133 [==============================] - 28s 212ms/step - loss: 0.0163 - categorical_accuracy: 0.9985 - val_loss: 0.9326 - val_categorical_accuracy: 0.7700 - lr: 2.0000e-04\n",
      "Epoch 12/20\n",
      "133/133 [==============================] - ETA: 0s - loss: 0.0217 - categorical_accuracy: 0.9955\n",
      "Epoch 00012: saving model to model11_init_2023-11-2708_31_20.983420/model11-00012-0.02168-0.99548-0.02168-0.99548.h5\n",
      "133/133 [==============================] - 27s 202ms/step - loss: 0.0217 - categorical_accuracy: 0.9955 - val_loss: 0.7199 - val_categorical_accuracy: 0.7500 - lr: 2.0000e-04\n",
      "Epoch 13/20\n",
      "133/133 [==============================] - ETA: 0s - loss: 0.0137 - categorical_accuracy: 1.0000\n",
      "Epoch 00013: saving model to model11_init_2023-11-2708_31_20.983420/model11-00013-0.01366-1.00000-0.01366-1.00000.h5\n",
      "133/133 [==============================] - 27s 206ms/step - loss: 0.0137 - categorical_accuracy: 1.0000 - val_loss: 0.8632 - val_categorical_accuracy: 0.8000 - lr: 2.0000e-04\n",
      "Epoch 14/20\n",
      "133/133 [==============================] - ETA: 0s - loss: 0.0092 - categorical_accuracy: 1.0000\n",
      "Epoch 00014: saving model to model11_init_2023-11-2708_31_20.983420/model11-00014-0.00915-1.00000-0.00915-1.00000.h5\n",
      "\n",
      "Epoch 00014: ReduceLROnPlateau reducing learning rate to 4.0000001899898055e-05.\n",
      "133/133 [==============================] - 26s 198ms/step - loss: 0.0092 - categorical_accuracy: 1.0000 - val_loss: 0.6921 - val_categorical_accuracy: 0.7900 - lr: 2.0000e-04\n",
      "Epoch 15/20\n",
      "133/133 [==============================] - ETA: 0s - loss: 0.0116 - categorical_accuracy: 0.9985\n",
      "Epoch 00015: saving model to model11_init_2023-11-2708_31_20.983420/model11-00015-0.01158-0.99849-0.01158-0.99849.h5\n",
      "133/133 [==============================] - 28s 210ms/step - loss: 0.0116 - categorical_accuracy: 0.9985 - val_loss: 0.6146 - val_categorical_accuracy: 0.8000 - lr: 4.0000e-05\n",
      "Epoch 16/20\n",
      "133/133 [==============================] - ETA: 0s - loss: 0.0131 - categorical_accuracy: 0.9970\n",
      "Epoch 00016: saving model to model11_init_2023-11-2708_31_20.983420/model11-00016-0.01311-0.99698-0.01311-0.99698.h5\n",
      "133/133 [==============================] - 28s 213ms/step - loss: 0.0131 - categorical_accuracy: 0.9970 - val_loss: 0.8467 - val_categorical_accuracy: 0.7500 - lr: 4.0000e-05\n",
      "Epoch 17/20\n",
      "133/133 [==============================] - ETA: 0s - loss: 0.0122 - categorical_accuracy: 0.9985\n",
      "Epoch 00017: saving model to model11_init_2023-11-2708_31_20.983420/model11-00017-0.01222-0.99849-0.01222-0.99849.h5\n",
      "133/133 [==============================] - 28s 209ms/step - loss: 0.0122 - categorical_accuracy: 0.9985 - val_loss: 0.6672 - val_categorical_accuracy: 0.8400 - lr: 4.0000e-05\n",
      "Epoch 18/20\n",
      "133/133 [==============================] - ETA: 0s - loss: 0.0144 - categorical_accuracy: 0.9970\n",
      "Epoch 00018: saving model to model11_init_2023-11-2708_31_20.983420/model11-00018-0.01444-0.99698-0.01444-0.99698.h5\n",
      "\n",
      "Epoch 00018: ReduceLROnPlateau reducing learning rate to 8.000000525498762e-06.\n",
      "133/133 [==============================] - 27s 201ms/step - loss: 0.0144 - categorical_accuracy: 0.9970 - val_loss: 0.8811 - val_categorical_accuracy: 0.7500 - lr: 4.0000e-05\n",
      "Epoch 19/20\n",
      "133/133 [==============================] - ETA: 0s - loss: 0.0082 - categorical_accuracy: 0.9985\n",
      "Epoch 00019: saving model to model11_init_2023-11-2708_31_20.983420/model11-00019-0.00818-0.99849-0.00818-0.99849.h5\n",
      "133/133 [==============================] - 26s 194ms/step - loss: 0.0082 - categorical_accuracy: 0.9985 - val_loss: 0.7271 - val_categorical_accuracy: 0.8000 - lr: 8.0000e-06\n",
      "Epoch 20/20\n",
      "133/133 [==============================] - ETA: 0s - loss: 0.0081 - categorical_accuracy: 0.9985\n",
      "Epoch 00020: saving model to model11_init_2023-11-2708_31_20.983420/model11-00020-0.00807-0.99849-0.00807-0.99849.h5\n",
      "133/133 [==============================] - 25s 192ms/step - loss: 0.0081 - categorical_accuracy: 0.9985 - val_loss: 0.8173 - val_categorical_accuracy: 0.7900 - lr: 8.0000e-06\n"
     ]
    }
   ],
   "source": [
    "history = model11_tl.fit(train_generator, \n",
    "                          steps_per_epoch=steps_per_epoch,\n",
    "                          epochs=num_epochs, \n",
    "                          verbose=1, \n",
    "                          callbacks=callbacks_list, \n",
    "                          validation_data=val_generator, \n",
    "                          validation_steps=validation_steps, \n",
    "                          class_weight=None, \n",
    "                          workers=1, \n",
    "                          initial_epoch=0)"
   ]
  },
  {
   "cell_type": "markdown",
   "metadata": {},
   "source": [
    "**Let us plot the model11**\t"
   ]
  },
  {
   "cell_type": "code",
   "execution_count": 142,
   "metadata": {},
   "outputs": [
    {
     "data": {
      "image/png": "[encoded data removed]",
      "text/plain": [
       "<Figure size 432x288 with 1 Axes>"
      ]
     },
     "metadata": {
      "needs_background": "light"
     },
     "output_type": "display_data"
    },
    {
     "data": {
      "image/png": "[encoded data removed]",
      "text/plain": [
       "<Figure size 432x288 with 1 Axes>"
      ]
     },
     "metadata": {
      "needs_background": "light"
     },
     "output_type": "display_data"
    }
   ],
   "source": [
    "# Plotting model accuracy history\n",
    "plt.plot(history.history['categorical_accuracy'], 'o-')\n",
    "plt.plot(history.history['val_categorical_accuracy'], 'o-')\n",
    "plt.title('Model11 Accuracy')\n",
    "plt.ylabel('Accuracy')\n",
    "plt.xlabel('Epoch')\n",
    "plt.legend(['train', 'test'], loc='upper left')\n",
    "plt.show()\n",
    "\n",
    "# Plotting model loss history\n",
    "plt.plot(history.history['loss'], 'o-')\n",
    "plt.plot(history.history['val_loss'], 'o-')\n",
    "plt.title('Model11 loss')\n",
    "plt.ylabel('loss')\n",
    "plt.xlabel('epoch')\n",
    "plt.legend(['train', 'test'], loc='upper left')\n",
    "plt.show()"
   ]
  },
  {
   "cell_type": "markdown",
   "metadata": {},
   "source": [
    "This model has given us the test accuracy of 99.85% and validation accuracy of 79%, which shows growth in the training accuracy as well as validation accuracy."
   ]
  },
  {
   "cell_type": "markdown",
   "metadata": {},
   "source": [
    "## Creating new Model12 - Transfer Learning with GRU"
   ]
  },
  {
   "cell_type": "code",
   "execution_count": 143,
   "metadata": {},
   "outputs": [
    {
     "name": "stdout",
     "output_type": "stream",
     "text": [
      "WARNING:tensorflow:`input_shape` is undefined or non-square, or `rows` is not in [128, 160, 192, 224]. Weights for input shape (224, 224) will be loaded as the default.\n"
     ]
    }
   ],
   "source": [
    "mobilenet_transfer = mobilenet.MobileNet(weights='imagenet', include_top=False)"
   ]
  },
  {
   "cell_type": "code",
   "execution_count": 144,
   "metadata": {},
   "outputs": [
    {
     "name": "stdout",
     "output_type": "stream",
     "text": [
      "# training sequences = 663\n",
      "# validation sequences = 100\n",
      "# epochs = 20\n",
      "# batch_size = 5\n"
     ]
    }
   ],
   "source": [
    "curr_dt_time = datetime.datetime.now()\n",
    "train_path = '/home/datasets/Project_data/train'\n",
    "val_path = '/home/datasets/Project_data/val'\n",
    "num_train_sequences = len(train_doc)\n",
    "print('# training sequences =', num_train_sequences)\n",
    "num_val_sequences = len(val_doc)\n",
    "print('# validation sequences =', num_val_sequences)\n",
    "num_epochs = 20\n",
    "print ('# epochs =', num_epochs)\n",
    "batch_size = 5\n",
    "print('# batch_size =',batch_size)"
   ]
  },
  {
   "cell_type": "code",
   "execution_count": 145,
   "metadata": {},
   "outputs": [],
   "source": [
    "input_shape = (18,120,120,3)"
   ]
  },
  {
   "cell_type": "code",
   "execution_count": 147,
   "metadata": {},
   "outputs": [],
   "source": [
    "# Model Building\n",
    "model12_tl = Sequential()\n",
    "\n",
    "model12_tl.add(TimeDistributed(mobilenet_transfer, input_shape=input_shape))\n",
    "\n",
    "model12_tl.add(TimeDistributed(BatchNormalization()))\n",
    "model12_tl.add(TimeDistributed(MaxPooling2D((2, 2))))\n",
    "\n",
    "model12_tl.add(TimeDistributed(Flatten()))\n",
    "\n",
    "model12_tl.add(GRU(128))\n",
    "model12_tl.add(Dropout(0.25))\n",
    "\n",
    "model12_tl.add(Dense(128,activation='relu'))\n",
    "model12_tl.add(Dropout(0.25))\n",
    "\n",
    "model12_tl.add(Dense(5, activation='softmax'))"
   ]
  },
  {
   "cell_type": "code",
   "execution_count": 148,
   "metadata": {},
   "outputs": [
    {
     "name": "stdout",
     "output_type": "stream",
     "text": [
      "Model: \"sequential_20\"\n",
      "_________________________________________________________________\n",
      " Layer (type)                Output Shape              Param #   \n",
      "=================================================================\n",
      " time_distributed_141 (TimeD  (None, 18, 3, 3, 1024)   3228864   \n",
      " istributed)                                                     \n",
      "                                                                 \n",
      " time_distributed_142 (TimeD  (None, 18, 3, 3, 1024)   4096      \n",
      " istributed)                                                     \n",
      "                                                                 \n",
      " time_distributed_143 (TimeD  (None, 18, 1, 1, 1024)   0         \n",
      " istributed)                                                     \n",
      "                                                                 \n",
      " time_distributed_144 (TimeD  (None, 18, 1024)         0         \n",
      " istributed)                                                     \n",
      "                                                                 \n",
      " gru_8 (GRU)                 (None, 128)               443136    \n",
      "                                                                 \n",
      " dropout_37 (Dropout)        (None, 128)               0         \n",
      "                                                                 \n",
      " dense_43 (Dense)            (None, 128)               16512     \n",
      "                                                                 \n",
      " dropout_38 (Dropout)        (None, 128)               0         \n",
      "                                                                 \n",
      " dense_44 (Dense)            (None, 5)                 645       \n",
      "                                                                 \n",
      "=================================================================\n",
      "Total params: 3,693,253\n",
      "Trainable params: 3,669,317\n",
      "Non-trainable params: 23,936\n",
      "_________________________________________________________________\n",
      "None\n"
     ]
    }
   ],
   "source": [
    "# Writing optimizer and compiling the model\n",
    "optimiser = optimizers.Adam()\n",
    "model12_tl.compile(optimizer=optimiser, loss='categorical_crossentropy', metrics=['categorical_accuracy'])\n",
    "print (model12_tl.summary())"
   ]
  },
  {
   "cell_type": "code",
   "execution_count": 149,
   "metadata": {},
   "outputs": [],
   "source": [
    "train_generator = generator11_tl(train_path, train_doc, batch_size)\n",
    "val_generator = generator11_tl(val_path, val_doc, batch_size)"
   ]
  },
  {
   "cell_type": "code",
   "execution_count": 150,
   "metadata": {},
   "outputs": [],
   "source": [
    "model_name = 'model12_init' + '_' + str(curr_dt_time).replace(' ','').replace(':','_') + '/'\n",
    "    \n",
    "if not os.path.exists(model_name):\n",
    "    os.mkdir(model_name)\n",
    "        \n",
    "filepath = model_name + 'model12-{epoch:05d}-{loss:.5f}-{categorical_accuracy:.5f}-{loss:.5f}-{categorical_accuracy:.5f}.h5'\n",
    "\n",
    "checkpoint = ModelCheckpoint(filepath, monitor='loss', verbose=1, save_best_only=False, save_weights_only=False, mode='auto', save_freq='epoch')\n",
    "\n",
    "# write the REducelronplateau code here\n",
    "LR = ReduceLROnPlateau(monitor='val_loss', factor=0.2, patience=4, verbose =1 )\n",
    "\n",
    "callbacks_list = [checkpoint, LR]"
   ]
  },
  {
   "cell_type": "code",
   "execution_count": 151,
   "metadata": {},
   "outputs": [],
   "source": [
    "if (num_train_sequences%batch_size) == 0:\n",
    "    steps_per_epoch = int(num_train_sequences/batch_size)\n",
    "else:\n",
    "    steps_per_epoch = (num_train_sequences//batch_size) + 1\n",
    "\n",
    "if (num_val_sequences%batch_size) == 0:\n",
    "    validation_steps = int(num_val_sequences/batch_size)\n",
    "else:\n",
    "    validation_steps = (num_val_sequences//batch_size) + 1"
   ]
  },
  {
   "cell_type": "code",
   "execution_count": 152,
   "metadata": {},
   "outputs": [
    {
     "name": "stdout",
     "output_type": "stream",
     "text": [
      "Source path =  /home/datasets/Project_data/train ; batch size = 5\n",
      "Epoch 1/20\n",
      "133/133 [==============================] - ETA: 0s - loss: 1.1407 - categorical_accuracy: 0.5566Source path =  /home/datasets/Project_data/val ; batch size = 5\n",
      "\n",
      "Epoch 00001: saving model to model12_init_2023-11-2708_43_45.072801/model12-00001-1.14069-0.55656-1.14069-0.55656.h5\n",
      "133/133 [==============================] - 35s 232ms/step - loss: 1.1407 - categorical_accuracy: 0.5566 - val_loss: 0.7149 - val_categorical_accuracy: 0.7500 - lr: 0.0010\n",
      "Epoch 2/20\n",
      "133/133 [==============================] - ETA: 0s - loss: 0.5813 - categorical_accuracy: 0.8220\n",
      "Epoch 00002: saving model to model12_init_2023-11-2708_43_45.072801/model12-00002-0.58129-0.82202-0.58129-0.82202.h5\n",
      "133/133 [==============================] - 29s 222ms/step - loss: 0.5813 - categorical_accuracy: 0.8220 - val_loss: 0.6814 - val_categorical_accuracy: 0.7500 - lr: 0.0010\n",
      "Epoch 3/20\n",
      "133/133 [==============================] - ETA: 0s - loss: 0.5343 - categorical_accuracy: 0.8446\n",
      "Epoch 00003: saving model to model12_init_2023-11-2708_43_45.072801/model12-00003-0.53431-0.84465-0.53431-0.84465.h5\n",
      "133/133 [==============================] - 29s 221ms/step - loss: 0.5343 - categorical_accuracy: 0.8446 - val_loss: 0.5847 - val_categorical_accuracy: 0.7900 - lr: 0.0010\n",
      "Epoch 4/20\n",
      "133/133 [==============================] - ETA: 0s - loss: 0.4330 - categorical_accuracy: 0.8673\n",
      "Epoch 00004: saving model to model12_init_2023-11-2708_43_45.072801/model12-00004-0.43297-0.86727-0.43297-0.86727.h5\n",
      "133/133 [==============================] - 28s 214ms/step - loss: 0.4330 - categorical_accuracy: 0.8673 - val_loss: 0.6672 - val_categorical_accuracy: 0.7600 - lr: 0.0010\n",
      "Epoch 5/20\n",
      "133/133 [==============================] - ETA: 0s - loss: 0.3861 - categorical_accuracy: 0.8839\n",
      "Epoch 00005: saving model to model12_init_2023-11-2708_43_45.072801/model12-00005-0.38608-0.88386-0.38608-0.88386.h5\n",
      "133/133 [==============================] - 29s 221ms/step - loss: 0.3861 - categorical_accuracy: 0.8839 - val_loss: 0.3152 - val_categorical_accuracy: 0.8800 - lr: 0.0010\n",
      "Epoch 6/20\n",
      "133/133 [==============================] - ETA: 0s - loss: 0.2579 - categorical_accuracy: 0.9276\n",
      "Epoch 00006: saving model to model12_init_2023-11-2708_43_45.072801/model12-00006-0.25793-0.92760-0.25793-0.92760.h5\n",
      "133/133 [==============================] - 29s 220ms/step - loss: 0.2579 - categorical_accuracy: 0.9276 - val_loss: 0.6327 - val_categorical_accuracy: 0.8000 - lr: 0.0010\n",
      "Epoch 7/20\n",
      "133/133 [==============================] - ETA: 0s - loss: 0.2899 - categorical_accuracy: 0.9155\n",
      "Epoch 00007: saving model to model12_init_2023-11-2708_43_45.072801/model12-00007-0.28988-0.91554-0.28988-0.91554.h5\n",
      "133/133 [==============================] - 28s 211ms/step - loss: 0.2899 - categorical_accuracy: 0.9155 - val_loss: 0.4729 - val_categorical_accuracy: 0.8100 - lr: 0.0010\n",
      "Epoch 8/20\n",
      "133/133 [==============================] - ETA: 0s - loss: 0.2776 - categorical_accuracy: 0.9246\n",
      "Epoch 00008: saving model to model12_init_2023-11-2708_43_45.072801/model12-00008-0.27757-0.92459-0.27757-0.92459.h5\n",
      "133/133 [==============================] - 30s 223ms/step - loss: 0.2776 - categorical_accuracy: 0.9246 - val_loss: 0.4854 - val_categorical_accuracy: 0.8500 - lr: 0.0010\n",
      "Epoch 9/20\n",
      "133/133 [==============================] - ETA: 0s - loss: 0.3954 - categorical_accuracy: 0.8914\n",
      "Epoch 00009: saving model to model12_init_2023-11-2708_43_45.072801/model12-00009-0.39541-0.89140-0.39541-0.89140.h5\n",
      "\n",
      "Epoch 00009: ReduceLROnPlateau reducing learning rate to 0.00020000000949949026.\n",
      "133/133 [==============================] - 28s 212ms/step - loss: 0.3954 - categorical_accuracy: 0.8914 - val_loss: 0.8883 - val_categorical_accuracy: 0.7300 - lr: 0.0010\n",
      "Epoch 10/20\n",
      "133/133 [==============================] - ETA: 0s - loss: 0.1711 - categorical_accuracy: 0.9563\n",
      "Epoch 00010: saving model to model12_init_2023-11-2708_43_45.072801/model12-00010-0.17112-0.95626-0.17112-0.95626.h5\n",
      "133/133 [==============================] - 29s 216ms/step - loss: 0.1711 - categorical_accuracy: 0.9563 - val_loss: 0.1341 - val_categorical_accuracy: 0.9400 - lr: 2.0000e-04\n",
      "Epoch 11/20\n",
      "133/133 [==============================] - ETA: 0s - loss: 0.1382 - categorical_accuracy: 0.9638\n",
      "Epoch 00011: saving model to model12_init_2023-11-2708_43_45.072801/model12-00011-0.13821-0.96380-0.13821-0.96380.h5\n",
      "133/133 [==============================] - 29s 219ms/step - loss: 0.1382 - categorical_accuracy: 0.9638 - val_loss: 0.1355 - val_categorical_accuracy: 0.9600 - lr: 2.0000e-04\n",
      "Epoch 12/20\n",
      "133/133 [==============================] - ETA: 0s - loss: 0.0759 - categorical_accuracy: 0.9804\n",
      "Epoch 00012: saving model to model12_init_2023-11-2708_43_45.072801/model12-00012-0.07586-0.98039-0.07586-0.98039.h5\n",
      "133/133 [==============================] - 29s 218ms/step - loss: 0.0759 - categorical_accuracy: 0.9804 - val_loss: 0.1438 - val_categorical_accuracy: 0.9500 - lr: 2.0000e-04\n",
      "Epoch 13/20\n",
      "133/133 [==============================] - ETA: 0s - loss: 0.0510 - categorical_accuracy: 0.9849\n",
      "Epoch 00013: saving model to model12_init_2023-11-2708_43_45.072801/model12-00013-0.05104-0.98492-0.05104-0.98492.h5\n",
      "133/133 [==============================] - 28s 214ms/step - loss: 0.0510 - categorical_accuracy: 0.9849 - val_loss: 0.1474 - val_categorical_accuracy: 0.9300 - lr: 2.0000e-04\n",
      "Epoch 14/20\n",
      "133/133 [==============================] - ETA: 0s - loss: 0.0364 - categorical_accuracy: 0.9910\n",
      "Epoch 00014: saving model to model12_init_2023-11-2708_43_45.072801/model12-00014-0.03645-0.99095-0.03645-0.99095.h5\n",
      "133/133 [==============================] - 28s 209ms/step - loss: 0.0364 - categorical_accuracy: 0.9910 - val_loss: 0.1219 - val_categorical_accuracy: 0.9700 - lr: 2.0000e-04\n",
      "Epoch 15/20\n",
      "133/133 [==============================] - ETA: 0s - loss: 0.0350 - categorical_accuracy: 0.9894\n",
      "Epoch 00015: saving model to model12_init_2023-11-2708_43_45.072801/model12-00015-0.03497-0.98944-0.03497-0.98944.h5\n",
      "133/133 [==============================] - 28s 214ms/step - loss: 0.0350 - categorical_accuracy: 0.9894 - val_loss: 0.1738 - val_categorical_accuracy: 0.9300 - lr: 2.0000e-04\n",
      "Epoch 16/20\n",
      "133/133 [==============================] - ETA: 0s - loss: 0.0330 - categorical_accuracy: 0.9910\n",
      "Epoch 00016: saving model to model12_init_2023-11-2708_43_45.072801/model12-00016-0.03300-0.99095-0.03300-0.99095.h5\n",
      "133/133 [==============================] - 28s 209ms/step - loss: 0.0330 - categorical_accuracy: 0.9910 - val_loss: 0.2372 - val_categorical_accuracy: 0.9200 - lr: 2.0000e-04\n",
      "Epoch 17/20\n",
      "133/133 [==============================] - ETA: 0s - loss: 0.0227 - categorical_accuracy: 0.9940\n",
      "Epoch 00017: saving model to model12_init_2023-11-2708_43_45.072801/model12-00017-0.02267-0.99397-0.02267-0.99397.h5\n",
      "133/133 [==============================] - 27s 206ms/step - loss: 0.0227 - categorical_accuracy: 0.9940 - val_loss: 0.1450 - val_categorical_accuracy: 0.9600 - lr: 2.0000e-04\n",
      "Epoch 18/20\n",
      "133/133 [==============================] - ETA: 0s - loss: 0.0241 - categorical_accuracy: 0.9894\n",
      "Epoch 00018: saving model to model12_init_2023-11-2708_43_45.072801/model12-00018-0.02413-0.98944-0.02413-0.98944.h5\n",
      "\n",
      "Epoch 00018: ReduceLROnPlateau reducing learning rate to 4.0000001899898055e-05.\n",
      "133/133 [==============================] - 28s 212ms/step - loss: 0.0241 - categorical_accuracy: 0.9894 - val_loss: 0.1606 - val_categorical_accuracy: 0.9500 - lr: 2.0000e-04\n",
      "Epoch 19/20\n",
      "133/133 [==============================] - ETA: 0s - loss: 0.0093 - categorical_accuracy: 0.9985\n",
      "Epoch 00019: saving model to model12_init_2023-11-2708_43_45.072801/model12-00019-0.00926-0.99849-0.00926-0.99849.h5\n",
      "133/133 [==============================] - 28s 210ms/step - loss: 0.0093 - categorical_accuracy: 0.9985 - val_loss: 0.2264 - val_categorical_accuracy: 0.9300 - lr: 4.0000e-05\n",
      "Epoch 20/20\n",
      "133/133 [==============================] - ETA: 0s - loss: 0.0175 - categorical_accuracy: 0.9955\n",
      "Epoch 00020: saving model to model12_init_2023-11-2708_43_45.072801/model12-00020-0.01745-0.99548-0.01745-0.99548.h5\n",
      "133/133 [==============================] - 28s 214ms/step - loss: 0.0175 - categorical_accuracy: 0.9955 - val_loss: 0.1558 - val_categorical_accuracy: 0.9600 - lr: 4.0000e-05\n"
     ]
    }
   ],
   "source": [
    "history = model12_tl.fit(train_generator, \n",
    "                          steps_per_epoch=steps_per_epoch,\n",
    "                          epochs=num_epochs, \n",
    "                          verbose=1, \n",
    "                          callbacks=callbacks_list, \n",
    "                          validation_data=val_generator, \n",
    "                          validation_steps=validation_steps, \n",
    "                          class_weight=None, \n",
    "                          workers=1, \n",
    "                          initial_epoch=0)"
   ]
  },
  {
   "cell_type": "markdown",
   "metadata": {},
   "source": [
    "**Let us plot the model12**\t"
   ]
  },
  {
   "cell_type": "code",
   "execution_count": 153,
   "metadata": {},
   "outputs": [
    {
     "data": {
      "image/png": "[encoded data removed]",
      "text/plain": [
       "<Figure size 432x288 with 1 Axes>"
      ]
     },
     "metadata": {
      "needs_background": "light"
     },
     "output_type": "display_data"
    },
    {
     "data": {
      "image/png": "[encoded data removed]",
      "text/plain": [
       "<Figure size 432x288 with 1 Axes>"
      ]
     },
     "metadata": {
      "needs_background": "light"
     },
     "output_type": "display_data"
    }
   ],
   "source": [
    "# Plotting model accuracy history\n",
    "plt.plot(history.history['categorical_accuracy'], 'o-')\n",
    "plt.plot(history.history['val_categorical_accuracy'], 'o-')\n",
    "plt.title('Model12 Accuracy')\n",
    "plt.ylabel('Accuracy')\n",
    "plt.xlabel('Epoch')\n",
    "plt.legend(['train', 'test'], loc='upper left')\n",
    "plt.show()\n",
    "\n",
    "# Plotting model loss history\n",
    "plt.plot(history.history['loss'], 'o-')\n",
    "plt.plot(history.history['val_loss'], 'o-')\n",
    "plt.title('Model12 loss')\n",
    "plt.ylabel('loss')\n",
    "plt.xlabel('epoch')\n",
    "plt.legend(['train', 'test'], loc='upper left')\n",
    "plt.show()"
   ]
  },
  {
   "cell_type": "markdown",
   "metadata": {},
   "source": [
    "This model has given us the test accuracy of 99.55% and validation accuracy of 96% which is the best accuracry among all other models.\n",
    "\n",
    "# <u>Final Model Selection </u>\n",
    "\n",
    "As we have seen the last Model12 has given us the best training accuracy as well as the best test accuracy.\n",
    "Hence, marking the model `model12-00020-0.01745-0.99548-0.01745-0.99548.h5` as the final one.\n",
    "\n",
    "Thank you."
   ]
  }
 ],
 "metadata": {
  "kernelspec": {
   "display_name": "Python 3 (ipykernel)",
   "language": "python",
   "name": "python3"
  },
  "language_info": {
   "codemirror_mode": {
    "name": "ipython",
    "version": 3
   },
   "file_extension": ".py",
   "mimetype": "text/x-python",
   "name": "python",
   "nbconvert_exporter": "python",
   "pygments_lexer": "ipython3",
   "version": "3.8.10"
  }
 },
 "nbformat": 4,
 "nbformat_minor": 4
}
